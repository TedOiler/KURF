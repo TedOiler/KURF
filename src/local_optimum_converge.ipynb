{
 "cells": [
  {
   "cell_type": "markdown",
   "metadata": {
    "pycharm": {
     "name": "#%% md\n"
    }
   },
   "source": [
    "The Bayesian Optimisation for 2 dimensional input data and its convergence situation to the local optimum initial samples\n",
    "\n",
    "We are using the bell curve function as the objective function\n"
   ]
  },
  {
   "cell_type": "code",
   "execution_count": null,
   "outputs": [],
   "source": [
    "import numpy as np\n",
    "from matplotlib import pyplot as plt\n",
    "import simple_GP_temperature.helper_sklearn as helper\n",
    "from simple_GP_temperature.bell_curve import Bellcurve\n",
    "from simple_GP_temperature.non_convex_function import NonConvexFunction\n",
    "from simple_GP_temperature.random_initial_2d import RandomInit2D\n",
    "from simple_GP_temperature.BO_GP_temperature import BOTemperatureGP\n",
    "import simple_GP_temperature.visualisation_helper as visual_helper\n",
    "from simple_GP_temperature.local_optima_initial_non_convex_2d import LocalOptimaInit2DNonConvex\n",
    "from tqdm import tqdm\n"
   ],
   "metadata": {
    "collapsed": false,
    "pycharm": {
     "name": "#%%\n"
    }
   }
  },
  {
   "cell_type": "markdown",
   "source": [
    "Random Initial Sampling"
   ],
   "metadata": {
    "collapsed": false,
    "pycharm": {
     "name": "#%% md\n"
    }
   }
  },
  {
   "cell_type": "code",
   "execution_count": null,
   "outputs": [],
   "source": [
    "random2d = RandomInit2D()\n",
    "objective = NonConvexFunction()\n",
    "initial_sample_size = 8"
   ],
   "metadata": {
    "collapsed": false,
    "pycharm": {
     "name": "#%%\n"
    }
   }
  },
  {
   "cell_type": "code",
   "execution_count": null,
   "outputs": [],
   "source": [
    "bayes_opt_random = BOTemperatureGP(evaluation_component=objective, initial_method=random2d, lower_bound=[-10,-10], upper_bound=[10,10], total_iter=50)"
   ],
   "metadata": {
    "collapsed": false,
    "pycharm": {
     "name": "#%%\n"
    }
   }
  },
  {
   "cell_type": "code",
   "execution_count": null,
   "outputs": [],
   "source": [
    "random_mappings_lst=[]\n",
    "for i in tqdm(range(30)):\n",
    "    random_mappings_lst.append(bayes_opt_random.optimise())"
   ],
   "metadata": {
    "collapsed": false,
    "pycharm": {
     "name": "#%%\n"
    }
   }
  },
  {
   "cell_type": "code",
   "execution_count": null,
   "outputs": [],
   "source": [
    "local_optima_init=LocalOptimaInit2DNonConvex()"
   ],
   "metadata": {
    "collapsed": false,
    "pycharm": {
     "name": "#%%\n"
    }
   }
  },
  {
   "cell_type": "code",
   "execution_count": null,
   "outputs": [],
   "source": [
    "bayes_opt_local_opt = BOTemperatureGP(evaluation_component=objective, initial_method=local_optima_init, lower_bound=[-10,-10], upper_bound=[10,10], total_iter=50)"
   ],
   "metadata": {
    "collapsed": false,
    "pycharm": {
     "name": "#%%\n"
    }
   }
  },
  {
   "cell_type": "code",
   "execution_count": null,
   "outputs": [],
   "source": [
    "local_opt_mappings_lst=[]\n",
    "for i in tqdm(range(30)):\n",
    "    local_opt_mappings_lst.append(bayes_opt_local_opt.optimise())"
   ],
   "metadata": {
    "collapsed": false,
    "pycharm": {
     "name": "#%%\n"
    }
   }
  },
  {
   "cell_type": "code",
   "execution_count": null,
   "outputs": [],
   "source": [
    "def find_stable_point(data_dict, start_index, threshold):\n",
    "     # Convert the dictionary to a list of items, sorted by the keys\n",
    "     data_list = sorted(list(data_dict.items()))\n",
    "     # Start from the given index\n",
    "     for i in range(start_index, len(data_list)-1):\n",
    "         # Calculate the difference between the current and next value\n",
    "         if i+3 <= len(data_list)-1:\n",
    "             difference = abs(((data_list[i][1]-data_list[i+1][1])+(data_list[i+1][1] - data_list[i+2][1])+(data_list[i+2][1]-data_list[i+3][1]))/3)\n",
    "         else:\n",
    "             difference = threshold+1\n",
    "         # If the difference is below the threshold, return the current index\n",
    "         if difference < threshold:\n",
    "             return i\n",
    "\n",
    "     # If no stable point was found, return None\n",
    "     return None"
   ],
   "metadata": {
    "collapsed": false,
    "pycharm": {
     "name": "#%%\n"
    }
   }
  },
  {
   "cell_type": "code",
   "execution_count": null,
   "outputs": [],
   "source": [
    "threshold = 0.1\n",
    "converge_iter_num_lst = []\n",
    "for local_opt_mappings in local_opt_mappings_lst:\n",
    "    converge_iter_num_lst.append(find_stable_point(local_opt_mappings, initial_sample_size, threshold))"
   ],
   "metadata": {
    "collapsed": false,
    "pycharm": {
     "name": "#%%\n"
    }
   }
  },
  {
   "cell_type": "code",
   "execution_count": null,
   "outputs": [],
   "source": [
    "converge_iter_num_lst_random = []\n",
    "for random_mappings in random_mappings_lst:\n",
    "    converge_iter_num_lst_random.append(find_stable_point(random_mappings, initial_sample_size, threshold))"
   ],
   "metadata": {
    "collapsed": false,
    "pycharm": {
     "name": "#%%\n"
    }
   }
  },
  {
   "cell_type": "code",
   "execution_count": null,
   "outputs": [],
   "source": [
    "import seaborn as sns\n",
    "import numpy as np\n",
    "from scipy.stats import norm\n",
    "numbers = converge_iter_num_lst\n",
    "plt.hist(numbers, bins=30, density=True, alpha=0.6, color='g')\n",
    " # Create a normal distribution line\n",
    "xmin, xmax = plt.xlim()\n",
    "x = np.linspace(xmin, xmax, 100)\n",
    "p = np.exp(-np.power((x - np.mean(numbers)), 2) / (2 * np.std(numbers) ** 2)) / (np.sqrt(2 * np.pi) * np.std(numbers))\n",
    "plt.plot(x, p, 'k', linewidth=2)\n",
    "plt.title(\"Normal Distribution Local Optima\")\n",
    "plt.show()"
   ],
   "metadata": {
    "collapsed": false,
    "pycharm": {
     "name": "#%%\n"
    }
   }
  },
  {
   "cell_type": "code",
   "execution_count": null,
   "outputs": [],
   "source": [
    "import seaborn as sns\n",
    "import numpy as np\n",
    "from scipy.stats import norm\n",
    "numbers = list(filter(None, converge_iter_num_lst_random))\n",
    "plt.hist(numbers, bins=30, density=True, alpha=0.6, color='g')\n",
    " # Create a normal distribution line\n",
    "xmin, xmax = plt.xlim()\n",
    "x = np.linspace(xmin, xmax, 100)\n",
    "p = np.exp(-np.power((x - np.mean(numbers)), 2) / (2 * np.std(numbers) ** 2)) / (np.sqrt(2 * np.pi) * np.std(numbers))\n",
    "plt.plot(x, p, 'k', linewidth=2)\n",
    "plt.title(\"Normal Distribution Random Initialisation\")\n",
    "plt.show()"
   ],
   "metadata": {
    "collapsed": false,
    "pycharm": {
     "name": "#%%\n"
    }
   }
  },
  {
   "cell_type": "code",
   "execution_count": 17,
   "metadata": {},
   "outputs": [
    {
     "data": {
      "image/png": "[encoded data removed]",
      "text/plain": [
       "<Figure size 640x480 with 1 Axes>"
      ]
     },
     "metadata": {},
     "output_type": "display_data"
    }
   ],
   "source": [
    "import seaborn as sns\n",
    "import numpy as np\n",
    "from scipy.stats import norm\n",
    "numbers = list(filter(None, converge_iter_num_lst_random))\n",
    "plt.hist(numbers, bins=30, density=True, alpha=0.6, color='g')\n",
    " # Create a normal distribution line\n",
    "xmin, xmax = plt.xlim()\n",
    "x = np.linspace(xmin, xmax, 100)\n",
    "p = np.exp(-np.power((x - np.mean(numbers)), 2) / (2 * np.std(numbers) ** 2)) / (np.sqrt(2 * np.pi) * np.std(numbers))\n",
    "plt.plot(x, p, 'k', linewidth=2)\n",
    "plt.title(\"Normal Distribution Random Initialisation\")\n",
    "plt.show()"
   ]
  }
 ],
 "metadata": {
  "kernelspec": {
   "display_name": "Python 3 (ipykernel)",
   "language": "python",
   "name": "python3"
  },
  "language_info": {
   "codemirror_mode": {
    "name": "ipython",
    "version": 3
   },
   "file_extension": ".py",
   "mimetype": "text/x-python",
   "name": "python",
   "nbconvert_exporter": "python",
   "pygments_lexer": "ipython3",
   "version": "3.9.14"
  }
 },
 "nbformat": 4,
 "nbformat_minor": 1
}