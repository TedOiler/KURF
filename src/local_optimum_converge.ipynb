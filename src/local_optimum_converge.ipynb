{
 "cells": [
  {
   "cell_type": "markdown",
   "metadata": {
    "pycharm": {
     "name": "#%% md\n"
    }
   },
   "source": [
    "The Bayesian Optimisation for 2 dimensional input data and its convergence situation to the local optimum initial samples\n",
    "\n",
    "We are using the bell curve function as the objective function\n"
   ]
  },
  {
   "cell_type": "code",
   "execution_count": 1,
   "metadata": {
    "pycharm": {
     "name": "#%%\n"
    }
   },
   "outputs": [],
   "source": [
    "import numpy as np\n",
    "from matplotlib import pyplot as plt\n",
    "import simple_GP_temperature.helper_sklearn as helper\n",
    "from simple_GP_temperature.bell_curve import Bellcurve\n",
    "from simple_GP_temperature.non_convex_function import NonConvexFunction\n",
    "from simple_GP_temperature.random_initial_2d import RandomInit2D\n",
    "from simple_GP_temperature.BO_GP_temperature import BOTemperatureGP\n",
    "import simple_GP_temperature.visualisation_helper as visual_helper\n",
    "from simple_GP_temperature.local_optima_initial_non_convex_2d import LocalOptimaInit2DNonConvex\n",
    "from tqdm import tqdm\n"
   ]
  },
  {
   "cell_type": "markdown",
   "metadata": {
    "pycharm": {
     "name": "#%% md\n"
    }
   },
   "source": [
    "Random Initial Sampling"
   ]
  },
  {
   "cell_type": "code",
   "execution_count": 2,
   "metadata": {},
   "outputs": [],
   "source": [
    "random2d = RandomInit2D()\n",
    "objective = NonConvexFunction()\n",
    "initial_sample_size = 8"
   ]
  },
  {
   "cell_type": "code",
   "execution_count": 3,
   "metadata": {},
   "outputs": [],
   "source": [
    "bayes_opt_random = BOTemperatureGP(evaluation_component=objective, initial_method=random2d, lower_bound=[-10,-10], upper_bound=[10,10], total_iter=50)"
   ]
  },
  {
   "cell_type": "code",
   "execution_count": 4,
   "metadata": {},
   "outputs": [
    {
     "name": "stderr",
     "output_type": "stream",
     "text": [
      "100%|███████████████████████████████████████████████████████████████████████████████████| 30/30 [04:07<00:00,  8.24s/it]\n"
     ]
    }
   ],
   "source": [
    "random_mappings_lst=[]\n",
    "for i in tqdm(range(30)):\n",
    "    random_mappings_lst.append(bayes_opt_random.optimise())"
   ]
  },
  {
   "cell_type": "code",
   "execution_count": 5,
   "metadata": {},
   "outputs": [],
   "source": [
    "local_optima_init=LocalOptimaInit2DNonConvex()"
   ]
  },
  {
   "cell_type": "code",
   "execution_count": 7,
   "metadata": {},
   "outputs": [],
   "source": [
    "bayes_opt_local_opt = BOTemperatureGP(evaluation_component=objective, initial_method=local_optima_init, lower_bound=[-10,-10], upper_bound=[10,10], total_iter=50)"
   ]
  },
  {
   "cell_type": "code",
   "execution_count": 8,
   "metadata": {},
   "outputs": [
    {
     "name": "stderr",
     "output_type": "stream",
     "text": [
      "100%|███████████████████████████████████████████████████████████████████████████████████| 30/30 [03:51<00:00,  7.70s/it]\n"
     ]
    }
   ],
   "source": [
    "local_opt_mappings_lst=[]\n",
    "for i in tqdm(range(30)):\n",
    "    local_opt_mappings_lst.append(bayes_opt_local_opt.optimise())"
   ]
  },
  {
   "cell_type": "code",
   "execution_count": 9,
   "metadata": {},
   "outputs": [],
   "source": [
    "def find_stable_point(data_dict, start_index, threshold):\n",
    "     # Convert the dictionary to a list of items, sorted by the keys\n",
    "     data_list = sorted(list(data_dict.items()))\n",
    "     # Start from the given index\n",
    "     for i in range(start_index, len(data_list)-1):\n",
    "         # Calculate the difference between the current and next value\n",
    "         if i+3 <= len(data_list)-1:\n",
    "             difference = abs(((data_list[i][1]-data_list[i+1][1])+(data_list[i+1][1] - data_list[i+2][1])+(data_list[i+2][1]-data_list[i+3][1]))/3)\n",
    "         else:\n",
    "             difference = threshold+1\n",
    "         # If the difference is below the threshold, return the current index\n",
    "         if difference < threshold:\n",
    "             return i\n",
    "\n",
    "     # If no stable point was found, return None\n",
    "     return None"
   ]
  },
  {
   "cell_type": "code",
   "execution_count": 10,
   "metadata": {},
   "outputs": [],
   "source": [
    "threshold = 0.1\n",
    "converge_iter_num_lst = []\n",
    "for local_opt_mappings in local_opt_mappings_lst:\n",
    "    converge_iter_num_lst.append(find_stable_point(local_opt_mappings, initial_sample_size, threshold))"
   ]
  },
  {
   "cell_type": "code",
   "execution_count": 11,
   "metadata": {},
   "outputs": [],
   "source": [
    "converge_iter_num_lst_random = []\n",
    "for random_mappings in random_mappings_lst:\n",
    "    converge_iter_num_lst_random.append(find_stable_point(random_mappings, initial_sample_size, threshold))"
   ]
  },
  {
   "cell_type": "code",
   "execution_count": 22,
   "metadata": {},
   "outputs": [
    {
     "data": {
      "text/plain": [
       "[21,\n",
       " None,\n",
       " 25,\n",
       " 26,\n",
       " None,\n",
       " None,\n",
       " 23,\n",
       " 14,\n",
       " 26,\n",
       " 27,\n",
       " 24,\n",
       " None,\n",
       " 23,\n",
       " None,\n",
       " 27,\n",
       " 26,\n",
       " 23,\n",
       " 26,\n",
       " 26,\n",
       " None,\n",
       " 26,\n",
       " 31,\n",
       " None,\n",
       " 15,\n",
       " 25,\n",
       " 26,\n",
       " 17,\n",
       " 25,\n",
       " 39,\n",
       " 25]"
      ]
     },
     "execution_count": 22,
     "metadata": {},
     "output_type": "execute_result"
    }
   ],
   "source": [
    "converge_iter_num_lst_random"
   ]
  },
  {
   "cell_type": "code",
   "execution_count": 13,
   "metadata": {
    "pycharm": {
     "name": "#%%\n"
    }
   },
   "outputs": [
    {
     "data": {
      "image/png": "[encoded data removed]",
      "text/plain": [
       "<Figure size 640x480 with 1 Axes>"
      ]
     },
     "metadata": {},
     "output_type": "display_data"
    }
   ],
   "source": [
    "import seaborn as sns\n",
    "import numpy as np\n",
    "from scipy.stats import norm\n",
    "numbers = converge_iter_num_lst\n",
    "plt.hist(numbers, bins=30, density=True, alpha=0.6, color='g')\n",
    " # Create a normal distribution line\n",
    "xmin, xmax = plt.xlim()\n",
    "x = np.linspace(xmin, xmax, 100)\n",
    "p = np.exp(-np.power((x - np.mean(numbers)), 2) / (2 * np.std(numbers) ** 2)) / (np.sqrt(2 * np.pi) * np.std(numbers))\n",
    "plt.plot(x, p, 'k', linewidth=2)\n",
    "plt.title(\"Normal Distribution Local Optima\")\n",
    "plt.show()"
   ]
  },
  {
   "cell_type": "code",
   "execution_count": 24,
   "metadata": {},
   "outputs": [
    {
     "data": {
      "image/png": "[encoded data removed]",
      "text/plain": [
       "<Figure size 640x480 with 1 Axes>"
      ]
     },
     "metadata": {},
     "output_type": "display_data"
    }
   ],
   "source": [
    "import seaborn as sns\n",
    "import numpy as np\n",
    "from scipy.stats import norm\n",
    "none_replacement = max([x for x in converge_iter_num_lst_random if x is not None]) * 2  # you can adjust this as needed\n",
    "replaced_list = [x if x is not None else none_replacement for x in converge_iter_num_lst_random]\n",
    "numbers = list(filter(None, replaced_list))\n",
    "plt.hist(numbers, bins=30, density=True, alpha=0.6, color='g')\n",
    " # Create a normal distribution line\n",
    "xmin, xmax = plt.xlim()\n",
    "x = np.linspace(xmin, xmax, 100)\n",
    "p = np.exp(-np.power((x - np.mean(numbers)), 2) / (2 * np.std(numbers) ** 2)) / (np.sqrt(2 * np.pi) * np.std(numbers))\n",
    "plt.plot(x, p, 'k', linewidth=2)\n",
    "plt.title(\"Normal Distribution Random Initialisation\")\n",
    "plt.show()"
   ]
  },
  {
   "cell_type": "code",
   "execution_count": null,
   "metadata": {},
   "outputs": [],
   "source": []
  }
 ],
 "metadata": {
  "kernelspec": {
   "display_name": "Python 3 (ipykernel)",
   "language": "python",
   "name": "python3"
  },
  "language_info": {
   "codemirror_mode": {
    "name": "ipython",
    "version": 3
   },
   "file_extension": ".py",
   "mimetype": "text/x-python",
   "name": "python",
   "nbconvert_exporter": "python",
   "pygments_lexer": "ipython3",
   "version": "3.9.14"
  }
 },
 "nbformat": 4,
 "nbformat_minor": 1
}
