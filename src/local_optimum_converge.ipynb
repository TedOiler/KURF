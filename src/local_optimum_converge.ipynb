{
 "cells": [
  {
   "cell_type": "markdown",
   "metadata": {
    "pycharm": {
     "name": "#%% md\n"
    }
   },
   "source": [
    "The Bayesian Optimisation for 2 dimensional input data and its convergence situation to the local optimum initial samples\n",
    "\n",
    "We are using the bell curve function as the objective function\n"
   ]
  },
  {
   "cell_type": "code",
   "execution_count": 2,
   "metadata": {
    "pycharm": {
     "is_executing": true,
     "name": "#%%\n"
    }
   },
   "outputs": [],
   "source": [
    "import numpy as np\n",
    "from matplotlib import pyplot as plt\n",
    "import simple_GP_temperature.helper_sklearn as helper\n",
    "from simple_GP_temperature.BO_GP_temperature import BOTemperatureGP\n",
    "from simple_GP_temperature.random_initial import RandomInit\n"
   ]
  },
  {
   "cell_type": "code",
   "execution_count": 3,
   "metadata": {
    "pycharm": {
     "name": "#%%\n"
    }
   },
   "outputs": [],
   "source": [
    "class Bellcurve:\n",
    "    def get_evaluation_score(self, X, noise_scale=0.01):\n",
    "        \"\"\"\n",
    "        Run the experiment with given conditions\n",
    "        :return: float The result(yield-e_factor) of experiment (round to 2 decimal places)\n",
    "        \"\"\"\n",
    "        noise = np.random.normal(loc=0, scale=noise_scale)\n",
    "        bellcurve = (4*np.exp(-X[0]**2) + 6*np.exp(-4*X[1]**2))\n",
    "\n",
    "        return bellcurve+noise\n"
   ]
  },
  {
   "cell_type": "code",
   "execution_count": 4,
   "metadata": {},
   "outputs": [],
   "source": [
    "class RandomInit2D:\n",
    "    def generate_initial_samples(self, low=[-5,-5], high=[5, 5], n=1):\n",
    "        X = helper.get_random_X(low=low, high=high, samples=n).flatten()\n",
    "        return X"
   ]
  },
  {
   "cell_type": "markdown",
   "metadata": {},
   "source": [
    "Random Initial Sampling"
   ]
  },
  {
   "cell_type": "code",
   "execution_count": 5,
   "metadata": {},
   "outputs": [],
   "source": [
    "random2d = RandomInit2D()"
   ]
  },
  {
   "cell_type": "code",
   "execution_count": 6,
   "metadata": {},
   "outputs": [],
   "source": [
    "objective = Bellcurve()"
   ]
  },
  {
   "cell_type": "code",
   "execution_count": 7,
   "metadata": {},
   "outputs": [],
   "source": [
    "bayes_opt = BOTemperatureGP(evaluation_component=objective, initial_method=random2d, lower_bound=[-5,-5], upper_bound=[5,5])"
   ]
  },
  {
   "cell_type": "code",
   "execution_count": 8,
   "metadata": {},
   "outputs": [
    {
     "name": "stdout",
     "output_type": "stream",
     "text": [
      "next sample to be evaluated: [ 0.54 -4.24], score: 2.9761389162641105\n",
      "next sample to be evaluated: [ 0.22 -3.72], score: 3.8211517341159973\n",
      "next sample to be evaluated: [-0.01 -3.49], score: 4.006593296056119\n",
      "next sample to be evaluated: [-0.19 -3.5 ], score: 3.8670024160780714\n",
      "next sample to be evaluated: [ 0.22 -3.33], score: 3.82067291074696\n",
      "next sample to be evaluated: [ 0.04 -3.38], score: 4.0000013812605495\n",
      "next sample to be evaluated: [-1.0658141e-13 -3.5400000e+00], score: 3.992608853896108\n",
      "next sample to be evaluated: [-0.04 -3.41], score: 4.003053144201008\n",
      "next sample to be evaluated: [-2.6  -4.43], score: -0.006027209611480284\n",
      "next sample to be evaluated: [3.97 4.72], score: 0.0008801025102975063\n",
      "next sample to be evaluated: [4.91 2.24], score: -0.0025309830095910126\n",
      "next sample to be evaluated: [1.35 4.9 ], score: 0.6482191443009664\n",
      "next sample to be evaluated: [-0.11  4.43], score: 3.9483594931097\n",
      "next sample to be evaluated: [-0.22  4.56], score: 3.825450682161425\n",
      "next sample to be evaluated: [-0.18  4.24], score: 3.8687601636547515\n",
      "next sample to be evaluated: [0.25 4.24], score: 3.7602426745592914\n",
      "next sample to be evaluated: [0.12 4.57], score: 3.9466479520402227\n",
      "next sample to be evaluated: [-0.02  3.44], score: 3.9942798646936852\n",
      "next sample to be evaluated: [-0.02  3.39], score: 3.9957649636151733\n",
      "next sample to be evaluated: [0.15 3.42], score: 3.9180391991300425\n",
      "next sample to be evaluated: [-0.05  4.86], score: 3.979034482503642\n",
      "next sample to be evaluated: [-0.2   2.82], score: 3.8351022483317525\n",
      "next sample to be evaluated: [-0.06  2.6 ], score: 3.989408522041606\n",
      "next sample to be evaluated: [-0.05  2.77], score: 3.99196680649536\n",
      "next sample to be evaluated: [0.26 2.58], score: 3.757617006174098\n",
      "next sample to be evaluated: [0.08 1.73], score: 3.972648856086763\n",
      "next sample to be evaluated: [-0.01  1.52], score: 4.0085462547532815\n",
      "next sample to be evaluated: [-0.13  2.15], score: 3.922249334444661\n",
      "next sample to be evaluated: [0.19 0.73], score: 4.566507743451557\n",
      "next sample to be evaluated: [0.03 0.62], score: 5.289059416428578\n",
      "next sample to be evaluated: [-0.36  0.07], score: 9.38345092567275\n",
      "next sample to be evaluated: [-0.89 -0.52], score: 3.849494285614245\n",
      "next sample to be evaluated: [-0.16 -0.23], score: 8.763376958385155\n",
      "next sample to be evaluated: [-0.97  0.4 ], score: 4.730837291430368\n",
      "next sample to be evaluated: [-0.33 -0.32], score: 7.59355824081499\n",
      "next sample to be evaluated: [ 0.98 -0.34], score: 5.310408869204007\n",
      "next sample to be evaluated: [-2.54 -0.93], score: 0.19142818161339456\n",
      "next sample to be evaluated: [-0.57  0.02], score: 8.888725655160462\n",
      "next sample to be evaluated: [1.55 1.07], score: 0.4157216707171129\n",
      "next sample to be evaluated: [-1.91 -2.02], score: 0.11487902246326415\n",
      "next sample to be evaluated: [ 0.01 -0.05], score: 9.92352488222885\n",
      "next sample to be evaluated: [ 0.41 -0.01], score: 9.364142996869212\n",
      "next sample to be evaluated: [ 2.35 -0.14], score: 5.554957735545747\n",
      "next sample to be evaluated: [1.88 3.48], score: 0.11193219472703447\n",
      "next sample to be evaluated: [ 2.7  -1.39], score: 0.009039727067151638\n",
      "next sample to be evaluated: [-2.99  1.11], score: 0.039161091869635456\n",
      "next sample to be evaluated: [3.22 0.84], score: 0.33683010645141814\n",
      "next sample to be evaluated: [-2.1   3.37], score: 0.05148074107445525\n",
      "next sample to be evaluated: [-4.19 -1.75], score: 0.004364726385574617\n",
      "next sample to be evaluated: [ 3.58 -4.93], score: -0.00582517848428573\n"
     ]
    }
   ],
   "source": [
    "mappings = bayes_opt.optimise()"
   ]
  },
  {
   "cell_type": "code",
   "execution_count": 10,
   "metadata": {},
   "outputs": [
    {
     "data": {
      "text/plain": [
       "dict"
      ]
     },
     "execution_count": 10,
     "metadata": {},
     "output_type": "execute_result"
    }
   ],
   "source": [
    "type(mappings)"
   ]
  },
  {
   "cell_type": "code",
   "execution_count": 12,
   "metadata": {},
   "outputs": [
    {
     "data": {
      "text/plain": [
       "[(0.6899999999998787, -4.470000000000011),\n",
       " (-4.800000000000004, -4.000000000000021),\n",
       " (0.5399999999998819, -4.240000000000016),\n",
       " (0.21999999999988873, -3.7200000000000273),\n",
       " (-0.010000000000106368, -3.490000000000032),\n",
       " (-0.19000000000010253, -3.500000000000032),\n",
       " (0.21999999999988873, -3.3300000000000356),\n",
       " (0.039999999999892566, -3.3800000000000345),\n",
       " (-1.0658141036401503e-13, -3.540000000000031),\n",
       " (-0.04000000000010573, -3.410000000000034),\n",
       " (-2.600000000000051, -4.430000000000012),\n",
       " (3.969999999999809, 4.719999999999793),\n",
       " (4.909999999999789, 2.2399999999998457),\n",
       " (1.3499999999998646, 4.899999999999789),\n",
       " (-0.11000000000010424, 4.429999999999799),\n",
       " (-0.2200000000001019, 4.559999999999796),\n",
       " (-0.18000000000010274, 4.239999999999803),\n",
       " (0.2499999999998881, 4.239999999999803),\n",
       " (0.11999999999989086, 4.569999999999796),\n",
       " (-0.020000000000106155, 3.43999999999982),\n",
       " (-0.020000000000106155, 3.389999999999821),\n",
       " (0.14999999999989022, 3.4199999999998205),\n",
       " (-0.050000000000105516, 4.85999999999979),\n",
       " (-0.20000000000010232, 2.8199999999998333),\n",
       " (-0.0600000000001053, 2.599999999999838),\n",
       " (-0.050000000000105516, 2.7699999999998344),\n",
       " (0.2599999999998879, 2.5799999999998384),\n",
       " (0.07999999999989171, 1.7299999999998565),\n",
       " (-0.010000000000106368, 1.519999999999861),\n",
       " (-0.1300000000001038, 2.1499999999998476),\n",
       " (0.18999999999988937, 0.7299999999998779),\n",
       " (0.02999999999989278, 0.6199999999998802),\n",
       " (-0.3600000000000989, 0.06999999999989193),\n",
       " (-0.8900000000000876, -0.5200000000000955),\n",
       " (-0.16000000000010317, -0.23000000000010168),\n",
       " (-0.9700000000000859, 0.3999999999998849),\n",
       " (-0.33000000000009955, -0.32000000000009976),\n",
       " (0.9799999999998725, -0.34000000000009933),\n",
       " (-2.5400000000000524, -0.9300000000000868),\n",
       " (-0.5700000000000944, 0.019999999999892992),\n",
       " (1.5499999999998604, 1.0699999999998706),\n",
       " (-1.9100000000000659, -2.0200000000000635),\n",
       " (0.009999999999893205, -0.050000000000105516),\n",
       " (0.4099999999998847, -0.010000000000106368),\n",
       " (2.3499999999998433, -0.1400000000001036),\n",
       " (1.8799999999998533, 3.4799999999998192),\n",
       " (2.699999999999836, -1.390000000000077),\n",
       " (-2.990000000000043, 1.1099999999998698),\n",
       " (3.219999999999825, 0.8399999999998755),\n",
       " (-2.100000000000062, 3.3699999999998216),\n",
       " (-4.190000000000017, -1.7500000000000693),\n",
       " (3.579999999999817, -4.9300000000000015)]"
      ]
     },
     "execution_count": 12,
     "metadata": {},
     "output_type": "execute_result"
    }
   ],
   "source": [
    "list(mappings.keys())"
   ]
  },
  {
   "cell_type": "code",
   "execution_count": 13,
   "metadata": {},
   "outputs": [
    {
     "data": {
      "text/plain": [
       "[2.4784298289926303,\n",
       " -0.011281642899068533,\n",
       " 2.9761389162641105,\n",
       " 3.8211517341159973,\n",
       " 4.006593296056119,\n",
       " 3.8670024160780714,\n",
       " 3.82067291074696,\n",
       " 4.0000013812605495,\n",
       " 3.992608853896108,\n",
       " 4.003053144201008,\n",
       " -0.006027209611480284,\n",
       " 0.0008801025102975063,\n",
       " -0.0025309830095910126,\n",
       " 0.6482191443009664,\n",
       " 3.9483594931097,\n",
       " 3.825450682161425,\n",
       " 3.8687601636547515,\n",
       " 3.7602426745592914,\n",
       " 3.9466479520402227,\n",
       " 3.9942798646936852,\n",
       " 3.9957649636151733,\n",
       " 3.9180391991300425,\n",
       " 3.979034482503642,\n",
       " 3.8351022483317525,\n",
       " 3.989408522041606,\n",
       " 3.99196680649536,\n",
       " 3.757617006174098,\n",
       " 3.972648856086763,\n",
       " 4.0085462547532815,\n",
       " 3.922249334444661,\n",
       " 4.566507743451557,\n",
       " 5.289059416428578,\n",
       " 9.38345092567275,\n",
       " 3.849494285614245,\n",
       " 8.763376958385155,\n",
       " 4.730837291430368,\n",
       " 7.59355824081499,\n",
       " 5.310408869204007,\n",
       " 0.19142818161339456,\n",
       " 8.888725655160462,\n",
       " 0.4157216707171129,\n",
       " 0.11487902246326415,\n",
       " 9.92352488222885,\n",
       " 9.364142996869212,\n",
       " 5.554957735545747,\n",
       " 0.11193219472703447,\n",
       " 0.009039727067151638,\n",
       " 0.039161091869635456,\n",
       " 0.33683010645141814,\n",
       " 0.05148074107445525,\n",
       " 0.004364726385574617,\n",
       " -0.00582517848428573]"
      ]
     },
     "execution_count": 13,
     "metadata": {},
     "output_type": "execute_result"
    }
   ],
   "source": [
    "list(mappings.values())"
   ]
  },
  {
   "cell_type": "code",
   "execution_count": null,
   "metadata": {},
   "outputs": [],
   "source": []
  }
 ],
 "metadata": {
  "kernelspec": {
   "display_name": "Python 3 (ipykernel)",
   "language": "python",
   "name": "python3"
  },
  "language_info": {
   "codemirror_mode": {
    "name": "ipython",
    "version": 3
   },
   "file_extension": ".py",
   "mimetype": "text/x-python",
   "name": "python",
   "nbconvert_exporter": "python",
   "pygments_lexer": "ipython3",
   "version": "3.9.14"
  }
 },
 "nbformat": 4,
 "nbformat_minor": 1
}
