{
 "cells": [
  {
   "cell_type": "markdown",
   "metadata": {},
   "source": [
    "The total experiments of local optima"
   ]
  },
  {
   "cell_type": "code",
   "execution_count": 9,
   "metadata": {},
   "outputs": [],
   "source": [
    "import numpy as np\n",
    "from matplotlib import pyplot as plt\n",
    "import simple_GP_temperature.helper_sklearn as helper\n",
    "from simple_GP_temperature.bell_curve import Bellcurve\n",
    "from simple_GP_temperature.non_convex_function import NonConvexFunction\n",
    "from simple_GP_temperature.ackley_function import AckleyFunction\n",
    "from simple_GP_temperature.schaffer_function import SchafferFunction\n",
    "from simple_GP_temperature.random_initial_2d import RandomInit2D\n",
    "from simple_GP_temperature.BO_GP_temperature import BOTemperatureGP\n",
    "from simple_GP_temperature.full_factorial_2d import FullFacInit2D\n",
    "from simple_GP_temperature.central_composite_initial_2d import CentralCompInit2D\n",
    "from simple_GP_temperature.local_optima_initial_non_convex_2d import LocalOptimaInit2DNonConvex\n",
    "from simple_GP_temperature.d_optimal_initial_2d import DOptimalInit2D\n",
    "import matplotlib.pyplot as plt\n",
    "from simple_GP_temperature.local_optima_initial_non_convex_2d import LocalOptimaInit2DNonConvex\n",
    "from simple_GP_temperature.helper_sklearn import opt_acq, acq_ei, acq_pi, acq_ucb\n",
    "from scipy.stats import norm\n",
    "from scipy.stats import ttest_ind\n",
    "from scipy.stats import entropy\n",
    "from scipy.stats import gaussian_kde\n",
    "from tqdm import tqdm"
   ]
  },
  {
   "cell_type": "code",
   "execution_count": 14,
   "metadata": {},
   "outputs": [],
   "source": [
    "# instantiate objective functions\n",
    "non_convex_func = NonConvexFunction()\n",
    "ackley_func = AckleyFunction()\n",
    "schaffer_func = SchafferFunction()"
   ]
  },
  {
   "cell_type": "markdown",
   "metadata": {},
   "source": [
    "Objective function: Ackley "
   ]
  },
  {
   "cell_type": "code",
   "execution_count": 22,
   "metadata": {},
   "outputs": [
    {
     "name": "stderr",
     "output_type": "stream",
     "text": [
      "100%|██████████| 12/12 [3:05:39<00:00, 928.28s/it] \n"
     ]
    }
   ],
   "source": [
    "random_init = LocalOptimaInit2DNonConvex(low=[3,3],high=[9,9])\n",
    "ff_init_8 = FullFacInit2D(low=3, high=9, levels=[2,4])\n",
    "ff_init_12 = FullFacInit2D(low=3, high=9, levels=[3,4])\n",
    "ff_init_14 = FullFacInit2D(low=3, high=9, levels=[2,7])\n",
    "ackley_experiments = {'ack_ei_8_ff': BOTemperatureGP(evaluation_component=ackley_func, initial_method=ff_init_8, \n",
    "                                      lower_bound=[-10,-10], upper_bound=[10,10], total_iter=150, initial_sample_size=8),\n",
    "                      'ack_ei_12_ff': BOTemperatureGP(evaluation_component=ackley_func, initial_method=ff_init_12, \n",
    "                                      lower_bound=[-10,-10], upper_bound=[10,10], total_iter=150, initial_sample_size=12),\n",
    "                      'ack_ei_14_ff': BOTemperatureGP(evaluation_component=ackley_func, initial_method=ff_init_14, \n",
    "                                      lower_bound=[-10,-10], upper_bound=[10,10], total_iter=150, initial_sample_size=14),\n",
    "                      'ack_pi_8_ff': BOTemperatureGP(evaluation_component=ackley_func, initial_method=ff_init_8, \n",
    "                                      lower_bound=[-10,-10], upper_bound=[10,10], total_iter=150, initial_sample_size=8, acq_function=acq_pi), \n",
    "                      'ack_pi_12_ff': BOTemperatureGP(evaluation_component=ackley_func, initial_method=ff_init_12,\n",
    "                                      lower_bound=[-10,-10], upper_bound=[10,10], total_iter=150, initial_sample_size=12, acq_function=acq_pi),\n",
    "                      'ack_pi_14_ff': BOTemperatureGP(evaluation_component=ackley_func, initial_method=ff_init_14, \n",
    "                                      lower_bound=[-10,-10], upper_bound=[10,10], total_iter=150, initial_sample_size=14, acq_function=acq_pi),\n",
    "                      'ack_ei_8_rd': BOTemperatureGP(evaluation_component=ackley_func, initial_method=random_init, \n",
    "                                      lower_bound=[-10,-10], upper_bound=[10,10], total_iter=150, initial_sample_size=8),\n",
    "                      'ack_ei_12_rd': BOTemperatureGP(evaluation_component=ackley_func, initial_method=random_init, \n",
    "                                      lower_bound=[-10,-10], upper_bound=[10,10], total_iter=150, initial_sample_size=12), \n",
    "                      'ack_ei_14_rd': BOTemperatureGP(evaluation_component=ackley_func, initial_method=random_init, \n",
    "                                      lower_bound=[-10,-10], upper_bound=[10,10], total_iter=150, initial_sample_size=14), \n",
    "                      'ack_pi_8_rd': BOTemperatureGP(evaluation_component=ackley_func, initial_method=random_init, \n",
    "                                      lower_bound=[-10,-10], upper_bound=[10,10], total_iter=150, initial_sample_size=8, acq_function=acq_pi), \n",
    "                      'ack_pi_12_rd': BOTemperatureGP(evaluation_component=ackley_func, initial_method=random_init, \n",
    "                                      lower_bound=[-10,-10], upper_bound=[10,10], total_iter=150, initial_sample_size=12, acq_function=acq_pi), \n",
    "                      'ack_pi_14_rd': BOTemperatureGP(evaluation_component=ackley_func, initial_method=random_init, \n",
    "                                      lower_bound=[-10,-10], upper_bound=[10,10], total_iter=150, initial_sample_size=14, acq_function=acq_pi)}\n",
    "ackley_results = {}\n",
    "for exp_name, exp_obj in tqdm(ackley_experiments.items()):\n",
    "    #mapping_list = []\n",
    "    experiment_list = [lambda: exp_obj for _ in range(50)]\n",
    "    mapping_list = [func().optimise() for func in experiment_list]\n",
    "    # for exp in experiment_list:0\n",
    "    #     mapping_list.append(exp.optimise())\n",
    "    ackley_results[exp_name] = mapping_list\n",
    "\n"
   ]
  },
  {
   "cell_type": "code",
   "execution_count": 23,
   "metadata": {},
   "outputs": [
    {
     "data": {
      "text/plain": [
       "12"
      ]
     },
     "execution_count": 23,
     "metadata": {},
     "output_type": "execute_result"
    }
   ],
   "source": [
    "len(ackley_results)"
   ]
  },
  {
   "cell_type": "code",
   "execution_count": null,
   "metadata": {},
   "outputs": [],
   "source": []
  },
  {
   "cell_type": "markdown",
   "metadata": {},
   "source": [
    "Ackley Function UCB(Upper Confidence Bound)"
   ]
  },
  {
   "cell_type": "code",
   "execution_count": 25,
   "metadata": {},
   "outputs": [
    {
     "name": "stderr",
     "output_type": "stream",
     "text": [
      "100%|██████████| 6/6 [1:33:37<00:00, 936.33s/it] \n"
     ]
    }
   ],
   "source": [
    "ackley_experiments_ucb = {\n",
    "    'ack_ucb_8_ff': BOTemperatureGP(evaluation_component=ackley_func, initial_method=ff_init_8, \n",
    "                                      lower_bound=[-10,-10], upper_bound=[10,10], total_iter=150, initial_sample_size=8, acq_function=acq_ucb),\n",
    "    'ack_ucb_12_ff': BOTemperatureGP(evaluation_component=ackley_func, initial_method=ff_init_12, \n",
    "                                      lower_bound=[-10,-10], upper_bound=[10,10], total_iter=150, initial_sample_size=12, acq_function=acq_ucb),\n",
    "    'ack_ucb_14_ff': BOTemperatureGP(evaluation_component=ackley_func, initial_method=ff_init_14\n",
    "    , \n",
    "                                      lower_bound=[-10,-10], upper_bound=[10,10], total_iter=150, initial_sample_size=14, acq_function=acq_ucb),\n",
    "    'ack_ucb_8_rd': BOTemperatureGP(evaluation_component=ackley_func, initial_method=random_init, \n",
    "                                      lower_bound=[-10,-10], upper_bound=[10,10], total_iter=150, initial_sample_size=8, acq_function=acq_ucb), \n",
    "    'ack_ucb_12_rd': BOTemperatureGP(evaluation_component=ackley_func, initial_method=random_init, \n",
    "                                      lower_bound=[-10,-10], upper_bound=[10,10], total_iter=150, initial_sample_size=12, acq_function=acq_ucb), \n",
    "    'ack_ucb_14_rd': BOTemperatureGP(evaluation_component=ackley_func, initial_method=random_init, \n",
    "                                      lower_bound=[-10,-10], upper_bound=[10,10], total_iter=150, initial_sample_size=14, acq_function=acq_ucb)\n",
    "    }\n",
    "for exp_name, exp_obj in tqdm(ackley_experiments_ucb.items()):\n",
    "    #mapping_list = []\n",
    "    experiment_list = [lambda: exp_obj for _ in range(50)]\n",
    "    mapping_list = [func().optimise() for func in experiment_list]\n",
    "    # for exp in experiment_list:\n",
    "    #     mapping_list.append(exp.optimise())\n",
    "    ackley_results[exp_name] = mapping_list"
   ]
  },
  {
   "cell_type": "markdown",
   "metadata": {},
   "source": [
    "Objective Function: Schaffer"
   ]
  },
  {
   "cell_type": "code",
   "execution_count": 8,
   "metadata": {},
   "outputs": [
    {
     "name": "stderr",
     "output_type": "stream",
     "text": [
      "100%|██████████| 12/12 [3:05:42<00:00, 928.57s/it] \n"
     ]
    }
   ],
   "source": [
    "random_init = LocalOptimaInit2DNonConvex(low=[3,3],high=[9,9])\n",
    "ff_init_8 = FullFacInit2D(low=3, high=9, levels=[3,3])\n",
    "ff_init_12 = FullFacInit2D(low=3, high=9, levels=[4,4])\n",
    "ff_init_14 = FullFacInit2D(low=3, high=9, levels=[4,4])\n",
    "schaffer_experiments = {\n",
    "    'sch_ei_8_ff': BOTemperatureGP(evaluation_component=schaffer_func, initial_method=ff_init_8, \n",
    "                                      lower_bound=[-10,-10], upper_bound=[10,10], total_iter=150, initial_sample_size=8),\n",
    "    'sch_ei_12_ff': BOTemperatureGP(evaluation_component=schaffer_func, initial_method=ff_init_12, \n",
    "                                      lower_bound=[-10,-10], upper_bound=[10,10], total_iter=150, initial_sample_size=12),\n",
    "    'sch_ei_14_ff': BOTemperatureGP(evaluation_component=schaffer_func, initial_method=ff_init_14, \n",
    "                                      lower_bound=[-10,-10], upper_bound=[10,10], total_iter=150, initial_sample_size=14),\n",
    "    'sch_pi_8_ff': BOTemperatureGP(evaluation_component=schaffer_func, initial_method=ff_init_8, \n",
    "                                      lower_bound=[-10,-10], upper_bound=[10,10], total_iter=150, initial_sample_size=8, acq_function=acq_pi),\n",
    "    'sch_pi_12_ff': BOTemperatureGP(evaluation_component=schaffer_func, initial_method=ff_init_12, \n",
    "                                      lower_bound=[-10,-10], upper_bound=[10,10], total_iter=150, initial_sample_size=12, acq_function=acq_pi),\n",
    "    'sch_pi_14_ff': BOTemperatureGP(evaluation_component=schaffer_func, initial_method=ff_init_14, \n",
    "                                      lower_bound=[-10,-10], upper_bound=[10,10], total_iter=150, initial_sample_size=14, acq_function=acq_pi),\n",
    "    'sch_ei_8_rd': BOTemperatureGP(evaluation_component=schaffer_func, initial_method=random_init, \n",
    "                                      lower_bound=[-10,-10], upper_bound=[10,10], total_iter=150, initial_sample_size=8),\n",
    "    'sch_ei_12_rd': BOTemperatureGP(evaluation_component=schaffer_func, initial_method=random_init, \n",
    "                                      lower_bound=[-10,-10], upper_bound=[10,10], total_iter=150, initial_sample_size=12),\n",
    "    'sch_ei_14_rd': BOTemperatureGP(evaluation_component=schaffer_func, initial_method=random_init, \n",
    "                                      lower_bound=[-10,-10], upper_bound=[10,10], total_iter=150, initial_sample_size=14),\n",
    "    'sch_pi_8_rd': BOTemperatureGP(evaluation_component=schaffer_func, initial_method=random_init, \n",
    "                                      lower_bound=[-10,-10], upper_bound=[10,10], total_iter=150, initial_sample_size=8, acq_function=acq_pi),\n",
    "    'sch_pi_12_rd': BOTemperatureGP(evaluation_component=schaffer_func, initial_method=random_init, \n",
    "                                      lower_bound=[-10,-10], upper_bound=[10,10], total_iter=150, initial_sample_size=12, acq_function=acq_pi),\n",
    "    'sch_pi_14_rd': BOTemperatureGP(evaluation_component=schaffer_func, initial_method=random_init, \n",
    "                                      lower_bound=[-10,-10], upper_bound=[10,10], total_iter=150, initial_sample_size=14, acq_function=acq_pi),\n",
    "}\n",
    "schaffer_results = {}\n",
    "for exp_name, exp_obj in tqdm(schaffer_experiments.items()):\n",
    "    mapping_list = []\n",
    "    for i in range(50):\n",
    "        mapping_list.append(exp_obj.optimise())\n",
    "    schaffer_results[exp_name] = mapping_list"
   ]
  },
  {
   "cell_type": "markdown",
   "metadata": {},
   "source": [
    "Schaffer(UCB)"
   ]
  },
  {
   "cell_type": "code",
   "execution_count": 9,
   "metadata": {},
   "outputs": [
    {
     "name": "stderr",
     "output_type": "stream",
     "text": [
      "100%|██████████| 6/6 [1:33:46<00:00, 937.69s/it] \n"
     ]
    }
   ],
   "source": [
    "schaffer_experiments_ucb = {\n",
    "    'sch_ucb_8_ff': BOTemperatureGP(evaluation_component=schaffer_func, initial_method=FullFacInit2D(low=3, high=9, levels=[3,3]), \n",
    "                                      lower_bound=[-10,-10], upper_bound=[10,10], total_iter=150, initial_sample_size=8, acq_function=acq_ucb),\n",
    "    'sch_ucb_12_ff': BOTemperatureGP(evaluation_component=schaffer_func, initial_method=FullFacInit2D(low=3, high=9, levels=[4,4]), \n",
    "                                      lower_bound=[-10,-10], upper_bound=[10,10], total_iter=150, initial_sample_size=12, acq_function=acq_ucb),\n",
    "    'sch_ucb_14_ff': BOTemperatureGP(evaluation_component=schaffer_func, initial_method=FullFacInit2D(low=3, high=9, levels=[4,4]), \n",
    "                                      lower_bound=[-10,-10], upper_bound=[10,10], total_iter=150, initial_sample_size=14, acq_function=acq_ucb),\n",
    "    'sch_ucb_8_rd': BOTemperatureGP(evaluation_component=schaffer_func, initial_method=random_init, \n",
    "                                      lower_bound=[-10,-10], upper_bound=[10,10], total_iter=150, initial_sample_size=8, acq_function=acq_ucb), \n",
    "    'sch_ucb_12_rd': BOTemperatureGP(evaluation_component=schaffer_func, initial_method=random_init, \n",
    "                                      lower_bound=[-10,-10], upper_bound=[10,10], total_iter=150, initial_sample_size=12, acq_function=acq_ucb), \n",
    "    'sch_ucb_14_rd': BOTemperatureGP(evaluation_component=schaffer_func, initial_method=random_init, \n",
    "                                      lower_bound=[-10,-10], upper_bound=[10,10], total_iter=150, initial_sample_size=14, acq_function=acq_ucb)\n",
    "    }\n",
    "for exp_name, exp_obj in tqdm(schaffer_experiments_ucb.items()):\n",
    "    #mapping_list = []\n",
    "    experiment_list = [lambda: exp_obj for _ in range(50)]\n",
    "    mapping_list = [func().optimise() for func in experiment_list]\n",
    "    # for exp in experiment_list:\n",
    "    #     mapping_list.append(exp.optimise())\n",
    "    schaffer_results[exp_name] = mapping_list"
   ]
  },
  {
   "cell_type": "markdown",
   "metadata": {},
   "source": [
    "Ackley(D-optimal)"
   ]
  },
  {
   "cell_type": "code",
   "execution_count": 28,
   "metadata": {},
   "outputs": [
    {
     "name": "stderr",
     "output_type": "stream",
     "text": [
      "100%|██████████| 9/9 [1:47:04<00:00, 713.87s/it]\n"
     ]
    }
   ],
   "source": [
    "do_init_8 = DOptimalInit2D(low=3, high=9, sample_size=8)\n",
    "do_init_12 = DOptimalInit2D(low=3, high=9, sample_size=12)\n",
    "do_init_14 = DOptimalInit2D(low=3,high=9, sample_size=14)\n",
    "\n",
    "ackley_experiments_DO = {\n",
    "    'ack_ei_8_do': BOTemperatureGP(evaluation_component=ackley_func, initial_method=do_init_8, \n",
    "                                      lower_bound=[-10,-10], upper_bound=[10,10], total_iter=150, initial_sample_size=8),\n",
    "    'ack_ei_12_do': BOTemperatureGP(evaluation_component=ackley_func, initial_method=do_init_12, \n",
    "                                      lower_bound=[-10,-10], upper_bound=[10,10], total_iter=150, initial_sample_size=12), \n",
    "    'ack_ei_14_do': BOTemperatureGP(evaluation_component=ackley_func, initial_method=do_init_14, \n",
    "                                      lower_bound=[-10,-10], upper_bound=[10,10], total_iter=150, initial_sample_size=14), \n",
    "    'ack_pi_8_do': BOTemperatureGP(evaluation_component=ackley_func, initial_method=do_init_8, \n",
    "                                      lower_bound=[-10,-10], upper_bound=[10,10], total_iter=150, initial_sample_size=8, acq_function=acq_pi), \n",
    "    'ack_pi_12_do': BOTemperatureGP(evaluation_component=ackley_func, initial_method=do_init_12, \n",
    "                                      lower_bound=[-10,-10], upper_bound=[10,10], total_iter=150, initial_sample_size=12, acq_function=acq_pi), \n",
    "    'ack_pi_14_do': BOTemperatureGP(evaluation_component=ackley_func, initial_method=do_init_14, \n",
    "                                      lower_bound=[-10,-10], upper_bound=[10,10], total_iter=150, initial_sample_size=14, acq_function=acq_pi),\n",
    "    'ack_ucb_8_do': BOTemperatureGP(evaluation_component=ackley_func, initial_method=do_init_8, \n",
    "                                      lower_bound=[-10,-10], upper_bound=[10,10], total_iter=150, initial_sample_size=8, acq_function=acq_ucb), \n",
    "    'ack_ucb_12_do': BOTemperatureGP(evaluation_component=ackley_func, initial_method=do_init_12, \n",
    "                                      lower_bound=[-10,-10], upper_bound=[10,10], total_iter=150, initial_sample_size=12, acq_function=acq_ucb), \n",
    "    'ack_ucb_14_do': BOTemperatureGP(evaluation_component=ackley_func, initial_method=do_init_14, \n",
    "                                      lower_bound=[-10,-10], upper_bound=[10,10], total_iter=150, initial_sample_size=14, acq_function=acq_ucb)\n",
    "    }\n",
    "for exp_name, exp_obj in tqdm(ackley_experiments_DO.items()):\n",
    "    #mapping_list = []\n",
    "    experiment_list = [lambda: exp_obj for _ in range(50)]\n",
    "    mapping_list = [func().optimise() for func in experiment_list]\n",
    "    # for exp in experiment_list:\n",
    "    #     mapping_list.append(exp.optimise())\n",
    "    ackley_results[exp_name] = mapping_list"
   ]
  },
  {
   "cell_type": "code",
   "execution_count": 1,
   "metadata": {},
   "outputs": [],
   "source": [
    "%store -r"
   ]
  },
  {
   "cell_type": "markdown",
   "metadata": {},
   "source": [
    "Schaffer(D-Optimal)"
   ]
  },
  {
   "cell_type": "code",
   "execution_count": 14,
   "metadata": {},
   "outputs": [
    {
     "name": "stderr",
     "output_type": "stream",
     "text": [
      "100%|██████████| 9/9 [1:46:25<00:00, 709.46s/it]\n"
     ]
    }
   ],
   "source": [
    "do_init_8 = DOptimalInit2D(low=3, high=9, sample_size=8)\n",
    "do_init_12 = DOptimalInit2D(low=3, high=9, sample_size=12)\n",
    "do_init_14 = DOptimalInit2D(low=3,high=9, sample_size=14)\n",
    "\n",
    "schaffer_experiments_DO = {\n",
    "    'sch_ei_8_do': BOTemperatureGP(evaluation_component=schaffer_func, initial_method=do_init_8, \n",
    "                                      lower_bound=[-10,-10], upper_bound=[10,10], total_iter=150, initial_sample_size=8),\n",
    "    'sch_ei_12_do': BOTemperatureGP(evaluation_component=schaffer_func, initial_method=do_init_12, \n",
    "                                      lower_bound=[-10,-10], upper_bound=[10,10], total_iter=150, initial_sample_size=12), \n",
    "    'sch_ei_14_do': BOTemperatureGP(evaluation_component=schaffer_func, initial_method=do_init_14, \n",
    "                                      lower_bound=[-10,-10], upper_bound=[10,10], total_iter=150, initial_sample_size=14), \n",
    "    'sch_pi_8_do': BOTemperatureGP(evaluation_component=schaffer_func, initial_method=do_init_8, \n",
    "                                      lower_bound=[-10,-10], upper_bound=[10,10], total_iter=150, initial_sample_size=8, acq_function=acq_pi), \n",
    "    'sch_pi_12_do': BOTemperatureGP(evaluation_component=schaffer_func, initial_method=do_init_12, \n",
    "                                      lower_bound=[-10,-10], upper_bound=[10,10], total_iter=150, initial_sample_size=12, acq_function=acq_pi), \n",
    "    'sch_pi_14_do': BOTemperatureGP(evaluation_component=schaffer_func, initial_method=do_init_14, \n",
    "                                      lower_bound=[-10,-10], upper_bound=[10,10], total_iter=150, initial_sample_size=14, acq_function=acq_pi),\n",
    "    'sch_ucb_8_do': BOTemperatureGP(evaluation_component=schaffer_func, initial_method=do_init_8, \n",
    "                                      lower_bound=[-10,-10], upper_bound=[10,10], total_iter=150, initial_sample_size=8, acq_function=acq_ucb), \n",
    "    'sch_ucb_12_do': BOTemperatureGP(evaluation_component=schaffer_func, initial_method=do_init_12, \n",
    "                                      lower_bound=[-10,-10], upper_bound=[10,10], total_iter=150, initial_sample_size=12, acq_function=acq_ucb), \n",
    "    'sch_ucb_14_do': BOTemperatureGP(evaluation_component=schaffer_func, initial_method=do_init_14, \n",
    "                                      lower_bound=[-10,-10], upper_bound=[10,10], total_iter=150, initial_sample_size=14, acq_function=acq_ucb)\n",
    "    }\n",
    "for exp_name, exp_obj in tqdm(schaffer_experiments_DO.items()):\n",
    "    #mapping_list = []\n",
    "    experiment_list = [lambda: exp_obj for _ in range(50)]\n",
    "    mapping_list = [func().optimise() for func in experiment_list]\n",
    "    # for exp in experiment_list:\n",
    "    #     mapping_list.append(exp.optimise())\n",
    "    schaffer_results[exp_name] = mapping_list"
   ]
  },
  {
   "cell_type": "code",
   "execution_count": 24,
   "metadata": {},
   "outputs": [
    {
     "data": {
      "text/plain": [
       "36"
      ]
     },
     "execution_count": 24,
     "metadata": {},
     "output_type": "execute_result"
    }
   ],
   "source": [
    "len(schaffer_results)"
   ]
  },
  {
   "cell_type": "code",
   "execution_count": 25,
   "metadata": {},
   "outputs": [
    {
     "data": {
      "text/plain": [
       "36"
      ]
     },
     "execution_count": 25,
     "metadata": {},
     "output_type": "execute_result"
    }
   ],
   "source": [
    "len(ackley_results)"
   ]
  },
  {
   "cell_type": "code",
   "execution_count": 23,
   "metadata": {},
   "outputs": [
    {
     "name": "stdout",
     "output_type": "stream",
     "text": [
      "Stored 'schaffer_results' (dict)\n"
     ]
    }
   ],
   "source": [
    "%store schaffer_results"
   ]
  },
  {
   "cell_type": "code",
   "execution_count": 19,
   "metadata": {},
   "outputs": [
    {
     "name": "stdout",
     "output_type": "stream",
     "text": [
      "Stored 'ackley_results' (dict)\n"
     ]
    }
   ],
   "source": [
    "%store ackley_results"
   ]
  },
  {
   "cell_type": "code",
   "execution_count": 26,
   "metadata": {},
   "outputs": [],
   "source": [
    "def find_stable_point(data_dict, start_index, threshold):\n",
    "     # Convert the dictionary to a list of items, sorted by the keys\n",
    "     data_list = sorted(list(data_dict.items()))\n",
    "     # Start from the given index\n",
    "     for i in range(start_index, len(data_list)-1):\n",
    "         # Calculate the difference between the current and next value\n",
    "         if i+3 <= len(data_list)-1:\n",
    "             difference = abs(((data_list[i][1]-data_list[i+1][1])+(data_list[i+1][1] - data_list[i+2][1])+(data_list[i+2][1]-data_list[i+3][1]))/3)\n",
    "         else:\n",
    "             difference = threshold+1\n",
    "         # If the difference is below the threshold, return the current index\n",
    "         if difference < threshold:\n",
    "             return i\n",
    "\n",
    "     # If no stable point was found, return None\n",
    "     return None"
   ]
  },
  {
   "cell_type": "code",
   "execution_count": 28,
   "metadata": {},
   "outputs": [],
   "source": [
    "def show_improvement_curve_diagram(mappings_lst, start_idx):   \n",
    "    improve_iter_num_lst = []\n",
    "    for local_opt_mappings in mappings_lst:\n",
    "        improve_iter_num_lst.append(improvement_curve(local_opt_mappings, start_index = start_idx))\n",
    "\n",
    "    x_value=range(len(improve_iter_num_lst[0]))\n",
    "    for i, y_values in enumerate(improve_iter_num_lst):\n",
    "        if len(y_values) < len(x_value):\n",
    "            x_value=range(len(improve_iter_num_lst[0])-1)\n",
    "        if len(y_values) > len(x_value):\n",
    "            y_values.pop()\n",
    "        plt.plot(x_value, y_values, linestyle='--', label=f'Data {i+1}',color = 'skyblue')\n",
    "\n",
    "    plt.title('improvement curve')\n",
    "    plt.xlabel('number of iterations')\n",
    "    plt.ylabel('improved result')\n",
    "    plt.show()"
   ]
  },
  {
   "cell_type": "markdown",
   "metadata": {},
   "source": [
    "Ackley(I-Optimal)"
   ]
  },
  {
   "cell_type": "code",
   "execution_count": 17,
   "metadata": {},
   "outputs": [
    {
     "name": "stderr",
     "output_type": "stream",
     "text": [
      "100%|██████████| 9/9 [1:38:58<00:00, 659.83s/it]\n"
     ]
    }
   ],
   "source": [
    "io_8 =  [[3.00, 6.00], [5.40, 3.00], [5.40, 9.00], [5.64, 6.00], [5.64, 6.12], [6.84, 8.04], [6.96, 4.20], [9.00, 6.24]]\n",
    "io_12 = [[3.00, 5.40], [3.00, 6.60], [5.40, 3.00], [5.40, 9.00], [5.88, 6.00],[6.00, 5.88], [6.00, 6.00], [6.12, 6.00],[6.60, 3.00], [6.60, 9.00], [9.00, 5.40], [9.00, 6.60]]\n",
    "io_14 = [[3.00, 5.40], [3.00, 6.60], [5.40, 3.00], [5.40, 9.00], [5.88, 6.00], [6.00, 5.88], [6.00, 6.00], [6.12, 5.88], [6.12, 6.12], [6.12, 6.24], [6.60, 3.00], [6.60, 9.00], [9.00, 5.40], [9.00, 6.60]]\n",
    "from simple_GP_temperature.general_initial_2d import GeneralInitial2D\n",
    "\n",
    "io_init_8 = GeneralInitial2D(io_8)\n",
    "io_init_12 = GeneralInitial2D(io_12)\n",
    "io_init_14 = GeneralInitial2D(io_14)\n",
    "\n",
    "ackley_experiments_IO = {\n",
    "    'ack_ei_8_io': BOTemperatureGP(evaluation_component=ackley_func, initial_method=io_init_8, \n",
    "                                      lower_bound=[-10,-10], upper_bound=[10,10], total_iter=150, initial_sample_size=8),\n",
    "    'ack_ei_12_io': BOTemperatureGP(evaluation_component=ackley_func, initial_method=io_init_12, \n",
    "                                      lower_bound=[-10,-10], upper_bound=[10,10], total_iter=150, initial_sample_size=12), \n",
    "    'ack_ei_14_io': BOTemperatureGP(evaluation_component=ackley_func, initial_method=io_init_14, \n",
    "                                      lower_bound=[-10,-10], upper_bound=[10,10], total_iter=150, initial_sample_size=14), \n",
    "    'ack_pi_8_io': BOTemperatureGP(evaluation_component=ackley_func, initial_method=io_init_8, \n",
    "                                      lower_bound=[-10,-10], upper_bound=[10,10], total_iter=150, initial_sample_size=8, acq_function=acq_pi), \n",
    "    'ack_pi_12_io': BOTemperatureGP(evaluation_component=ackley_func, initial_method=io_init_12, \n",
    "                                      lower_bound=[-10,-10], upper_bound=[10,10], total_iter=150, initial_sample_size=12, acq_function=acq_pi), \n",
    "    'ack_pi_14_io': BOTemperatureGP(evaluation_component=ackley_func, initial_method=io_init_14, \n",
    "                                      lower_bound=[-10,-10], upper_bound=[10,10], total_iter=150, initial_sample_size=14, acq_function=acq_pi),\n",
    "    'ack_ucb_8_io': BOTemperatureGP(evaluation_component=ackley_func, initial_method=io_init_8, \n",
    "                                      lower_bound=[-10,-10], upper_bound=[10,10], total_iter=150, initial_sample_size=8, acq_function=acq_ucb), \n",
    "    'ack_ucb_12_io': BOTemperatureGP(evaluation_component=ackley_func, initial_method=io_init_12, \n",
    "                                      lower_bound=[-10,-10], upper_bound=[10,10], total_iter=150, initial_sample_size=12, acq_function=acq_ucb), \n",
    "    'ack_ucb_14_io': BOTemperatureGP(evaluation_component=ackley_func, initial_method=io_init_14, \n",
    "                                      lower_bound=[-10,-10], upper_bound=[10,10], total_iter=150, initial_sample_size=14, acq_function=acq_ucb)\n",
    "    }\n",
    "\n",
    "for exp_name, exp_obj in tqdm(ackley_experiments_IO.items()):\n",
    "    #mapping_list = []\n",
    "    experiment_list = [lambda: exp_obj for _ in range(50)]\n",
    "    mapping_list = [func().optimise() for func in experiment_list]\n",
    "    ackley_results[exp_name] = mapping_list"
   ]
  },
  {
   "cell_type": "markdown",
   "metadata": {},
   "source": [
    "Schaffer(I-Optimal)"
   ]
  },
  {
   "cell_type": "code",
   "execution_count": 20,
   "metadata": {},
   "outputs": [
    {
     "name": "stderr",
     "output_type": "stream",
     "text": [
      "100%|██████████| 9/9 [1:36:54<00:00, 646.10s/it]\n"
     ]
    }
   ],
   "source": [
    "schaffer_experiments_IO = {\n",
    "    'sch_ei_8_io': BOTemperatureGP(evaluation_component=schaffer_func, initial_method=io_init_8, \n",
    "                                      lower_bound=[-10,-10], upper_bound=[10,10], total_iter=150, initial_sample_size=8),\n",
    "    'sch_ei_12_io': BOTemperatureGP(evaluation_component=schaffer_func, initial_method=io_init_12, \n",
    "                                      lower_bound=[-10,-10], upper_bound=[10,10], total_iter=150, initial_sample_size=12), \n",
    "    'sch_ei_14_io': BOTemperatureGP(evaluation_component=schaffer_func, initial_method=io_init_14, \n",
    "                                      lower_bound=[-10,-10], upper_bound=[10,10], total_iter=150, initial_sample_size=14), \n",
    "    'sch_pi_8_io': BOTemperatureGP(evaluation_component=schaffer_func, initial_method=io_init_8, \n",
    "                                      lower_bound=[-10,-10], upper_bound=[10,10], total_iter=150, initial_sample_size=8, acq_function=acq_pi), \n",
    "    'sch_pi_12_io': BOTemperatureGP(evaluation_component=schaffer_func, initial_method=io_init_12, \n",
    "                                      lower_bound=[-10,-10], upper_bound=[10,10], total_iter=150, initial_sample_size=12, acq_function=acq_pi), \n",
    "    'sch_pi_14_io': BOTemperatureGP(evaluation_component=schaffer_func, initial_method=io_init_14, \n",
    "                                      lower_bound=[-10,-10], upper_bound=[10,10], total_iter=150, initial_sample_size=14, acq_function=acq_pi),\n",
    "    'sch_ucb_8_io': BOTemperatureGP(evaluation_component=schaffer_func, initial_method=io_init_8, \n",
    "                                      lower_bound=[-10,-10], upper_bound=[10,10], total_iter=150, initial_sample_size=8, acq_function=acq_ucb), \n",
    "    'sch_ucb_12_io': BOTemperatureGP(evaluation_component=schaffer_func, initial_method=io_init_12, \n",
    "                                      lower_bound=[-10,-10], upper_bound=[10,10], total_iter=150, initial_sample_size=12, acq_function=acq_ucb), \n",
    "    'sch_ucb_14_io': BOTemperatureGP(evaluation_component=schaffer_func, initial_method=io_init_14, \n",
    "                                      lower_bound=[-10,-10], upper_bound=[10,10], total_iter=150, initial_sample_size=14, acq_function=acq_ucb)\n",
    "    }\n",
    "\n",
    "for exp_name, exp_obj in tqdm(schaffer_experiments_IO.items()):\n",
    "    #mapping_list = []\n",
    "    experiment_list = [lambda: exp_obj for _ in range(50)]\n",
    "    mapping_list = [func().optimise() for func in experiment_list]\n",
    "    schaffer_results[exp_name] = mapping_list"
   ]
  },
  {
   "cell_type": "code",
   "execution_count": null,
   "metadata": {},
   "outputs": [],
   "source": []
  }
 ],
 "metadata": {
  "kernelspec": {
   "display_name": "Python 3 (ipykernel)",
   "language": "python",
   "name": "python3"
  },
  "language_info": {
   "codemirror_mode": {
    "name": "ipython",
    "version": 3
   },
   "file_extension": ".py",
   "mimetype": "text/x-python",
   "name": "python",
   "nbconvert_exporter": "python",
   "pygments_lexer": "ipython3",
   "version": "3.11.5"
  },
  "vscode": {
   "interpreter": {
    "hash": "feade53332bab483af68bdff038133aa57fe89c6bb2a958d25ad4e24bc49a331"
   }
  }
 },
 "nbformat": 4,
 "nbformat_minor": 2
}
