{
 "cells": [
  {
   "cell_type": "markdown",
   "metadata": {},
   "source": [
    "The total experiments of local optima"
   ]
  },
  {
   "cell_type": "code",
   "execution_count": 1,
   "metadata": {},
   "outputs": [],
   "source": [
    "import numpy as np\n",
    "from matplotlib import pyplot as plt\n",
    "import simple_GP_temperature.helper_sklearn as helper\n",
    "from simple_GP_temperature.bell_curve import Bellcurve\n",
    "from simple_GP_temperature.non_convex_function import NonConvexFunction\n",
    "from simple_GP_temperature.ackley_function import AckleyFunction\n",
    "from simple_GP_temperature.schaffer_function import SchafferFunction\n",
    "from simple_GP_temperature.random_initial_2d import RandomInit2D\n",
    "from simple_GP_temperature.BO_GP_temperature import BOTemperatureGP\n",
    "from simple_GP_temperature.full_factorial_2d import FullFacInit2D\n",
    "from simple_GP_temperature.central_composite_initial_2d import CentralCompInit2D\n",
    "from simple_GP_temperature.local_optima_initial_non_convex_2d import LocalOptimaInit2DNonConvex\n",
    "import matplotlib.pyplot as plt\n",
    "from simple_GP_temperature.local_optima_initial_non_convex_2d import LocalOptimaInit2DNonConvex\n",
    "from simple_GP_temperature.helper_sklearn import opt_acq, acq_ei, acq_pi, acq_ucb\n",
    "from scipy.stats import norm\n",
    "from scipy.stats import ttest_ind\n",
    "from scipy.stats import entropy\n",
    "from scipy.stats import gaussian_kde\n",
    "from tqdm import tqdm"
   ]
  },
  {
   "cell_type": "code",
   "execution_count": 2,
   "metadata": {},
   "outputs": [],
   "source": [
    "# instantiate objective functions\n",
    "non_convex_func = NonConvexFunction()\n",
    "ackley_func = AckleyFunction()\n",
    "schaffer_func = SchafferFunction()"
   ]
  },
  {
   "cell_type": "markdown",
   "metadata": {},
   "source": [
    "Objective function: Ackley "
   ]
  },
  {
   "cell_type": "code",
   "execution_count": 4,
   "metadata": {},
   "outputs": [
    {
     "name": "stderr",
     "output_type": "stream",
     "text": [
      "100%|██████████| 12/12 [3:02:22<00:00, 911.88s/it] \n"
     ]
    }
   ],
   "source": [
    "random_init = LocalOptimaInit2DNonConvex(low=[3,3],high=[9,9])\n",
    "ff_init_8 = FullFacInit2D(low=3, high=9, levels=[2,4])\n",
    "ff_init_12 = FullFacInit2D(low=3, high=9, levels=[3,4])\n",
    "ff_init_14 = FullFacInit2D(low=3, high=9, levels=[2,7])\n",
    "ackley_experiments = {'ack_ei_8_ff': BOTemperatureGP(evaluation_component=ackley_func, initial_method=FullFacInit2D(low=3, high=9, levels=[3,3]), \n",
    "                                      lower_bound=[-10,-10], upper_bound=[10,10], total_iter=150, initial_sample_size=8),\n",
    "                      'ack_ei_12_ff': BOTemperatureGP(evaluation_component=ackley_func, initial_method=FullFacInit2D(low=3, high=9, levels=[4,4]), \n",
    "                                      lower_bound=[-10,-10], upper_bound=[10,10], total_iter=150, initial_sample_size=12),\n",
    "                      'ack_ei_14_ff': BOTemperatureGP(evaluation_component=ackley_func, initial_method=FullFacInit2D(low=3, high=9, levels=[4,4]), \n",
    "                                      lower_bound=[-10,-10], upper_bound=[10,10], total_iter=150, initial_sample_size=14),\n",
    "                      'ack_pi_8_ff': BOTemperatureGP(evaluation_component=ackley_func, initial_method=FullFacInit2D(low=3, high=9, levels=[3,3]), \n",
    "                                      lower_bound=[-10,-10], upper_bound=[10,10], total_iter=150, initial_sample_size=8, acq_function=acq_pi), \n",
    "                      'ack_pi_12_ff': BOTemperatureGP(evaluation_component=ackley_func, initial_method=FullFacInit2D(low=3, high=9, levels=[4,4]),\n",
    "                                      lower_bound=[-10,-10], upper_bound=[10,10], total_iter=150, initial_sample_size=12, acq_function=acq_pi),\n",
    "                      'ack_pi_14_ff': BOTemperatureGP(evaluation_component=ackley_func, initial_method=FullFacInit2D(low=3, high=9, levels=[4,4]), \n",
    "                                      lower_bound=[-10,-10], upper_bound=[10,10], total_iter=150, initial_sample_size=14, acq_function=acq_pi),\n",
    "                      'ack_ei_8_rd': BOTemperatureGP(evaluation_component=ackley_func, initial_method=random_init, \n",
    "                                      lower_bound=[-10,-10], upper_bound=[10,10], total_iter=150, initial_sample_size=8),\n",
    "                      'ack_ei_12_rd': BOTemperatureGP(evaluation_component=ackley_func, initial_method=random_init, \n",
    "                                      lower_bound=[-10,-10], upper_bound=[10,10], total_iter=150, initial_sample_size=12), \n",
    "                      'ack_ei_14_rd': BOTemperatureGP(evaluation_component=ackley_func, initial_method=random_init, \n",
    "                                      lower_bound=[-10,-10], upper_bound=[10,10], total_iter=150, initial_sample_size=14), \n",
    "                      'ack_pi_8_rd': BOTemperatureGP(evaluation_component=ackley_func, initial_method=random_init, \n",
    "                                      lower_bound=[-10,-10], upper_bound=[10,10], total_iter=150, initial_sample_size=8, acq_function=acq_pi), \n",
    "                      'ack_pi_12_rd': BOTemperatureGP(evaluation_component=ackley_func, initial_method=random_init, \n",
    "                                      lower_bound=[-10,-10], upper_bound=[10,10], total_iter=150, initial_sample_size=12, acq_function=acq_pi), \n",
    "                      'ack_pi_14_rd': BOTemperatureGP(evaluation_component=ackley_func, initial_method=random_init, \n",
    "                                      lower_bound=[-10,-10], upper_bound=[10,10], total_iter=150, initial_sample_size=14, acq_function=acq_pi)}\n",
    "ackley_results = {}\n",
    "for exp_name, exp_obj in tqdm(ackley_experiments.items()):\n",
    "    #mapping_list = []\n",
    "    experiment_list = [lambda: exp_obj for _ in range(50)]\n",
    "    mapping_list = [func().optimise() for func in experiment_list]\n",
    "    # for exp in experiment_list:0\n",
    "    #     mapping_list.append(exp.optimise())\n",
    "    ackley_results[exp_name] = mapping_list\n",
    "\n"
   ]
  },
  {
   "cell_type": "markdown",
   "metadata": {},
   "source": [
    "Ackley Function UCB(Upper Confidence Bound)"
   ]
  },
  {
   "cell_type": "code",
   "execution_count": 7,
   "metadata": {},
   "outputs": [
    {
     "name": "stderr",
     "output_type": "stream",
     "text": [
      "100%|██████████| 6/6 [1:29:47<00:00, 897.92s/it] \n"
     ]
    }
   ],
   "source": [
    "ackley_experiments_ucb = {\n",
    "    'ack_ucb_8_ff': BOTemperatureGP(evaluation_component=ackley_func, initial_method=FullFacInit2D(low=3, high=9, levels=[3,3]), \n",
    "                                      lower_bound=[-10,-10], upper_bound=[10,10], total_iter=150, initial_sample_size=8, acq_function=acq_ucb),\n",
    "    'ack_ucb_12_ff': BOTemperatureGP(evaluation_component=ackley_func, initial_method=FullFacInit2D(low=3, high=9, levels=[4,4]), \n",
    "                                      lower_bound=[-10,-10], upper_bound=[10,10], total_iter=150, initial_sample_size=12, acq_function=acq_ucb),\n",
    "    'ack_ucb_14_ff': BOTemperatureGP(evaluation_component=ackley_func, initial_method=FullFacInit2D(low=3, high=9, levels=[4,4]), \n",
    "                                      lower_bound=[-10,-10], upper_bound=[10,10], total_iter=150, initial_sample_size=14, acq_function=acq_ucb),\n",
    "    'ack_ucb_8_rd': BOTemperatureGP(evaluation_component=ackley_func, initial_method=random_init, \n",
    "                                      lower_bound=[-10,-10], upper_bound=[10,10], total_iter=150, initial_sample_size=8, acq_function=acq_ucb), \n",
    "    'ack_ucb_12_rd': BOTemperatureGP(evaluation_component=ackley_func, initial_method=random_init, \n",
    "                                      lower_bound=[-10,-10], upper_bound=[10,10], total_iter=150, initial_sample_size=12, acq_function=acq_ucb), \n",
    "    'ack_ucb_14_rd': BOTemperatureGP(evaluation_component=ackley_func, initial_method=random_init, \n",
    "                                      lower_bound=[-10,-10], upper_bound=[10,10], total_iter=150, initial_sample_size=14, acq_function=acq_ucb)\n",
    "    }\n",
    "for exp_name, exp_obj in tqdm(ackley_experiments_ucb.items()):\n",
    "    #mapping_list = []\n",
    "    experiment_list = [lambda: exp_obj for _ in range(50)]\n",
    "    mapping_list = [func().optimise() for func in experiment_list]\n",
    "    # for exp in experiment_list:\n",
    "    #     mapping_list.append(exp.optimise())\n",
    "    ackley_results[exp_name] = mapping_list"
   ]
  },
  {
   "cell_type": "code",
   "execution_count": 8,
   "metadata": {},
   "outputs": [
    {
     "name": "stderr",
     "output_type": "stream",
     "text": [
      "100%|██████████| 12/12 [3:05:42<00:00, 928.57s/it] \n"
     ]
    }
   ],
   "source": [
    "random_init = LocalOptimaInit2DNonConvex(low=[3,3],high=[9,9])\n",
    "ff_init_8 = FullFacInit2D(low=3, high=9, levels=[3,3])\n",
    "ff_init_12 = FullFacInit2D(low=3, high=9, levels=[4,4])\n",
    "ff_init_14 = FullFacInit2D(low=3, high=9, levels=[4,4])\n",
    "schaffer_experiments = {\n",
    "    'sch_ei_8_ff': BOTemperatureGP(evaluation_component=schaffer_func, initial_method=ff_init_8, \n",
    "                                      lower_bound=[-10,-10], upper_bound=[10,10], total_iter=150, initial_sample_size=8),\n",
    "    'sch_ei_12_ff': BOTemperatureGP(evaluation_component=schaffer_func, initial_method=ff_init_12, \n",
    "                                      lower_bound=[-10,-10], upper_bound=[10,10], total_iter=150, initial_sample_size=12),\n",
    "    'sch_ei_14_ff': BOTemperatureGP(evaluation_component=schaffer_func, initial_method=ff_init_14, \n",
    "                                      lower_bound=[-10,-10], upper_bound=[10,10], total_iter=150, initial_sample_size=14),\n",
    "    'sch_pi_8_ff': BOTemperatureGP(evaluation_component=schaffer_func, initial_method=ff_init_8, \n",
    "                                      lower_bound=[-10,-10], upper_bound=[10,10], total_iter=150, initial_sample_size=8, acq_function=acq_pi),\n",
    "    'sch_pi_12_ff': BOTemperatureGP(evaluation_component=schaffer_func, initial_method=ff_init_12, \n",
    "                                      lower_bound=[-10,-10], upper_bound=[10,10], total_iter=150, initial_sample_size=12, acq_function=acq_pi),\n",
    "    'sch_pi_14_ff': BOTemperatureGP(evaluation_component=schaffer_func, initial_method=ff_init_14, \n",
    "                                      lower_bound=[-10,-10], upper_bound=[10,10], total_iter=150, initial_sample_size=14, acq_function=acq_pi),\n",
    "    'sch_ei_8_rd': BOTemperatureGP(evaluation_component=schaffer_func, initial_method=random_init, \n",
    "                                      lower_bound=[-10,-10], upper_bound=[10,10], total_iter=150, initial_sample_size=8),\n",
    "    'sch_ei_12_rd': BOTemperatureGP(evaluation_component=schaffer_func, initial_method=random_init, \n",
    "                                      lower_bound=[-10,-10], upper_bound=[10,10], total_iter=150, initial_sample_size=12),\n",
    "    'sch_ei_14_rd': BOTemperatureGP(evaluation_component=schaffer_func, initial_method=random_init, \n",
    "                                      lower_bound=[-10,-10], upper_bound=[10,10], total_iter=150, initial_sample_size=14),\n",
    "    'sch_pi_8_rd': BOTemperatureGP(evaluation_component=schaffer_func, initial_method=random_init, \n",
    "                                      lower_bound=[-10,-10], upper_bound=[10,10], total_iter=150, initial_sample_size=8, acq_function=acq_pi),\n",
    "    'sch_pi_12_rd': BOTemperatureGP(evaluation_component=schaffer_func, initial_method=random_init, \n",
    "                                      lower_bound=[-10,-10], upper_bound=[10,10], total_iter=150, initial_sample_size=12, acq_function=acq_pi),\n",
    "    'sch_pi_14_rd': BOTemperatureGP(evaluation_component=schaffer_func, initial_method=random_init, \n",
    "                                      lower_bound=[-10,-10], upper_bound=[10,10], total_iter=150, initial_sample_size=14, acq_function=acq_pi),\n",
    "}\n",
    "schaffer_results = {}\n",
    "for exp_name, exp_obj in tqdm(schaffer_experiments.items()):\n",
    "    mapping_list = []\n",
    "    for i in range(50):\n",
    "        mapping_list.append(exp_obj.optimise())\n",
    "    schaffer_results[exp_name] = mapping_list"
   ]
  },
  {
   "cell_type": "code",
   "execution_count": 9,
   "metadata": {},
   "outputs": [
    {
     "name": "stderr",
     "output_type": "stream",
     "text": [
      "100%|██████████| 6/6 [1:33:46<00:00, 937.69s/it] \n"
     ]
    }
   ],
   "source": [
    "schaffer_experiments_ucb = {\n",
    "    'sch_ucb_8_ff': BOTemperatureGP(evaluation_component=schaffer_func, initial_method=FullFacInit2D(low=3, high=9, levels=[3,3]), \n",
    "                                      lower_bound=[-10,-10], upper_bound=[10,10], total_iter=150, initial_sample_size=8, acq_function=acq_ucb),\n",
    "    'sch_ucb_12_ff': BOTemperatureGP(evaluation_component=schaffer_func, initial_method=FullFacInit2D(low=3, high=9, levels=[4,4]), \n",
    "                                      lower_bound=[-10,-10], upper_bound=[10,10], total_iter=150, initial_sample_size=12, acq_function=acq_ucb),\n",
    "    'sch_ucb_14_ff': BOTemperatureGP(evaluation_component=schaffer_func, initial_method=FullFacInit2D(low=3, high=9, levels=[4,4]), \n",
    "                                      lower_bound=[-10,-10], upper_bound=[10,10], total_iter=150, initial_sample_size=14, acq_function=acq_ucb),\n",
    "    'sch_ucb_8_rd': BOTemperatureGP(evaluation_component=schaffer_func, initial_method=random_init, \n",
    "                                      lower_bound=[-10,-10], upper_bound=[10,10], total_iter=150, initial_sample_size=8, acq_function=acq_ucb), \n",
    "    'sch_ucb_12_rd': BOTemperatureGP(evaluation_component=schaffer_func, initial_method=random_init, \n",
    "                                      lower_bound=[-10,-10], upper_bound=[10,10], total_iter=150, initial_sample_size=12, acq_function=acq_ucb), \n",
    "    'sch_ucb_14_rd': BOTemperatureGP(evaluation_component=schaffer_func, initial_method=random_init, \n",
    "                                      lower_bound=[-10,-10], upper_bound=[10,10], total_iter=150, initial_sample_size=14, acq_function=acq_ucb)\n",
    "    }\n",
    "for exp_name, exp_obj in tqdm(schaffer_experiments_ucb.items()):\n",
    "    #mapping_list = []\n",
    "    experiment_list = [lambda: exp_obj for _ in range(50)]\n",
    "    mapping_list = [func().optimise() for func in experiment_list]\n",
    "    # for exp in experiment_list:\n",
    "    #     mapping_list.append(exp.optimise())\n",
    "    schaffer_results[exp_name] = mapping_list"
   ]
  },
  {
   "cell_type": "code",
   "execution_count": 37,
   "metadata": {},
   "outputs": [],
   "source": [
    "from simple_GP_temperature.d_optimal_initial_2d import DOptimalInit2D"
   ]
  },
  {
   "cell_type": "code",
   "execution_count": 34,
   "metadata": {},
   "outputs": [
    {
     "ename": "TypeError",
     "evalue": "can't multiply sequence by non-int of type 'float'",
     "output_type": "error",
     "traceback": [
      "\u001b[0;31m---------------------------------------------------------------------------\u001b[0m",
      "\u001b[0;31mTypeError\u001b[0m                                 Traceback (most recent call last)",
      "Cell \u001b[0;32mIn[34], line 1\u001b[0m\n\u001b[0;32m----> 1\u001b[0m do_init_8 \u001b[39m=\u001b[39m DOptimalInit2D(low\u001b[39m=\u001b[39m\u001b[39m3\u001b[39m, high\u001b[39m=\u001b[39m\u001b[39m9\u001b[39m, sample_size\u001b[39m=\u001b[39m\u001b[39m8\u001b[39m)\n\u001b[1;32m      2\u001b[0m do_init_12 \u001b[39m=\u001b[39m DOptimalInit2D(low\u001b[39m=\u001b[39m\u001b[39m3\u001b[39m, high\u001b[39m=\u001b[39m\u001b[39m9\u001b[39m, sample_size\u001b[39m=\u001b[39m\u001b[39m12\u001b[39m)\n\u001b[1;32m      3\u001b[0m do_init_14 \u001b[39m=\u001b[39m DOptimalInit2D(low\u001b[39m=\u001b[39m\u001b[39m3\u001b[39m,high\u001b[39m=\u001b[39m\u001b[39m9\u001b[39m, sample_size\u001b[39m=\u001b[39m\u001b[39m14\u001b[39m)\n",
      "File \u001b[0;32m~/research/KURF/src/simple_GP_temperature/d_optimal_initial_2d.py:18\u001b[0m, in \u001b[0;36mDOptimalInit2D.__init__\u001b[0;34m(self, low, high, nlargest, sample_size)\u001b[0m\n\u001b[1;32m     16\u001b[0m \u001b[39mself\u001b[39m\u001b[39m.\u001b[39mnlargest \u001b[39m=\u001b[39m nlargest\n\u001b[1;32m     17\u001b[0m \u001b[39mself\u001b[39m\u001b[39m.\u001b[39msample_size \u001b[39m=\u001b[39m sample_size\n\u001b[0;32m---> 18\u001b[0m \u001b[39mself\u001b[39m\u001b[39m.\u001b[39md_optimal_matrix \u001b[39m=\u001b[39m \u001b[39mlist\u001b[39m(\u001b[39mself\u001b[39m\u001b[39m.\u001b[39m__generate_d_optimal_samples())\n",
      "File \u001b[0;32m~/research/KURF/src/simple_GP_temperature/d_optimal_initial_2d.py:37\u001b[0m, in \u001b[0;36mDOptimalInit2D.__generate_d_optimal_samples\u001b[0;34m(self)\u001b[0m\n\u001b[1;32m     32\u001b[0m \u001b[39m\"\"\"\u001b[39;00m\n\u001b[1;32m     33\u001b[0m \u001b[39mA function that generates the central composite initial samples\u001b[39;00m\n\u001b[1;32m     34\u001b[0m \u001b[39m:return: Numpy 2D Array  A 2D Array of experimental matrix\u001b[39;00m\n\u001b[1;32m     35\u001b[0m \u001b[39m\"\"\"\u001b[39;00m\n\u001b[1;32m     36\u001b[0m design_matrix \u001b[39m=\u001b[39m (optimal\u001b[39m.\u001b[39mbuild_optimal(\u001b[39m2\u001b[39m, run_count \u001b[39m=\u001b[39m \u001b[39mself\u001b[39m\u001b[39m.\u001b[39msample_size))\u001b[39m.\u001b[39mvalues\u001b[39m.\u001b[39mtolist()\n\u001b[0;32m---> 37\u001b[0m returned_matrix \u001b[39m=\u001b[39m design_matrix\u001b[39m*\u001b[39m((\u001b[39mself\u001b[39m\u001b[39m.\u001b[39mhigh\u001b[39m-\u001b[39m\u001b[39mself\u001b[39m\u001b[39m.\u001b[39mlow)\u001b[39m/\u001b[39m\u001b[39m2\u001b[39m) \u001b[39m+\u001b[39m ((\u001b[39mself\u001b[39m\u001b[39m.\u001b[39mhigh\u001b[39m+\u001b[39m\u001b[39mself\u001b[39m\u001b[39m.\u001b[39mlow)\u001b[39m/\u001b[39m\u001b[39m2\u001b[39m)\n\u001b[1;32m     38\u001b[0m \u001b[39mreturn\u001b[39;00m returned_matrix\n",
      "\u001b[0;31mTypeError\u001b[0m: can't multiply sequence by non-int of type 'float'"
     ]
    }
   ],
   "source": [
    "do_init_8 = DOptimalInit2D(low=3, high=9, sample_size=8)\n",
    "do_init_12 = DOptimalInit2D(low=3, high=9, sample_size=12)\n",
    "do_init_14 = DOptimalInit2D(low=3,high=9, sample_size=14)\n",
    "\n",
    "ackley_experiments_DO = {\n",
    "    'ack_ei_8_do': BOTemperatureGP(evaluation_component=ackley_func, initial_method=do_init_8, \n",
    "                                      lower_bound=[-10,-10], upper_bound=[10,10], total_iter=150, initial_sample_size=8),\n",
    "    'ack_ei_12_do': BOTemperatureGP(evaluation_component=ackley_func, initial_method=do_init_12, \n",
    "                                      lower_bound=[-10,-10], upper_bound=[10,10], total_iter=150, initial_sample_size=12), \n",
    "    'ack_ei_14_do': BOTemperatureGP(evaluation_component=ackley_func, initial_method=do_init_14, \n",
    "                                      lower_bound=[-10,-10], upper_bound=[10,10], total_iter=150, initial_sample_size=14), \n",
    "    'ack_pi_8_do': BOTemperatureGP(evaluation_component=ackley_func, initial_method=do_init_8, \n",
    "                                      lower_bound=[-10,-10], upper_bound=[10,10], total_iter=150, initial_sample_size=8, acq_function=acq_pi), \n",
    "    'ack_pi_12_do': BOTemperatureGP(evaluation_component=ackley_func, initial_method=do_init_12, \n",
    "                                      lower_bound=[-10,-10], upper_bound=[10,10], total_iter=150, initial_sample_size=12, acq_function=acq_pi), \n",
    "    'ack_pi_14_do': BOTemperatureGP(evaluation_component=ackley_func, initial_method=do_init_14, \n",
    "                                      lower_bound=[-10,-10], upper_bound=[10,10], total_iter=150, initial_sample_size=14, acq_function=acq_pi),\n",
    "    'ack_ucb_8_do': BOTemperatureGP(evaluation_component=ackley_func, initial_method=do_init_8, \n",
    "                                      lower_bound=[-10,-10], upper_bound=[10,10], total_iter=150, initial_sample_size=8, acq_function=acq_ucb), \n",
    "    'ack_ucb_12_do': BOTemperatureGP(evaluation_component=ackley_func, initial_method=do_init_12, \n",
    "                                      lower_bound=[-10,-10], upper_bound=[10,10], total_iter=150, initial_sample_size=12, acq_function=acq_ucb), \n",
    "    'ack_ucb_14_do': BOTemperatureGP(evaluation_component=ackley_func, initial_method=do_init_14, \n",
    "                                      lower_bound=[-10,-10], upper_bound=[10,10], total_iter=150, initial_sample_size=14, acq_function=acq_ucb)\n",
    "    }\n",
    "for exp_name, exp_obj in tqdm(ackley_experiments_DO.items()):\n",
    "    #mapping_list = []\n",
    "    experiment_list = [lambda: exp_obj for _ in range(50)]\n",
    "    mapping_list = [func().optimise() for func in experiment_list]\n",
    "    # for exp in experiment_list:\n",
    "    #     mapping_list.append(exp.optimise())\n",
    "    ackley_results[exp_name] = mapping_list"
   ]
  },
  {
   "cell_type": "code",
   "execution_count": 10,
   "metadata": {},
   "outputs": [
    {
     "name": "stdout",
     "output_type": "stream",
     "text": [
      "Stored 'schaffer_results' (dict)\n"
     ]
    }
   ],
   "source": [
    "%store schaffer_results"
   ]
  },
  {
   "cell_type": "code",
   "execution_count": 11,
   "metadata": {},
   "outputs": [
    {
     "name": "stdout",
     "output_type": "stream",
     "text": [
      "Stored 'ackley_results' (dict)\n"
     ]
    }
   ],
   "source": [
    "%store ackley_results"
   ]
  },
  {
   "cell_type": "code",
   "execution_count": null,
   "metadata": {},
   "outputs": [],
   "source": [
    "def find_stable_point(data_dict, start_index, threshold):\n",
    "     # Convert the dictionary to a list of items, sorted by the keys\n",
    "     data_list = sorted(list(data_dict.items()))\n",
    "     # Start from the given index\n",
    "     for i in range(start_index, len(data_list)-1):\n",
    "         # Calculate the difference between the current and next value\n",
    "         if i+3 <= len(data_list)-1:\n",
    "             difference = abs(((data_list[i][1]-data_list[i+1][1])+(data_list[i+1][1] - data_list[i+2][1])+(data_list[i+2][1]-data_list[i+3][1]))/3)\n",
    "         else:\n",
    "             difference = threshold+1\n",
    "         # If the difference is below the threshold, return the current index\n",
    "         if difference < threshold:\n",
    "             return i\n",
    "\n",
    "     # If no stable point was found, return None\n",
    "     return None"
   ]
  },
  {
   "cell_type": "code",
   "execution_count": null,
   "metadata": {},
   "outputs": [],
   "source": [
    "def improvement_curve(data_dict, start_index):\n",
    "    #convert the dictionary to a list of items, sorted by the keys \n",
    "    data_list = sorted(list(data_dict.items()))\n",
    "    result_curve = []\n",
    "    result_curve.append(data_list[start_index][1])\n",
    "    for i in range(start_index,len(data_list)-1):\n",
    "        if data_list[i][1] > result_curve[-1]:\n",
    "            result_curve.append(data_list[i][1])\n",
    "        else: result_curve.append(result_curve[-1])\n",
    "    return result_curve"
   ]
  }
 ],
 "metadata": {
  "kernelspec": {
   "display_name": "Python 3 (ipykernel)",
   "language": "python",
   "name": "python3"
  },
  "language_info": {
   "codemirror_mode": {
    "name": "ipython",
    "version": 3
   },
   "file_extension": ".py",
   "mimetype": "text/x-python",
   "name": "python",
   "nbconvert_exporter": "python",
   "pygments_lexer": "ipython3",
   "version": "3.11.5"
  },
  "vscode": {
   "interpreter": {
    "hash": "feade53332bab483af68bdff038133aa57fe89c6bb2a958d25ad4e24bc49a331"
   }
  }
 },
 "nbformat": 4,
 "nbformat_minor": 2
}
