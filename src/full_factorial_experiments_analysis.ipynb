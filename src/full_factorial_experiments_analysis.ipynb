{
 "cells": [
  {
   "cell_type": "code",
   "execution_count": 1,
   "metadata": {},
   "outputs": [],
   "source": [
    "from matplotlib import pyplot as plt\n",
    "import numpy as np\n",
    "from scipy.stats import f_oneway, kendalltau, pearsonr, spearmanr, ttest_ind, ttest_1samp\n",
    "from simple_GP_temperature.experiments_analysis_helpers import *"
   ]
  },
  {
   "cell_type": "code",
   "execution_count": 8,
   "metadata": {},
   "outputs": [],
   "source": [
    "%store -r"
   ]
  },
  {
   "cell_type": "code",
   "execution_count": 7,
   "metadata": {},
   "outputs": [
    {
     "name": "stdout",
     "output_type": "stream",
     "text": [
      "Operation cancelled.\n",
      "Operation cancelled.\n"
     ]
    }
   ],
   "source": [
    "%load data/ackley_results_data.txt\n",
    "%load data/non_results_data.txt\n",
    "%load data/schaffer_results_data.txt\n"
   ]
  },
  {
   "cell_type": "code",
   "execution_count": 9,
   "metadata": {},
   "outputs": [
    {
     "data": {
      "text/plain": [
       "40"
      ]
     },
     "execution_count": 9,
     "metadata": {},
     "output_type": "execute_result"
    }
   ],
   "source": [
    "len(ackley_results)"
   ]
  },
  {
   "cell_type": "code",
   "execution_count": 4,
   "metadata": {},
   "outputs": [],
   "source": [
    "exp_results = {}\n",
    "exp_results['non_ei_8_ff'] = non_convex_results['non_ei_8_ff']\n",
    "exp_results['non_ei_12_ff'] = non_convex_results['non_ei_12_ff']\n",
    "exp_results['non_ei_14_ff'] = non_convex_results['non_ei_14_ff']\n",
    "exp_results['non_ei_8_rd'] = non_convex_results['non_ei_8_rd']\n",
    "exp_results['non_ei_12_rd'] = non_convex_results['non_ei_12_rd']\n",
    "exp_results['non_ei_14_rd'] = non_convex_results['non_ei_14_rd']\n",
    "exp_results['ack_ei_8_ff'] = ackley_results['ack_ei_8_ff']\n",
    "exp_results['ack_ei_12_ff'] = ackley_results['ack_ei_12_ff']\n",
    "exp_results['ack_ei_14_ff'] = ackley_results['ack_ei_14_ff']\n",
    "exp_results['ack_ei_8_rd'] = ackley_results['ack_ei_8_rd']\n",
    "exp_results['ack_ei_12_rd'] = ackley_results['ack_ei_12_rd']\n",
    "exp_results['ack_ei_14_rd'] = ackley_results['ack_ei_14_rd']\n",
    "exp_results['sch_ei_8_ff'] = schaffer_results['sch_ei_8_ff']\n",
    "exp_results['sch_ei_12_ff'] = schaffer_results['sch_ei_12_ff']\n",
    "exp_results['sch_ei_14_ff'] = schaffer_results['sch_ei_14_ff']\n",
    "exp_results['sch_ei_8_rd'] = schaffer_results['sch_ei_8_rd']\n",
    "exp_results['sch_ei_12_rd'] = schaffer_results['sch_ei_12_rd']\n",
    "exp_results['sch_ei_14_rd'] = schaffer_results['sch_ei_14_rd']"
   ]
  },
  {
   "cell_type": "code",
   "execution_count": 5,
   "metadata": {},
   "outputs": [],
   "source": [
    "best_value_means = best_value_mean(exp_results)\n",
    "best_iter_means = best_iter_mean(exp_results)"
   ]
  },
  {
   "cell_type": "markdown",
   "metadata": {},
   "source": [
    "The T-tests for comparing the means of optimal outputs under different initialisation methods (FF and RD) 8 initial samples"
   ]
  },
  {
   "cell_type": "code",
   "execution_count": 6,
   "metadata": {},
   "outputs": [
    {
     "data": {
      "text/plain": [
       "TtestResult(statistic=-0.001510242098354237, pvalue=0.9987980716141174, df=98.0)"
      ]
     },
     "execution_count": 6,
     "metadata": {},
     "output_type": "execute_result"
    }
   ],
   "source": [
    "ttest_ind(get_best_evlauation_scores(ackley_results['ack_ei_8_ff']), get_best_evlauation_scores(ackley_results['ack_ei_8_rd']))"
   ]
  },
  {
   "cell_type": "code",
   "execution_count": 7,
   "metadata": {},
   "outputs": [
    {
     "data": {
      "text/plain": [
       "TtestResult(statistic=0.16054362902909242, pvalue=0.8727833253113267, df=98.0)"
      ]
     },
     "execution_count": 7,
     "metadata": {},
     "output_type": "execute_result"
    }
   ],
   "source": [
    "ttest_ind(get_best_evlauation_scores(schaffer_results['sch_ei_8_ff']), get_best_evlauation_scores(schaffer_results['sch_ei_8_rd']))"
   ]
  },
  {
   "cell_type": "code",
   "execution_count": 8,
   "metadata": {},
   "outputs": [
    {
     "data": {
      "text/plain": [
       "TtestResult(statistic=1.1388313865887603, pvalue=0.25754968670494055, df=98.0)"
      ]
     },
     "execution_count": 8,
     "metadata": {},
     "output_type": "execute_result"
    }
   ],
   "source": [
    "ttest_ind(get_best_evlauation_scores(non_convex_results['non_ei_8_ff']), get_best_evlauation_scores(non_convex_results['non_ei_8_rd']))"
   ]
  },
  {
   "cell_type": "markdown",
   "metadata": {},
   "source": [
    "The T-tests for comparing the means of optimal outputs under different initialisation methods (FF and RD) 12 initial samples"
   ]
  },
  {
   "cell_type": "code",
   "execution_count": 7,
   "metadata": {},
   "outputs": [
    {
     "data": {
      "text/plain": [
       "TtestResult(statistic=-0.5332855142559096, pvalue=0.5950433317259995, df=98.0)"
      ]
     },
     "execution_count": 7,
     "metadata": {},
     "output_type": "execute_result"
    }
   ],
   "source": [
    "ttest_ind(get_best_evlauation_scores(ackley_results['ack_ei_12_ff']), get_best_evlauation_scores(ackley_results['ack_ei_12_rd']))"
   ]
  },
  {
   "cell_type": "code",
   "execution_count": null,
   "metadata": {},
   "outputs": [
    {
     "data": {
      "text/plain": [
       "TtestResult(statistic=-1.5258946713458748, pvalue=0.13025705834588544, df=98.0)"
      ]
     },
     "execution_count": 10,
     "metadata": {},
     "output_type": "execute_result"
    }
   ],
   "source": [
    "ttest_ind(get_best_evlauation_scores(schaffer_results['sch_ei_12_ff']), get_best_evlauation_scores(schaffer_results['sch_ei_12_rd']))"
   ]
  },
  {
   "cell_type": "code",
   "execution_count": null,
   "metadata": {},
   "outputs": [
    {
     "data": {
      "text/plain": [
       "TtestResult(statistic=1.0244475091190357, pvalue=0.3081460802901728, df=98.0)"
      ]
     },
     "execution_count": 12,
     "metadata": {},
     "output_type": "execute_result"
    }
   ],
   "source": [
    "ttest_ind(get_best_evlauation_scores(non_convex_results['non_ei_12_ff']), get_best_evlauation_scores(non_convex_results['non_ei_12_rd']))"
   ]
  },
  {
   "cell_type": "markdown",
   "metadata": {},
   "source": [
    "The T-tests for comparing the means of optimal outputs under different initialisation methods (FF and RD) 14 initial samples"
   ]
  },
  {
   "cell_type": "code",
   "execution_count": null,
   "metadata": {},
   "outputs": [
    {
     "data": {
      "text/plain": [
       "TtestResult(statistic=-4.377513519924094, pvalue=3.0050673731202577e-05, df=98.0)"
      ]
     },
     "execution_count": 13,
     "metadata": {},
     "output_type": "execute_result"
    }
   ],
   "source": [
    "ttest_ind(get_best_evlauation_scores(ackley_results['ack_ei_14_ff']), get_best_evlauation_scores(ackley_results['ack_ei_14_rd']))"
   ]
  },
  {
   "cell_type": "code",
   "execution_count": 6,
   "metadata": {},
   "outputs": [
    {
     "data": {
      "text/plain": [
       "TtestResult(statistic=-4.85313268792738, pvalue=1.2777526933975054e-05, df=49)"
      ]
     },
     "execution_count": 6,
     "metadata": {},
     "output_type": "execute_result"
    }
   ],
   "source": [
    "ttest_1samp(get_best_evlauation_scores(ackley_results['ack_ei_14_ff']), popmean=best_value_means['ack_ei_14_rd'])"
   ]
  },
  {
   "cell_type": "code",
   "execution_count": null,
   "metadata": {},
   "outputs": [
    {
     "data": {
      "text/plain": [
       "TtestResult(statistic=-5.448545418867109, pvalue=3.781205798736849e-07, df=98.0)"
      ]
     },
     "execution_count": 14,
     "metadata": {},
     "output_type": "execute_result"
    }
   ],
   "source": [
    "ttest_ind(get_best_evlauation_scores(schaffer_results['sch_ei_14_ff']), get_best_evlauation_scores(schaffer_results['sch_ei_14_rd']))"
   ]
  },
  {
   "cell_type": "code",
   "execution_count": 14,
   "metadata": {},
   "outputs": [
    {
     "data": {
      "text/plain": [
       "TtestResult(statistic=-6.753790394660591, pvalue=1.5968387242746476e-08, df=49)"
      ]
     },
     "execution_count": 14,
     "metadata": {},
     "output_type": "execute_result"
    }
   ],
   "source": [
    "ttest_1samp(get_best_evlauation_scores(schaffer_results['sch_ei_14_ff']), best_value_means['sch_ei_14_rd'])"
   ]
  },
  {
   "cell_type": "code",
   "execution_count": null,
   "metadata": {},
   "outputs": [
    {
     "data": {
      "text/plain": [
       "TtestResult(statistic=-0.3014897511616466, pvalue=0.7636798730193931, df=98.0)"
      ]
     },
     "execution_count": 15,
     "metadata": {},
     "output_type": "execute_result"
    }
   ],
   "source": [
    "ttest_ind(get_best_evlauation_scores(non_convex_results['non_ei_14_ff']), get_best_evlauation_scores(non_convex_results['non_ei_14_rd']))"
   ]
  },
  {
   "cell_type": "markdown",
   "metadata": {},
   "source": [
    "The T-tests for comparing the means of speed(iterations) under different initialisation methods (FF and RD) 8 initial samples"
   ]
  },
  {
   "cell_type": "code",
   "execution_count": 21,
   "metadata": {},
   "outputs": [
    {
     "data": {
      "text/plain": [
       "TtestResult(statistic=-3.294745830854343, pvalue=0.0013718870727318009, df=98.0)"
      ]
     },
     "execution_count": 21,
     "metadata": {},
     "output_type": "execute_result"
    }
   ],
   "source": [
    "ttest_ind(get_best_iter(ackley_results['ack_ei_8_ff']), get_best_iter(ackley_results['ack_ei_8_rd']))"
   ]
  },
  {
   "cell_type": "code",
   "execution_count": 27,
   "metadata": {},
   "outputs": [
    {
     "data": {
      "text/plain": [
       "TtestResult(statistic=-4.359093820134828, pvalue=6.680117499453358e-05, df=49)"
      ]
     },
     "execution_count": 27,
     "metadata": {},
     "output_type": "execute_result"
    }
   ],
   "source": [
    "ttest_1samp(get_best_iter(ackley_results['ack_ei_8_ff']), best_iter_means['ack_ei_8_rd'][0])"
   ]
  },
  {
   "cell_type": "code",
   "execution_count": 17,
   "metadata": {},
   "outputs": [
    {
     "data": {
      "text/plain": [
       "TtestResult(statistic=-0.19178482072559236, pvalue=0.8483075806072538, df=98.0)"
      ]
     },
     "execution_count": 17,
     "metadata": {},
     "output_type": "execute_result"
    }
   ],
   "source": [
    "ttest_ind(get_best_iter(schaffer_results['sch_ei_8_ff']), get_best_iter(schaffer_results['sch_ei_8_rd']))"
   ]
  },
  {
   "cell_type": "code",
   "execution_count": 18,
   "metadata": {},
   "outputs": [
    {
     "data": {
      "text/plain": [
       "TtestResult(statistic=0.3707389989326635, pvalue=0.7116321091301888, df=98.0)"
      ]
     },
     "execution_count": 18,
     "metadata": {},
     "output_type": "execute_result"
    }
   ],
   "source": [
    "ttest_ind(get_best_iter(non_convex_results['non_ei_8_ff']), get_best_iter(non_convex_results['non_ei_8_rd']))"
   ]
  },
  {
   "cell_type": "markdown",
   "metadata": {},
   "source": [
    "The T-tests for comparing the means of speed(iterations) under different initialisation methods (FF and RD) 12 initial samples"
   ]
  },
  {
   "cell_type": "code",
   "execution_count": 28,
   "metadata": {},
   "outputs": [
    {
     "data": {
      "text/plain": [
       "TtestResult(statistic=-7.375414573026212, pvalue=5.317210133275217e-11, df=98.0)"
      ]
     },
     "execution_count": 28,
     "metadata": {},
     "output_type": "execute_result"
    }
   ],
   "source": [
    "ttest_ind(get_best_iter(ackley_results['ack_ei_12_ff']), get_best_iter(ackley_results['ack_ei_12_rd']))"
   ]
  },
  {
   "cell_type": "code",
   "execution_count": 14,
   "metadata": {},
   "outputs": [
    {
     "data": {
      "text/plain": [
       "TtestResult(statistic=-9.324457263423547, pvalue=1.9470269689341197e-12, df=49)"
      ]
     },
     "execution_count": 14,
     "metadata": {},
     "output_type": "execute_result"
    }
   ],
   "source": [
    "ttest_1samp(get_best_iter(ackley_results['ack_ei_12_ff']), best_iter_means['ack_ei_12_rd'][0])"
   ]
  },
  {
   "cell_type": "code",
   "execution_count": 31,
   "metadata": {},
   "outputs": [
    {
     "data": {
      "text/plain": [
       "TtestResult(statistic=-3.002689892172688, pvalue=0.0033957132889818526, df=98.0)"
      ]
     },
     "execution_count": 31,
     "metadata": {},
     "output_type": "execute_result"
    }
   ],
   "source": [
    "ttest_ind(get_best_iter(schaffer_results['sch_ei_12_ff']), get_best_iter(schaffer_results['sch_ei_12_rd']))"
   ]
  },
  {
   "cell_type": "code",
   "execution_count": 32,
   "metadata": {},
   "outputs": [
    {
     "data": {
      "text/plain": [
       "TtestResult(statistic=0.8732960061725243, pvalue=0.3846366156475278, df=98.0)"
      ]
     },
     "execution_count": 32,
     "metadata": {},
     "output_type": "execute_result"
    }
   ],
   "source": [
    "ttest_ind(get_best_iter(non_convex_results['non_ei_12_ff']), get_best_iter(non_convex_results['non_ei_12_rd']))"
   ]
  },
  {
   "cell_type": "markdown",
   "metadata": {},
   "source": [
    "The T-tests for comparing the means of speed(iterations) under different initialisation methods (FF and RD) 14 initial samples"
   ]
  },
  {
   "cell_type": "code",
   "execution_count": 33,
   "metadata": {},
   "outputs": [
    {
     "data": {
      "text/plain": [
       "TtestResult(statistic=-9.12522761634058, pvalue=9.57853430045055e-15, df=98.0)"
      ]
     },
     "execution_count": 33,
     "metadata": {},
     "output_type": "execute_result"
    }
   ],
   "source": [
    "ttest_ind(get_best_iter(ackley_results['ack_ei_14_ff']), get_best_iter(ackley_results['ack_ei_14_rd']))"
   ]
  },
  {
   "cell_type": "code",
   "execution_count": 34,
   "metadata": {},
   "outputs": [
    {
     "data": {
      "text/plain": [
       "TtestResult(statistic=-2.346504596134685, pvalue=0.020963446680639698, df=98.0)"
      ]
     },
     "execution_count": 34,
     "metadata": {},
     "output_type": "execute_result"
    }
   ],
   "source": [
    "ttest_ind(get_best_iter(schaffer_results['sch_ei_14_ff']), get_best_iter(schaffer_results['sch_ei_14_rd']))"
   ]
  },
  {
   "cell_type": "code",
   "execution_count": 35,
   "metadata": {},
   "outputs": [
    {
     "data": {
      "text/plain": [
       "TtestResult(statistic=-0.48660559990811336, pvalue=0.6276243412220291, df=98.0)"
      ]
     },
     "execution_count": 35,
     "metadata": {},
     "output_type": "execute_result"
    }
   ],
   "source": [
    "ttest_ind(get_best_iter(non_convex_results['non_ei_14_ff']), get_best_iter(non_convex_results['non_ei_14_rd']))"
   ]
  },
  {
   "cell_type": "markdown",
   "metadata": {},
   "source": [
    " The p-value of ANOVA test of influence of the initial sample size of full-factorial initialisation on the optimal outputs (Final Ouputs)"
   ]
  },
  {
   "cell_type": "code",
   "execution_count": null,
   "metadata": {},
   "outputs": [
    {
     "data": {
      "text/plain": [
       "F_onewayResult(statistic=7.8005286928255035, pvalue=0.0006029159076502983)"
      ]
     },
     "execution_count": 23,
     "metadata": {},
     "output_type": "execute_result"
    }
   ],
   "source": [
    "f_oneway(get_best_evlauation_scores(ackley_results['ack_ei_8_ff']), get_best_evlauation_scores(ackley_results['ack_ei_12_ff']), get_best_evlauation_scores(ackley_results['ack_ei_14_ff']))"
   ]
  },
  {
   "cell_type": "code",
   "execution_count": null,
   "metadata": {},
   "outputs": [
    {
     "data": {
      "text/plain": [
       "SignificanceResult(statistic=0.17551020408163268, pvalue=0.07210660888143891)"
      ]
     },
     "execution_count": 24,
     "metadata": {},
     "output_type": "execute_result"
    }
   ],
   "source": [
    "kendalltau(get_best_evlauation_scores(ackley_results['ack_ei_8_ff']), get_best_evlauation_scores(ackley_results['ack_ei_8_rd']))"
   ]
  },
  {
   "cell_type": "code",
   "execution_count": null,
   "metadata": {},
   "outputs": [
    {
     "data": {
      "text/plain": [
       "F_onewayResult(statistic=12.933876373692415, pvalue=6.696472855578888e-06)"
      ]
     },
     "execution_count": 36,
     "metadata": {},
     "output_type": "execute_result"
    }
   ],
   "source": [
    "f_oneway(get_best_evlauation_scores(schaffer_results['sch_ei_8_ff']), get_best_evlauation_scores(schaffer_results['sch_ei_12_ff']), get_best_evlauation_scores(schaffer_results['sch_ei_14_ff']))"
   ]
  },
  {
   "cell_type": "code",
   "execution_count": null,
   "metadata": {},
   "outputs": [
    {
     "data": {
      "text/plain": [
       "F_onewayResult(statistic=2.2707328349790368, pvalue=0.10684644579988721)"
      ]
     },
     "execution_count": 5,
     "metadata": {},
     "output_type": "execute_result"
    }
   ],
   "source": [
    "f_oneway(get_best_evlauation_scores(non_convex_results['non_ei_8_ff']), get_best_evlauation_scores(non_convex_results['non_ei_12_ff']), get_best_evlauation_scores(non_convex_results['non_ei_14_ff']))"
   ]
  },
  {
   "cell_type": "markdown",
   "metadata": {},
   "source": [
    "The p-value of ANOVA test of influence of the initial sample size of full-factorial initialisation on the iteration number of optimal outputs (Speed)"
   ]
  },
  {
   "cell_type": "code",
   "execution_count": null,
   "metadata": {},
   "outputs": [
    {
     "data": {
      "text/plain": [
       "F_onewayResult(statistic=9.695341905600216, pvalue=0.00011087716736296214)"
      ]
     },
     "execution_count": 25,
     "metadata": {},
     "output_type": "execute_result"
    }
   ],
   "source": [
    "f_oneway(get_best_iter(ackley_results['ack_ei_8_ff']), get_best_iter(ackley_results['ack_ei_12_ff']), get_best_iter(ackley_results['ack_ei_14_ff']))"
   ]
  },
  {
   "cell_type": "code",
   "execution_count": null,
   "metadata": {},
   "outputs": [
    {
     "data": {
      "text/plain": [
       "F_onewayResult(statistic=2.130876814453271, pvalue=0.12238634768744193)"
      ]
     },
     "execution_count": 45,
     "metadata": {},
     "output_type": "execute_result"
    }
   ],
   "source": [
    "f_oneway(get_best_iter(schaffer_results['sch_ei_8_ff']), get_best_iter(schaffer_results['sch_ei_12_ff']), get_best_iter(schaffer_results['sch_ei_14_ff']))"
   ]
  },
  {
   "cell_type": "code",
   "execution_count": null,
   "metadata": {},
   "outputs": [
    {
     "data": {
      "text/plain": [
       "F_onewayResult(statistic=3.6436056053528594, pvalue=0.02854790973163676)"
      ]
     },
     "execution_count": 41,
     "metadata": {},
     "output_type": "execute_result"
    }
   ],
   "source": [
    "f_oneway(get_best_iter(non_convex_results['non_ei_8_ff']), get_best_iter(non_convex_results['non_ei_12_ff']), get_best_iter(non_convex_results['non_ei_14_ff']))"
   ]
  },
  {
   "cell_type": "markdown",
   "metadata": {},
   "source": [
    "The p-value of ANOVA test of influence of the initial sample size of random initialisation on the optimal outputs (Final Output)"
   ]
  },
  {
   "cell_type": "code",
   "execution_count": null,
   "metadata": {},
   "outputs": [
    {
     "data": {
      "text/plain": [
       "F_onewayResult(statistic=0.753379011646249, pvalue=0.4725819505770169)"
      ]
     },
     "execution_count": 29,
     "metadata": {},
     "output_type": "execute_result"
    }
   ],
   "source": [
    "f_oneway(get_best_evlauation_scores(ackley_results['ack_ei_8_rd']), get_best_evlauation_scores(ackley_results['ack_ei_12_rd']), get_best_evlauation_scores(ackley_results['ack_ei_14_rd']))"
   ]
  },
  {
   "cell_type": "code",
   "execution_count": null,
   "metadata": {},
   "outputs": [
    {
     "data": {
      "text/plain": [
       "F_onewayResult(statistic=0.4479607326546582, pvalue=0.6397990348497089)"
      ]
     },
     "execution_count": 42,
     "metadata": {},
     "output_type": "execute_result"
    }
   ],
   "source": [
    "f_oneway(get_best_evlauation_scores(schaffer_results['sch_ei_8_rd']), get_best_evlauation_scores(schaffer_results['sch_ei_12_rd']), get_best_evlauation_scores(schaffer_results['sch_ei_14_rd']))"
   ]
  },
  {
   "cell_type": "code",
   "execution_count": null,
   "metadata": {},
   "outputs": [
    {
     "data": {
      "text/plain": [
       "F_onewayResult(statistic=0.016579238106727786, pvalue=0.9835592799247823)"
      ]
     },
     "execution_count": 46,
     "metadata": {},
     "output_type": "execute_result"
    }
   ],
   "source": [
    "f_oneway(get_best_evlauation_scores(non_convex_results['non_ei_8_rd']), get_best_evlauation_scores(non_convex_results['non_ei_12_rd']), get_best_evlauation_scores(non_convex_results['non_ei_14_rd']))"
   ]
  },
  {
   "cell_type": "markdown",
   "metadata": {},
   "source": [
    "The p-value of ANOVA test of influence of the initial sample size of random initialisation on the iteration number of optimal outputs (Speed)"
   ]
  },
  {
   "cell_type": "code",
   "execution_count": null,
   "metadata": {},
   "outputs": [
    {
     "data": {
      "text/plain": [
       "F_onewayResult(statistic=1.11671045751908, pvalue=0.33011568154998383)"
      ]
     },
     "execution_count": 12,
     "metadata": {},
     "output_type": "execute_result"
    }
   ],
   "source": [
    "f_oneway(get_best_iter(ackley_results['ack_ei_8_rd']), get_best_iter(ackley_results['ack_ei_12_rd']), get_best_iter(ackley_results['ack_ei_14_rd']))"
   ]
  },
  {
   "cell_type": "code",
   "execution_count": null,
   "metadata": {},
   "outputs": [
    {
     "data": {
      "text/plain": [
       "F_onewayResult(statistic=1.9768900946149686, pvalue=0.14216431942947091)"
      ]
     },
     "execution_count": 39,
     "metadata": {},
     "output_type": "execute_result"
    }
   ],
   "source": [
    "f_oneway(get_best_iter(schaffer_results['sch_ei_8_rd']), get_best_iter(schaffer_results['sch_ei_12_rd']), get_best_iter(schaffer_results['sch_ei_14_rd']))"
   ]
  },
  {
   "cell_type": "code",
   "execution_count": null,
   "metadata": {},
   "outputs": [
    {
     "data": {
      "text/plain": [
       "F_onewayResult(statistic=0.3517563423473654, pvalue=0.7040419754230463)"
      ]
     },
     "execution_count": 33,
     "metadata": {},
     "output_type": "execute_result"
    }
   ],
   "source": [
    "f_oneway(get_best_iter(non_convex_results['non_ei_8_rd']), get_best_iter(non_convex_results['non_ei_12_rd']), get_best_iter(non_convex_results['non_ei_14_rd']))"
   ]
  },
  {
   "cell_type": "markdown",
   "metadata": {},
   "source": [
    "Box Plots of Full Factorial initialisation"
   ]
  },
  {
   "cell_type": "code",
   "execution_count": null,
   "metadata": {},
   "outputs": [
    {
     "data": {
      "image/png": "[encoded data removed]",
      "text/plain": [
       "<Figure size 432x288 with 1 Axes>"
      ]
     },
     "metadata": {
      "needs_background": "light"
     },
     "output_type": "display_data"
    }
   ],
   "source": [
    "import matplotlib.pyplot as plt\n",
    "fig, ax = plt.subplots(1, 1)\n",
    "ax.boxplot([get_best_evlauation_scores(ackley_results['ack_ei_8_ff']), get_best_evlauation_scores(ackley_results['ack_ei_12_ff']), get_best_evlauation_scores(ackley_results['ack_ei_14_ff'])])\n",
    "ax.set_xticklabels([\"ack_ei_8_ff\", \"ack_ei_12_ff\", \"ack_ei_14_ff\"]) \n",
    "ax.set_ylabel(\"mean\") \n",
    "ax.set_title(\"influence of the initial sample size of full-factorial initialisation on the optimal outputs (Ackley)\")\n",
    "plt.show()"
   ]
  },
  {
   "cell_type": "code",
   "execution_count": null,
   "metadata": {},
   "outputs": [
    {
     "data": {
      "image/png": "[encoded data removed]",
      "text/plain": [
       "<Figure size 432x288 with 1 Axes>"
      ]
     },
     "metadata": {
      "needs_background": "light"
     },
     "output_type": "display_data"
    }
   ],
   "source": [
    "import matplotlib.pyplot as plt\n",
    "fig, ax = plt.subplots(1, 1)\n",
    "ax.boxplot([get_best_evlauation_scores(ackley_results['ack_ei_8_ff']), get_best_evlauation_scores(ackley_results['ack_ei_8_rd']), get_best_evlauation_scores(ackley_results['ack_ei_12_ff']), get_best_evlauation_scores(ackley_results['ack_ei_12_rd']), get_best_evlauation_scores(ackley_results['ack_ei_14_ff']), get_best_evlauation_scores(ackley_results['ack_ei_14_rd'])])\n",
    "ax.set_xticklabels([\"ack_8_ff\", \"ack_8_rd\", \"ack_12_ff\", \"ack_12_rd\", \"ack_14_ff\", \"ack_14_rd\"]) \n",
    "ax.set_ylabel(\"mean\") \n",
    "ax.set_title(\"\")\n",
    "plt.show()"
   ]
  },
  {
   "cell_type": "code",
   "execution_count": null,
   "metadata": {},
   "outputs": [
    {
     "data": {
      "image/png": "[encoded data removed]",
      "text/plain": [
       "<Figure size 432x288 with 1 Axes>"
      ]
     },
     "metadata": {
      "needs_background": "light"
     },
     "output_type": "display_data"
    }
   ],
   "source": [
    "import matplotlib.pyplot as plt\n",
    "fig, ax = plt.subplots(1, 1)\n",
    "ax.boxplot([get_best_iter_with_start_idx(ackley_results['ack_ei_8_ff'], 8), get_best_iter_with_start_idx(ackley_results['ack_ei_12_ff'], 12), get_best_iter_with_start_idx(ackley_results['ack_ei_14_ff'], 14)])\n",
    "ax.set_xticklabels([\"ack_ei_8_ff\", \"ack_ei_12_ff\", \"ack_ei_14_ff\"]) \n",
    "ax.set_ylabel(\"mean\") \n",
    "ax.set_title(\"The effect of full-factorial sample size on iterations to achieve optimal outputs (Ackley)\")\n",
    "plt.show()"
   ]
  },
  {
   "cell_type": "code",
   "execution_count": null,
   "metadata": {},
   "outputs": [
    {
     "data": {
      "image/png": "[encoded data removed]",
      "text/plain": [
       "<Figure size 432x288 with 1 Axes>"
      ]
     },
     "metadata": {
      "needs_background": "light"
     },
     "output_type": "display_data"
    }
   ],
   "source": [
    "import matplotlib.pyplot as plt\n",
    "fig, ax = plt.subplots(1, 1)\n",
    "ax.boxplot([get_best_iter_with_start_idx(ackley_results['ack_ei_8_ff'], 8), get_best_iter_with_start_idx(ackley_results['ack_ei_8_rd'], 8), \n",
    "            get_best_iter_with_start_idx(ackley_results['ack_ei_12_ff'], 12), get_best_iter_with_start_idx(ackley_results['ack_ei_12_rd'], 12), \n",
    "            get_best_iter_with_start_idx(ackley_results['ack_ei_14_ff'], 14), get_best_iter_with_start_idx(ackley_results['ack_ei_14_rd'], 14)])\n",
    "ax.set_xticklabels([\"ack_8_ff\", \"ack_8_rd\", \"ack_12_ff\", \"ack_12_rd\", \"ack_14_ff\", \"ack_14_rd\"]) \n",
    "ax.set_ylabel(\"iteration\") \n",
    "ax.set_title(\"The effect of different initialisation methods and initial sample sizes on iterations to achieve optimal outputs (Ackley)\")\n",
    "plt.show()"
   ]
  },
  {
   "cell_type": "code",
   "execution_count": null,
   "metadata": {},
   "outputs": [
    {
     "data": {
      "image/png": "[encoded data removed]",
      "text/plain": [
       "<Figure size 432x288 with 1 Axes>"
      ]
     },
     "metadata": {
      "needs_background": "light"
     },
     "output_type": "display_data"
    }
   ],
   "source": [
    "import matplotlib.pyplot as plt\n",
    "fig, ax = plt.subplots(1, 1)\n",
    "ax.boxplot([get_best_evlauation_scores(schaffer_results['sch_ei_8_ff']), get_best_evlauation_scores(schaffer_results['sch_ei_12_ff']), get_best_evlauation_scores(schaffer_results['sch_ei_14_ff'])])\n",
    "ax.set_xticklabels([\"sch_ei_8_ff\", \"sch_ei_12_ff\", \"sch_ei_14_ff\"]) \n",
    "ax.set_ylabel(\"mean\") \n",
    "ax.set_title(\"influence of the initial sample size of full-factorial initialisation on the optimal outputs (schaffer)\")\n",
    "plt.show()"
   ]
  },
  {
   "cell_type": "code",
   "execution_count": null,
   "metadata": {},
   "outputs": [
    {
     "data": {
      "image/png": "[encoded data removed]",
      "text/plain": [
       "<Figure size 432x288 with 1 Axes>"
      ]
     },
     "metadata": {
      "needs_background": "light"
     },
     "output_type": "display_data"
    }
   ],
   "source": [
    "import matplotlib.pyplot as plt\n",
    "fig, ax = plt.subplots(1, 1)\n",
    "ax.boxplot([get_best_evlauation_scores(schaffer_results['sch_ei_8_ff']), get_best_evlauation_scores(schaffer_results['sch_ei_8_rd']),\n",
    "            get_best_evlauation_scores(schaffer_results['sch_ei_12_ff']), get_best_evlauation_scores(schaffer_results['sch_ei_12_rd']),\n",
    "            get_best_evlauation_scores(schaffer_results['sch_ei_14_ff']), get_best_evlauation_scores(schaffer_results['sch_ei_14_rd'])])\n",
    "ax.set_xticklabels([\"sch_8_ff\", \"sch_8_rd\", \"sch_12_ff\", \"sch_12_rd\", \"sch_14_ff\", \"sch_14_rd\"]) \n",
    "ax.set_ylabel(\"mean\") \n",
    "ax.set_title(\"\")\n",
    "plt.show()"
   ]
  },
  {
   "cell_type": "code",
   "execution_count": null,
   "metadata": {},
   "outputs": [
    {
     "data": {
      "image/png": "[encoded data removed]",
      "text/plain": [
       "<Figure size 432x288 with 1 Axes>"
      ]
     },
     "metadata": {
      "needs_background": "light"
     },
     "output_type": "display_data"
    }
   ],
   "source": [
    "import matplotlib.pyplot as plt\n",
    "fig, ax = plt.subplots(1, 1)\n",
    "ax.boxplot([get_best_iter_with_start_idx(schaffer_results['sch_ei_8_ff'], 8), get_best_iter_with_start_idx(schaffer_results['sch_ei_12_ff'], 12), get_best_iter_with_start_idx(schaffer_results['sch_ei_14_ff'], 14)])\n",
    "ax.set_xticklabels([\"sch_ei_8_ff\", \"sch_ei_12_ff\", \"sch_ei_14_ff\"]) \n",
    "ax.set_ylabel(\"iteration\") \n",
    "ax.set_title(\"The effect of full-factorial sample size on iterations to achieve optimal outputs (schaffer)\")\n",
    "plt.show()"
   ]
  },
  {
   "cell_type": "code",
   "execution_count": 15,
   "metadata": {},
   "outputs": [
    {
     "data": {
      "image/png": "[encoded data removed]",
      "text/plain": [
       "<Figure size 432x288 with 1 Axes>"
      ]
     },
     "metadata": {
      "needs_background": "light"
     },
     "output_type": "display_data"
    }
   ],
   "source": [
    "import matplotlib.pyplot as plt\n",
    "fig, ax = plt.subplots(1, 1)\n",
    "ax.boxplot([get_best_iter_with_start_idx(schaffer_results['sch_ei_8_ff'], 8), get_best_iter_with_start_idx(schaffer_results['sch_ei_8_rd'], 8),\n",
    "            get_best_iter_with_start_idx(schaffer_results['sch_ei_12_ff'], 12), get_best_iter_with_start_idx(schaffer_results['sch_ei_12_rd'], 12),\n",
    "            get_best_iter_with_start_idx(schaffer_results['sch_ei_14_ff'], 14), get_best_iter_with_start_idx(schaffer_results['sch_ei_14_rd'], 14)])\n",
    "ax.set_xticklabels([\"sch_8_ff\", \"sch_8_rd\", \"sch_12_ff\", \"sch_12_rd\", \"sch_14_ff\", \"sch_14_rd\"]) \n",
    "ax.set_ylabel(\"iteration\") \n",
    "ax.set_title(\"The effect of different initialisation methods and initial sample sizes on iterations to achieve optimal outputs (schaffer)\")\n",
    "plt.show()"
   ]
  },
  {
   "cell_type": "code",
   "execution_count": null,
   "metadata": {},
   "outputs": [
    {
     "data": {
      "image/png": "[encoded data removed]",
      "text/plain": [
       "<Figure size 432x288 with 1 Axes>"
      ]
     },
     "metadata": {
      "needs_background": "light"
     },
     "output_type": "display_data"
    }
   ],
   "source": [
    "import matplotlib.pyplot as plt\n",
    "fig, ax = plt.subplots(1, 1)\n",
    "ax.boxplot([get_best_evlauation_scores(non_convex_results['non_ei_8_ff']), get_best_evlauation_scores(non_convex_results['non_ei_12_ff']), get_best_evlauation_scores(non_convex_results['non_ei_14_ff'])])\n",
    "ax.set_xticklabels([\"gri_ei_8_ff\", \"gri_ei_12_ff\", \"gri_ei_14_ff\"]) \n",
    "ax.set_ylabel(\"mean\") \n",
    "ax.set_title(\"influence of the initial sample size of full-factorial initialisation on the optimal outputs\")\n",
    "plt.show()"
   ]
  },
  {
   "cell_type": "code",
   "execution_count": null,
   "metadata": {},
   "outputs": [
    {
     "data": {
      "image/png": "[encoded data removed]",
      "text/plain": [
       "<Figure size 432x288 with 1 Axes>"
      ]
     },
     "metadata": {
      "needs_background": "light"
     },
     "output_type": "display_data"
    }
   ],
   "source": [
    "import matplotlib.pyplot as plt\n",
    "fig, ax = plt.subplots(1, 1)\n",
    "ax.boxplot([get_best_evlauation_scores(non_convex_results['non_ei_8_ff']), get_best_evlauation_scores(non_convex_results['non_ei_8_rd']),\n",
    "            get_best_evlauation_scores(non_convex_results['non_ei_12_ff']), get_best_evlauation_scores(non_convex_results['non_ei_12_rd']),\n",
    "            get_best_evlauation_scores(non_convex_results['non_ei_14_ff']), get_best_evlauation_scores(non_convex_results['non_ei_14_rd'])])\n",
    "ax.set_xticklabels([\"gri_8_ff\", \"gri_8_rd\", \"gri_12_ff\", \"gri_12_rd\", \"gri_14_ff\", \"gri_14_rd\"]) \n",
    "ax.set_ylabel(\"mean\") \n",
    "ax.set_title(\"\")\n",
    "plt.show()"
   ]
  },
  {
   "cell_type": "code",
   "execution_count": null,
   "metadata": {},
   "outputs": [
    {
     "data": {
      "image/png": "[encoded data removed]",
      "text/plain": [
       "<Figure size 432x288 with 1 Axes>"
      ]
     },
     "metadata": {
      "needs_background": "light"
     },
     "output_type": "display_data"
    }
   ],
   "source": [
    "import matplotlib.pyplot as plt\n",
    "fig, ax = plt.subplots(1, 1)\n",
    "ax.boxplot([get_best_iter_with_start_idx(non_convex_results['non_ei_8_ff'], 8), get_best_iter_with_start_idx(non_convex_results['non_ei_12_ff'], 12), get_best_iter_with_start_idx(non_convex_results['non_ei_14_ff'], 14)])\n",
    "ax.set_xticklabels([\"gri_ei_8_ff\", \"gri_ei_12_ff\", \"gri_ei_14_ff\"]) \n",
    "ax.set_ylabel(\"mean\") \n",
    "ax.set_title(\"The effect of full-factorial sample size on iterations to achieve optimal outputs\")\n",
    "plt.show()"
   ]
  },
  {
   "cell_type": "code",
   "execution_count": null,
   "metadata": {},
   "outputs": [
    {
     "data": {
      "image/png": "[encoded data removed]",
      "text/plain": [
       "<Figure size 432x288 with 1 Axes>"
      ]
     },
     "metadata": {
      "needs_background": "light"
     },
     "output_type": "display_data"
    }
   ],
   "source": [
    "import matplotlib.pyplot as plt\n",
    "fig, ax = plt.subplots(1, 1)\n",
    "ax.boxplot([get_best_iter_with_start_idx(non_convex_results['non_ei_8_ff'], 8), get_best_iter_with_start_idx(non_convex_results['non_ei_8_rd'], 8),\n",
    "            get_best_iter_with_start_idx(non_convex_results['non_ei_12_ff'], 12), get_best_iter_with_start_idx(non_convex_results['non_ei_12_rd'], 12),\n",
    "            get_best_iter_with_start_idx(non_convex_results['non_ei_14_ff'], 14), get_best_iter_with_start_idx(non_convex_results['non_ei_14_rd'], 14)])\n",
    "ax.set_xticklabels([\"gri_8_ff\", \"gri_8_rd\", \"gri_12_ff\", \"gri_12_rd\", \"gri_14_ff\", \"gri_14_rd\"]) \n",
    "ax.set_ylabel(\"iteration\") \n",
    "ax.set_title(\"The effect of different initialisation methods and initial sample sizes on iterations to achieve optimal outputs (griewank)\")\n",
    "plt.show()"
   ]
  },
  {
   "cell_type": "markdown",
   "metadata": {},
   "source": [
    "Mean of the optimal outputs for full-factorial initialisation"
   ]
  },
  {
   "cell_type": "code",
   "execution_count": 10,
   "metadata": {},
   "outputs": [
    {
     "data": {
      "text/plain": [
       "{'non_ei_8_ff': 19.942781177375842,\n",
       " 'non_ei_12_ff': 19.93966491388033,\n",
       " 'non_ei_14_ff': 19.31485674620425,\n",
       " 'non_ei_8_rd': 19.53565073343612,\n",
       " 'non_ei_12_rd': 19.57342781153116,\n",
       " 'non_ei_14_rd': 19.481338998867226,\n",
       " 'ack_ei_8_ff': 43.4307205676641,\n",
       " 'ack_ei_12_ff': 43.39486548927565,\n",
       " 'ack_ei_14_ff': 42.03190296645938,\n",
       " 'ack_ei_8_rd': 43.43119019984672,\n",
       " 'ack_ei_12_rd': 43.57646165170003,\n",
       " 'ack_ei_14_rd': 43.78941691502186,\n",
       " 'sch_ei_8_ff': 28.385016841119956,\n",
       " 'sch_ei_12_ff': 27.49706459073596,\n",
       " 'sch_ei_14_ff': 25.930953481045098,\n",
       " 'sch_ei_8_rd': 28.316282171374656,\n",
       " 'sch_ei_12_rd': 28.195733139671187,\n",
       " 'sch_ei_14_rd': 28.58974027191623}"
      ]
     },
     "execution_count": 10,
     "metadata": {},
     "output_type": "execute_result"
    }
   ],
   "source": [
    "best_value_mean(exp_results)"
   ]
  },
  {
   "cell_type": "code",
   "execution_count": 23,
   "metadata": {},
   "outputs": [
    {
     "data": {
      "text/plain": [
       "{'non_ei_8_ff': (26.6, 1.5620499351813308),\n",
       " 'non_ei_12_ff': (27.2, 1.8110770276274832),\n",
       " 'non_ei_14_ff': (26.08, 2.6369679558159214),\n",
       " 'non_ei_8_rd': (26.44, 2.585807417423038),\n",
       " 'non_ei_12_rd': (26.8, 2.6457513110645907),\n",
       " 'non_ei_14_rd': (26.36, 3.0447331574376104),\n",
       " 'ack_ei_8_ff': (37.4, 17.953272682160208),\n",
       " 'ack_ei_12_ff': (31.38, 15.074335806263571),\n",
       " 'ack_ei_14_ff': (23.04, 15.455691508308519),\n",
       " 'ack_ei_8_rd': (48.58, 15.552607498422892),\n",
       " 'ack_ei_12_rd': (51.46, 11.660548872158635),\n",
       " 'ack_ei_14_rd': (53.02, 17.029961832018298),\n",
       " 'sch_ei_8_ff': (28.8, 19.405153954555477),\n",
       " 'sch_ei_12_ff': (23.06, 14.071830016028477),\n",
       " 'sch_ei_14_ff': (23.32, 12.259592162873934),\n",
       " 'sch_ei_8_rd': (29.52, 17.72144463637206),\n",
       " 'sch_ei_12_rd': (32.8, 17.8202132422707),\n",
       " 'sch_ei_14_rd': (29.92, 15.406284432010205)}"
      ]
     },
     "execution_count": 23,
     "metadata": {},
     "output_type": "execute_result"
    }
   ],
   "source": [
    "best_iter_mean(exp_results)"
   ]
  }
 ],
 "metadata": {
  "kernelspec": {
   "display_name": "KURF",
   "language": "python",
   "name": "python3"
  },
  "language_info": {
   "codemirror_mode": {
    "name": "ipython",
    "version": 3
   },
   "file_extension": ".py",
   "mimetype": "text/x-python",
   "name": "python",
   "nbconvert_exporter": "python",
   "pygments_lexer": "ipython3",
   "version": "3.11.5"
  }
 },
 "nbformat": 4,
 "nbformat_minor": 2
}
