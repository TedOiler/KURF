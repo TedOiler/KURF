{
 "cells": [
  {
   "cell_type": "code",
   "execution_count": 1,
   "metadata": {},
   "outputs": [],
   "source": [
    "from matplotlib import pyplot as plt\n",
    "import numpy as np\n",
    "from scipy.stats import f_oneway\n",
    "from simple_GP_temperature.experiments_analysis_helpers import *"
   ]
  },
  {
   "cell_type": "code",
   "execution_count": 68,
   "metadata": {},
   "outputs": [],
   "source": [
    "%store -r"
   ]
  },
  {
   "cell_type": "code",
   "execution_count": 69,
   "metadata": {},
   "outputs": [
    {
     "data": {
      "text/plain": [
       "9"
      ]
     },
     "execution_count": 69,
     "metadata": {},
     "output_type": "execute_result"
    }
   ],
   "source": [
    "len(schaffer_results)"
   ]
  },
  {
   "cell_type": "markdown",
   "metadata": {},
   "source": [
    " The p-value of ANOVA test of influence of the initial sample size of full-factorial initialisation on the optimal outputs (Final Ouputs)"
   ]
  },
  {
   "cell_type": "code",
   "execution_count": 23,
   "metadata": {},
   "outputs": [
    {
     "data": {
      "text/plain": [
       "F_onewayResult(statistic=7.8005286928255035, pvalue=0.0006029159076502983)"
      ]
     },
     "execution_count": 23,
     "metadata": {},
     "output_type": "execute_result"
    }
   ],
   "source": [
    "f_oneway(get_best_evlauation_scores(ackley_results['ack_ei_8_ff']), get_best_evlauation_scores(ackley_results['ack_ei_12_ff']), get_best_evlauation_scores(ackley_results['ack_ei_14_ff']))"
   ]
  },
  {
   "cell_type": "code",
   "execution_count": 70,
   "metadata": {},
   "outputs": [
    {
     "data": {
      "text/plain": [
       "F_onewayResult(statistic=3.7483579601996784, pvalue=0.025838010221205805)"
      ]
     },
     "execution_count": 70,
     "metadata": {},
     "output_type": "execute_result"
    }
   ],
   "source": [
    "f_oneway(get_best_evlauation_scores(schaffer_results['sch_ei_8_ff']), get_best_evlauation_scores(schaffer_results['sch_ei_12_ff']), get_best_evlauation_scores(schaffer_results['sch_ei_14_ff']))"
   ]
  },
  {
   "cell_type": "code",
   "execution_count": 5,
   "metadata": {},
   "outputs": [
    {
     "data": {
      "text/plain": [
       "F_onewayResult(statistic=2.2707328349790368, pvalue=0.10684644579988721)"
      ]
     },
     "execution_count": 5,
     "metadata": {},
     "output_type": "execute_result"
    }
   ],
   "source": [
    "f_oneway(get_best_evlauation_scores(non_convex_results['non_ei_8_ff']), get_best_evlauation_scores(non_convex_results['non_ei_12_ff']), get_best_evlauation_scores(non_convex_results['non_ei_14_ff']))"
   ]
  },
  {
   "cell_type": "markdown",
   "metadata": {},
   "source": [
    "The p-value of ANOVA test of influence of the initial sample size of full-factorial initialisation on the iteration number of optimal outputs (Speed)"
   ]
  },
  {
   "cell_type": "code",
   "execution_count": 25,
   "metadata": {},
   "outputs": [
    {
     "data": {
      "text/plain": [
       "F_onewayResult(statistic=9.695341905600216, pvalue=0.00011087716736296214)"
      ]
     },
     "execution_count": 25,
     "metadata": {},
     "output_type": "execute_result"
    }
   ],
   "source": [
    "f_oneway(get_best_iter(ackley_results['ack_ei_8_ff']), get_best_iter(ackley_results['ack_ei_12_ff']), get_best_iter(ackley_results['ack_ei_14_ff']))"
   ]
  },
  {
   "cell_type": "code",
   "execution_count": 71,
   "metadata": {},
   "outputs": [
    {
     "data": {
      "text/plain": [
       "F_onewayResult(statistic=0.798217283457185, pvalue=0.45207189516156265)"
      ]
     },
     "execution_count": 71,
     "metadata": {},
     "output_type": "execute_result"
    }
   ],
   "source": [
    "f_oneway(get_best_iter(schaffer_results['sch_ei_8_ff']), get_best_iter(schaffer_results['sch_ei_12_ff']), get_best_iter(schaffer_results['sch_ei_14_ff']))"
   ]
  },
  {
   "cell_type": "code",
   "execution_count": 8,
   "metadata": {},
   "outputs": [
    {
     "data": {
      "text/plain": [
       "F_onewayResult(statistic=3.6436056053528594, pvalue=0.02854790973163676)"
      ]
     },
     "execution_count": 8,
     "metadata": {},
     "output_type": "execute_result"
    }
   ],
   "source": [
    "f_oneway(get_best_iter(non_convex_results['non_ei_8_ff']), get_best_iter(non_convex_results['non_ei_12_ff']), get_best_iter(non_convex_results['non_ei_14_ff']))"
   ]
  },
  {
   "cell_type": "markdown",
   "metadata": {},
   "source": [
    "The p-value of ANOVA test of influence of the initial sample size of random initialisation on the optimal outputs (Final Output)"
   ]
  },
  {
   "cell_type": "code",
   "execution_count": 9,
   "metadata": {},
   "outputs": [
    {
     "data": {
      "text/plain": [
       "F_onewayResult(statistic=0.753379011646249, pvalue=0.4725819505770169)"
      ]
     },
     "execution_count": 9,
     "metadata": {},
     "output_type": "execute_result"
    }
   ],
   "source": [
    "f_oneway(get_best_evlauation_scores(ackley_results['ack_ei_8_rd']), get_best_evlauation_scores(ackley_results['ack_ei_12_rd']), get_best_evlauation_scores(ackley_results['ack_ei_14_rd']))"
   ]
  },
  {
   "cell_type": "code",
   "execution_count": 38,
   "metadata": {},
   "outputs": [
    {
     "data": {
      "text/plain": [
       "F_onewayResult(statistic=0.33368709705658883, pvalue=0.7168189944445396)"
      ]
     },
     "execution_count": 38,
     "metadata": {},
     "output_type": "execute_result"
    }
   ],
   "source": [
    "f_oneway(get_best_evlauation_scores(schaffer_results['sch_ei_8_rd']), get_best_evlauation_scores(schaffer_results['sch_ei_12_rd']), get_best_evlauation_scores(schaffer_results['sch_ei_14_rd']))"
   ]
  },
  {
   "cell_type": "code",
   "execution_count": 11,
   "metadata": {},
   "outputs": [
    {
     "data": {
      "text/plain": [
       "F_onewayResult(statistic=0.016579238106727786, pvalue=0.9835592799247823)"
      ]
     },
     "execution_count": 11,
     "metadata": {},
     "output_type": "execute_result"
    }
   ],
   "source": [
    "f_oneway(get_best_evlauation_scores(non_convex_results['non_ei_8_rd']), get_best_evlauation_scores(non_convex_results['non_ei_12_rd']), get_best_evlauation_scores(non_convex_results['non_ei_14_rd']))"
   ]
  },
  {
   "cell_type": "markdown",
   "metadata": {},
   "source": [
    "The p-value of ANOVA test of influence of the initial sample size of random initialisation on the iteration number of optimal outputs (Speed)"
   ]
  },
  {
   "cell_type": "code",
   "execution_count": 12,
   "metadata": {},
   "outputs": [
    {
     "data": {
      "text/plain": [
       "F_onewayResult(statistic=1.11671045751908, pvalue=0.33011568154998383)"
      ]
     },
     "execution_count": 12,
     "metadata": {},
     "output_type": "execute_result"
    }
   ],
   "source": [
    "f_oneway(get_best_iter(ackley_results['ack_ei_8_rd']), get_best_iter(ackley_results['ack_ei_12_rd']), get_best_iter(ackley_results['ack_ei_14_rd']))"
   ]
  },
  {
   "cell_type": "code",
   "execution_count": 39,
   "metadata": {},
   "outputs": [
    {
     "data": {
      "text/plain": [
       "F_onewayResult(statistic=1.9768900946149686, pvalue=0.14216431942947091)"
      ]
     },
     "execution_count": 39,
     "metadata": {},
     "output_type": "execute_result"
    }
   ],
   "source": [
    "f_oneway(get_best_iter(schaffer_results['sch_ei_8_rd']), get_best_iter(schaffer_results['sch_ei_12_rd']), get_best_iter(schaffer_results['sch_ei_14_rd']))"
   ]
  },
  {
   "cell_type": "code",
   "execution_count": 33,
   "metadata": {},
   "outputs": [
    {
     "data": {
      "text/plain": [
       "F_onewayResult(statistic=0.3517563423473654, pvalue=0.7040419754230463)"
      ]
     },
     "execution_count": 33,
     "metadata": {},
     "output_type": "execute_result"
    }
   ],
   "source": [
    "f_oneway(get_best_iter(non_convex_results['non_ei_8_rd']), get_best_iter(non_convex_results['non_ei_12_rd']), get_best_iter(non_convex_results['non_ei_14_rd']))"
   ]
  },
  {
   "cell_type": "markdown",
   "metadata": {},
   "source": [
    "Box Plots of Full Factorial initialisation"
   ]
  },
  {
   "cell_type": "code",
   "execution_count": 16,
   "metadata": {},
   "outputs": [
    {
     "data": {
      "image/png": "[encoded data removed]",
      "text/plain": [
       "<Figure size 432x288 with 1 Axes>"
      ]
     },
     "metadata": {
      "needs_background": "light"
     },
     "output_type": "display_data"
    }
   ],
   "source": [
    "import matplotlib.pyplot as plt\n",
    "fig, ax = plt.subplots(1, 1)\n",
    "ax.boxplot([get_best_evlauation_scores(ackley_results['ack_ei_8_ff']), get_best_evlauation_scores(ackley_results['ack_ei_12_ff']), get_best_evlauation_scores(ackley_results['ack_ei_14_ff'])])\n",
    "ax.set_xticklabels([\"ack_ei_8_ff\", \"ack_ei_12_ff\", \"ack_ei_14_ff\"]) \n",
    "ax.set_ylabel(\"mean\") \n",
    "ax.set_title(\"influence of the initial sample size of full-factorial initialisation on the optimal outputs (Ackley)\")\n",
    "plt.show()"
   ]
  },
  {
   "cell_type": "code",
   "execution_count": 17,
   "metadata": {},
   "outputs": [
    {
     "data": {
      "image/png": "[encoded data removed]",
      "text/plain": [
       "<Figure size 432x288 with 1 Axes>"
      ]
     },
     "metadata": {
      "needs_background": "light"
     },
     "output_type": "display_data"
    }
   ],
   "source": [
    "import matplotlib.pyplot as plt\n",
    "fig, ax = plt.subplots(1, 1)\n",
    "ax.boxplot([get_best_iter_with_start_idx(ackley_results['ack_ei_8_ff'], 8), get_best_iter_with_start_idx(ackley_results['ack_ei_12_ff'], 12), get_best_iter_with_start_idx(ackley_results['ack_ei_14_ff'], 14)])\n",
    "ax.set_xticklabels([\"ack_ei_8_ff\", \"ack_ei_12_ff\", \"ack_ei_14_ff\"]) \n",
    "ax.set_ylabel(\"mean\") \n",
    "ax.set_title(\"The effect of full-factorial sample size on iterations to achieve optimal outputs (Ackley)\")\n",
    "plt.show()"
   ]
  },
  {
   "cell_type": "code",
   "execution_count": 63,
   "metadata": {},
   "outputs": [
    {
     "data": {
      "image/png": "[encoded data removed]",
      "text/plain": [
       "<Figure size 432x288 with 1 Axes>"
      ]
     },
     "metadata": {
      "needs_background": "light"
     },
     "output_type": "display_data"
    }
   ],
   "source": [
    "import matplotlib.pyplot as plt\n",
    "fig, ax = plt.subplots(1, 1)\n",
    "ax.boxplot([get_best_evlauation_scores(schaffer_results['sch_ei_8_ff']), get_best_evlauation_scores(schaffer_results['sch_ei_12_ff']), get_best_evlauation_scores(schaffer_results['sch_ei_14_ff'])])\n",
    "ax.set_xticklabels([\"sch_ei_8_ff\", \"sch_ei_12_ff\", \"sch_ei_14_ff\"]) \n",
    "ax.set_ylabel(\"mean\") \n",
    "ax.set_title(\"influence of the initial sample size of full-factorial initialisation on the optimal outputs (schaffer)\")\n",
    "plt.show()"
   ]
  },
  {
   "cell_type": "code",
   "execution_count": 62,
   "metadata": {},
   "outputs": [
    {
     "data": {
      "image/png": "[encoded data removed]",
      "text/plain": [
       "<Figure size 432x288 with 1 Axes>"
      ]
     },
     "metadata": {
      "needs_background": "light"
     },
     "output_type": "display_data"
    }
   ],
   "source": [
    "import matplotlib.pyplot as plt\n",
    "fig, ax = plt.subplots(1, 1)\n",
    "ax.boxplot([get_best_iter_with_start_idx(schaffer_results['sch_ei_8_ff'], 8), get_best_iter_with_start_idx(schaffer_results['sch_ei_12_ff'], 12), get_best_iter_with_start_idx(schaffer_results['sch_ei_14_ff'], 14)])\n",
    "ax.set_xticklabels([\"sch_ei_8_ff\", \"sch_ei_12_ff\", \"sch_ei_14_ff\"]) \n",
    "ax.set_ylabel(\"mean\") \n",
    "ax.set_title(\"The effect of full-factorial sample size on iterations to achieve optimal outputs (schaffer)\")\n",
    "plt.show()"
   ]
  },
  {
   "cell_type": "code",
   "execution_count": 42,
   "metadata": {},
   "outputs": [
    {
     "data": {
      "image/png": "[encoded data removed]",
      "text/plain": [
       "<Figure size 432x288 with 1 Axes>"
      ]
     },
     "metadata": {
      "needs_background": "light"
     },
     "output_type": "display_data"
    }
   ],
   "source": [
    "import matplotlib.pyplot as plt\n",
    "fig, ax = plt.subplots(1, 1)\n",
    "ax.boxplot([get_best_evlauation_scores(non_convex_results['non_ei_8_ff']), get_best_evlauation_scores(non_convex_results['non_ei_12_ff']), get_best_evlauation_scores(non_convex_results['non_ei_14_ff'])])\n",
    "ax.set_xticklabels([\"non_ei_8_ff\", \"non_ei_12_ff\", \"non_ei_14_ff\"]) \n",
    "ax.set_ylabel(\"mean\") \n",
    "ax.set_title(\"influence of the initial sample size of full-factorial initialisation on the optimal outputs\")\n",
    "plt.show()"
   ]
  },
  {
   "cell_type": "code",
   "execution_count": 43,
   "metadata": {},
   "outputs": [
    {
     "data": {
      "image/png": "[encoded data removed]",
      "text/plain": [
       "<Figure size 432x288 with 1 Axes>"
      ]
     },
     "metadata": {
      "needs_background": "light"
     },
     "output_type": "display_data"
    }
   ],
   "source": [
    "import matplotlib.pyplot as plt\n",
    "fig, ax = plt.subplots(1, 1)\n",
    "ax.boxplot([get_best_iter_with_start_idx(non_convex_results['non_ei_8_ff'], 8), get_best_iter_with_start_idx(non_convex_results['non_ei_12_ff'], 12), get_best_iter_with_start_idx(non_convex_results['non_ei_14_ff'], 14)])\n",
    "ax.set_xticklabels([\"non_ei_8_ff\", \"non_ei_12_ff\", \"non_ei_14_ff\"]) \n",
    "ax.set_ylabel(\"mean\") \n",
    "ax.set_title(\"The effect of full-factorial sample size on iterations to achieve optimal outputs\")\n",
    "plt.show()"
   ]
  },
  {
   "cell_type": "markdown",
   "metadata": {},
   "source": [
    "Mean of the optimal outputs for full-factorial initialisation"
   ]
  },
  {
   "cell_type": "code",
   "execution_count": 55,
   "metadata": {},
   "outputs": [],
   "source": [
    "exp_results = {}\n",
    "exp_results['non_ei_8_ff'] = non_convex_results['non_ei_8_ff']\n",
    "exp_results['non_ei_12_ff'] = non_convex_results['non_ei_12_ff']\n",
    "exp_results['non_ei_14_ff'] = non_convex_results['non_ei_14_ff']\n",
    "exp_results['non_ei_8_rd'] = non_convex_results['non_ei_8_rd']\n",
    "exp_results['non_ei_12_rd'] = non_convex_results['non_ei_12_rd']\n",
    "exp_results['non_ei_14_rd'] = non_convex_results['non_ei_14_rd']\n",
    "exp_results['ack_ei_8_ff'] = ackley_results['ack_ei_8_ff']\n",
    "exp_results['ack_ei_12_ff'] = ackley_results['ack_ei_12_ff']\n",
    "exp_results['ack_ei_14_ff'] = ackley_results['ack_ei_14_ff']\n",
    "exp_results['ack_ei_8_rd'] = ackley_results['ack_ei_8_rd']\n",
    "exp_results['ack_ei_12_rd'] = ackley_results['ack_ei_12_rd']\n",
    "exp_results['ack_ei_14_rd'] = ackley_results['ack_ei_14_rd']\n",
    "exp_results['sch_ei_8_ff'] = schaffer_results['sch_ei_8_ff']\n",
    "exp_results['sch_ei_12_ff'] = schaffer_results['sch_ei_12_ff']\n",
    "exp_results['sch_ei_14_ff'] = schaffer_results['sch_ei_14_ff']\n",
    "exp_results['sch_ei_8_rd'] = schaffer_results['sch_ei_8_rd']\n",
    "exp_results['sch_ei_12_rd'] = schaffer_results['sch_ei_12_rd']\n",
    "exp_results['sch_ei_14_rd'] = schaffer_results['sch_ei_14_rd']"
   ]
  },
  {
   "cell_type": "code",
   "execution_count": 56,
   "metadata": {},
   "outputs": [
    {
     "data": {
      "text/plain": [
       "{'non_ei_8_ff': 19.942781177375842,\n",
       " 'non_ei_12_ff': 19.93966491388033,\n",
       " 'non_ei_14_ff': 19.31485674620425,\n",
       " 'non_ei_8_rd': 19.53565073343612,\n",
       " 'non_ei_12_rd': 19.57342781153116,\n",
       " 'non_ei_14_rd': 19.481338998867226,\n",
       " 'ack_ei_8_ff': 43.4307205676641,\n",
       " 'ack_ei_12_ff': 43.39486548927565,\n",
       " 'ack_ei_14_ff': 42.03190296645938,\n",
       " 'ack_ei_8_rd': 43.43119019984672,\n",
       " 'ack_ei_12_rd': 43.57646165170003,\n",
       " 'ack_ei_14_rd': 43.78941691502186,\n",
       " 'sch_ei_8_ff': 27.781174018145208,\n",
       " 'sch_ei_12_ff': 27.693065403606212,\n",
       " 'sch_ei_14_ff': 26.604117538308884,\n",
       " 'sch_ei_8_rd': 27.804619591092987,\n",
       " 'sch_ei_12_rd': 27.978945087942098,\n",
       " 'sch_ei_14_rd': 27.601359473202603}"
      ]
     },
     "execution_count": 56,
     "metadata": {},
     "output_type": "execute_result"
    }
   ],
   "source": [
    "best_value_mean(exp_results)"
   ]
  },
  {
   "cell_type": "code",
   "execution_count": 57,
   "metadata": {},
   "outputs": [
    {
     "data": {
      "text/plain": [
       "{'non_ei_8_ff': (26.6, 1.5620499351813308),\n",
       " 'non_ei_12_ff': (27.2, 1.8110770276274832),\n",
       " 'non_ei_14_ff': (26.08, 2.6369679558159214),\n",
       " 'non_ei_8_rd': (26.44, 2.585807417423038),\n",
       " 'non_ei_12_rd': (26.8, 2.6457513110645907),\n",
       " 'non_ei_14_rd': (26.36, 3.0447331574376104),\n",
       " 'ack_ei_8_ff': (37.4, 17.953272682160208),\n",
       " 'ack_ei_12_ff': (31.38, 15.074335806263571),\n",
       " 'ack_ei_14_ff': (23.04, 15.455691508308519),\n",
       " 'ack_ei_8_rd': (48.58, 15.552607498422892),\n",
       " 'ack_ei_12_rd': (51.46, 11.660548872158635),\n",
       " 'ack_ei_14_rd': (53.02, 17.029961832018298),\n",
       " 'sch_ei_8_ff': (29.5, 16.60511969243221),\n",
       " 'sch_ei_12_ff': (27.0, 17.426416728633573),\n",
       " 'sch_ei_14_ff': (22.48, 14.717662857940455),\n",
       " 'sch_ei_8_rd': (32.72, 20.532939390160386),\n",
       " 'sch_ei_12_rd': (33.16, 19.02352228163859),\n",
       " 'sch_ei_14_rd': (26.16, 18.960337549737876)}"
      ]
     },
     "execution_count": 57,
     "metadata": {},
     "output_type": "execute_result"
    }
   ],
   "source": [
    "best_iter_mean(exp_results)"
   ]
  }
 ],
 "metadata": {
  "kernelspec": {
   "display_name": "KURF",
   "language": "python",
   "name": "python3"
  },
  "language_info": {
   "codemirror_mode": {
    "name": "ipython",
    "version": 3
   },
   "file_extension": ".py",
   "mimetype": "text/x-python",
   "name": "python",
   "nbconvert_exporter": "python",
   "pygments_lexer": "ipython3",
   "version": "3.11.5"
  }
 },
 "nbformat": 4,
 "nbformat_minor": 2
}
