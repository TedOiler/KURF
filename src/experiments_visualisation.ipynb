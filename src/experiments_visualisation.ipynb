{
 "cells": [
  {
   "cell_type": "markdown",
   "metadata": {},
   "source": [
    "Experiments visualisation"
   ]
  },
  {
   "cell_type": "code",
   "execution_count": 152,
   "metadata": {},
   "outputs": [],
   "source": [
    "from matplotlib import pyplot as plt\n",
    "import numpy as np\n",
    "from scipy.stats import f_oneway\n",
    "from scipy.stats import tukey_hsd"
   ]
  },
  {
   "cell_type": "code",
   "execution_count": 153,
   "metadata": {},
   "outputs": [],
   "source": [
    "def improvement_curve(data_dict, start_index):\n",
    "    #convert the dictionary to a list of items, sorted by the keys \n",
    "    data_list = sorted(list(data_dict.items()))\n",
    "    result_curve = []\n",
    "    result_curve.append(data_list[start_index][1])\n",
    "    for i in range(start_index,len(data_list)-1):\n",
    "        if data_list[i][1] > result_curve[-1]:\n",
    "            result_curve.append(data_list[i][1])\n",
    "        else: result_curve.append(result_curve[-1])\n",
    "    return result_curve"
   ]
  },
  {
   "cell_type": "code",
   "execution_count": 154,
   "metadata": {},
   "outputs": [],
   "source": [
    "def show_improvement_curve_diagram(mappings_lst, start_idx):   \n",
    "    improve_iter_num_lst = []\n",
    "    for local_opt_mappings in mappings_lst:\n",
    "        improve_iter_num_lst.append(improvement_curve(local_opt_mappings, start_index = start_idx))\n",
    "\n",
    "    x_value=range(len(improve_iter_num_lst[0]))\n",
    "    for i, y_values in enumerate(improve_iter_num_lst):\n",
    "        if len(y_values) < len(x_value):\n",
    "            temp = len(improve_iter_num_lst[0])\n",
    "            while len(y_values) < len(x_value):\n",
    "                temp = temp - 1\n",
    "                x_value=range(temp)\n",
    "        if len(y_values) > len(x_value):\n",
    "            while len(y_values) > len(x_value):\n",
    "                y_values.pop()\n",
    "        plt.plot(x_value, y_values, linestyle='--', label=f'Data {i+1}',color = 'skyblue')\n",
    "\n",
    "    plt.title('improvement curve')\n",
    "    plt.xlabel('number of iterations')\n",
    "    plt.ylabel('improved result')\n",
    "    plt.show()"
   ]
  },
  {
   "cell_type": "code",
   "execution_count": 155,
   "metadata": {},
   "outputs": [],
   "source": [
    "def greatest_value(data_dict):\n",
    "    #convert the dictionary to a list of items, sorted by the keys \n",
    "    data_list = sorted(list(data_dict.items()))\n",
    "    result_curve = data_list[0][1]\n",
    "    for i in range(0,len(data_list)-1):\n",
    "        if data_list[i][1] > result_curve:\n",
    "            result_curve = data_list[i][1]\n",
    "        else: result_curve = result_curve\n",
    "    return result_curve"
   ]
  },
  {
   "cell_type": "code",
   "execution_count": 156,
   "metadata": {},
   "outputs": [],
   "source": [
    "def greatest_number_of_iter(data_dict):\n",
    "    #convert the dictionary to a list of items, sorted by the keys \n",
    "    data_list = sorted(list(data_dict.items()))\n",
    "    temp = data_list[0][1]\n",
    "    current_best_iter = 0\n",
    "    for i in range(0,len(data_list)-1):\n",
    "        if data_list[i][1] > temp:\n",
    "            temp = data_list[i][1]\n",
    "            current_best_iter = i\n",
    "        else: temp = temp\n",
    "    return current_best_iter"
   ]
  },
  {
   "cell_type": "code",
   "execution_count": 157,
   "metadata": {},
   "outputs": [],
   "source": [
    "def greatest_number_of_iter_with_start_idx(data_dict, start_idx):\n",
    "    #convert the dictionary to a list of items, sorted by the keys \n",
    "    data_list = sorted(list(data_dict.items()))\n",
    "    temp = data_list[0][1]\n",
    "    current_best_iter = start_idx\n",
    "    for i in range(start_idx,len(data_list)-1):\n",
    "        if data_list[i][1] > temp:\n",
    "            temp = data_list[i][1]\n",
    "            current_best_iter = i\n",
    "        else: temp = temp\n",
    "    return current_best_iter"
   ]
  },
  {
   "cell_type": "code",
   "execution_count": 158,
   "metadata": {},
   "outputs": [],
   "source": [
    "def best_value_mean(experiments_results):\n",
    "    experiments_mean_values = {}\n",
    "    for exp_name, exp_results in experiments_results.items(): \n",
    "        best_values = []\n",
    "        for exp in exp_results:\n",
    "            best_value  = greatest_value(exp)\n",
    "            best_values.append(best_value)\n",
    "        best_values = np.array(best_values)\n",
    "        experiments_mean_values[exp_name] = best_values.mean()\n",
    "    return experiments_mean_values"
   ]
  },
  {
   "cell_type": "code",
   "execution_count": 159,
   "metadata": {},
   "outputs": [],
   "source": [
    "def best_iter_mean(experiments_results):\n",
    "    # the iteration that gets the best evaluation value\n",
    "    experiments_mean_iters = {}\n",
    "    for exp_name, exp_results in experiments_results.items(): \n",
    "        best_values = []\n",
    "        for exp in exp_results:\n",
    "            best_value  = greatest_number_of_iter(exp)\n",
    "            best_values.append(best_value)\n",
    "        best_values = np.array(best_values)\n",
    "        experiments_mean_iters[exp_name] = best_values.mean(), best_values.std()\n",
    "    return experiments_mean_iters"
   ]
  },
  {
   "cell_type": "code",
   "execution_count": 160,
   "metadata": {},
   "outputs": [],
   "source": [
    "def get_best_evlauation_scores(experiment_list):\n",
    "    best_value_list = []\n",
    "    for exp_set in experiment_list:\n",
    "        best_value = greatest_value(exp_set)\n",
    "        best_value_list.append(best_value)\n",
    "    return best_value_list"
   ]
  },
  {
   "cell_type": "code",
   "execution_count": 161,
   "metadata": {},
   "outputs": [],
   "source": [
    "def get_best_iter(experiment_list):\n",
    "    best_iter_list = []\n",
    "    for exp_set in experiment_list:\n",
    "        best_iter = greatest_number_of_iter(exp_set)\n",
    "        best_iter_list.append(best_iter)\n",
    "    return best_iter_list"
   ]
  },
  {
   "cell_type": "code",
   "execution_count": 162,
   "metadata": {},
   "outputs": [],
   "source": [
    "def get_best_iter_with_start_idx(experiment_list, start_idx):\n",
    "    best_iter_list = []\n",
    "    for exp_set in experiment_list:\n",
    "        best_iter = greatest_number_of_iter_with_start_idx(exp_set, start_idx)\n",
    "        best_iter_list.append(best_iter)\n",
    "    return best_iter_list"
   ]
  },
  {
   "cell_type": "code",
   "execution_count": 163,
   "metadata": {},
   "outputs": [
    {
     "data": {
      "text/plain": [
       "36"
      ]
     },
     "execution_count": 163,
     "metadata": {},
     "output_type": "execute_result"
    }
   ],
   "source": [
    "%store -r\n",
    "len(ackley_results)\n",
    "len(schaffer_results)"
   ]
  },
  {
   "cell_type": "markdown",
   "metadata": {},
   "source": [
    "# The p-value of ANOVA test of influence of the initial sample size of full-factorial initialisation on the optimal outputs"
   ]
  },
  {
   "cell_type": "code",
   "execution_count": 164,
   "metadata": {},
   "outputs": [
    {
     "data": {
      "text/plain": [
       "F_onewayResult(statistic=7.8005286928255035, pvalue=0.0006029159076502983)"
      ]
     },
     "execution_count": 164,
     "metadata": {},
     "output_type": "execute_result"
    }
   ],
   "source": [
    "f_oneway(get_best_evlauation_scores(ackley_results['ack_ei_8_ff']), get_best_evlauation_scores(ackley_results['ack_ei_12_ff']), get_best_evlauation_scores(ackley_results['ack_ei_14_ff']))"
   ]
  },
  {
   "cell_type": "code",
   "execution_count": 165,
   "metadata": {},
   "outputs": [
    {
     "data": {
      "text/plain": [
       "F_onewayResult(statistic=10.212791453749722, pvalue=7.029434037089036e-05)"
      ]
     },
     "execution_count": 165,
     "metadata": {},
     "output_type": "execute_result"
    }
   ],
   "source": [
    "f_oneway(get_best_evlauation_scores(schaffer_results['sch_ei_8_ff']), get_best_evlauation_scores(schaffer_results['sch_ei_12_ff']), get_best_evlauation_scores(schaffer_results['sch_ei_14_ff']))"
   ]
  },
  {
   "cell_type": "code",
   "execution_count": 166,
   "metadata": {},
   "outputs": [
    {
     "data": {
      "text/plain": [
       "F_onewayResult(statistic=3.4575133323102873, pvalue=0.034093296391297934)"
      ]
     },
     "execution_count": 166,
     "metadata": {},
     "output_type": "execute_result"
    }
   ],
   "source": [
    "f_oneway(get_best_evlauation_scores(ackley_results['ack_pi_8_ff']), get_best_evlauation_scores(ackley_results['ack_pi_12_ff']), get_best_evlauation_scores(ackley_results['ack_pi_14_ff']))"
   ]
  },
  {
   "cell_type": "code",
   "execution_count": 167,
   "metadata": {},
   "outputs": [
    {
     "data": {
      "text/plain": [
       "F_onewayResult(statistic=12.064740174287383, pvalue=1.4075018789664699e-05)"
      ]
     },
     "execution_count": 167,
     "metadata": {},
     "output_type": "execute_result"
    }
   ],
   "source": [
    "f_oneway(get_best_evlauation_scores(schaffer_results['sch_pi_8_ff']), get_best_evlauation_scores(schaffer_results['sch_pi_12_ff']), get_best_evlauation_scores(schaffer_results['sch_pi_14_ff']))"
   ]
  },
  {
   "cell_type": "code",
   "execution_count": 168,
   "metadata": {},
   "outputs": [
    {
     "data": {
      "text/plain": [
       "F_onewayResult(statistic=12.136660512651199, pvalue=1.3232130249403839e-05)"
      ]
     },
     "execution_count": 168,
     "metadata": {},
     "output_type": "execute_result"
    }
   ],
   "source": [
    "f_oneway(get_best_evlauation_scores(ackley_results['ack_ucb_8_ff']), get_best_evlauation_scores(ackley_results['ack_ucb_12_ff']), get_best_evlauation_scores(ackley_results['ack_ucb_14_ff']))"
   ]
  },
  {
   "cell_type": "code",
   "execution_count": 169,
   "metadata": {},
   "outputs": [
    {
     "data": {
      "text/plain": [
       "F_onewayResult(statistic=4.233353888909061, pvalue=0.016310792626588383)"
      ]
     },
     "execution_count": 169,
     "metadata": {},
     "output_type": "execute_result"
    }
   ],
   "source": [
    "f_oneway(get_best_evlauation_scores(schaffer_results['sch_ucb_8_ff']), get_best_evlauation_scores(schaffer_results['sch_ucb_12_ff']), get_best_evlauation_scores(schaffer_results['sch_ucb_14_ff']))"
   ]
  },
  {
   "cell_type": "markdown",
   "metadata": {},
   "source": [
    "# The p-value of ANOVA test of influence of the initial sample size of D-Optimal initialisation on the optimal outputs"
   ]
  },
  {
   "cell_type": "code",
   "execution_count": 170,
   "metadata": {},
   "outputs": [
    {
     "data": {
      "text/plain": [
       "F_onewayResult(statistic=0.4520495852347647, pvalue=0.6372041864928755)"
      ]
     },
     "execution_count": 170,
     "metadata": {},
     "output_type": "execute_result"
    }
   ],
   "source": [
    "f_oneway(get_best_evlauation_scores(ackley_results['ack_ei_8_do']), get_best_evlauation_scores(ackley_results['ack_ei_12_do']), get_best_evlauation_scores(ackley_results['ack_ei_14_do']))"
   ]
  },
  {
   "cell_type": "code",
   "execution_count": 171,
   "metadata": {},
   "outputs": [
    {
     "data": {
      "text/plain": [
       "F_onewayResult(statistic=0.06055395622095677, pvalue=0.9412664475911968)"
      ]
     },
     "execution_count": 171,
     "metadata": {},
     "output_type": "execute_result"
    }
   ],
   "source": [
    "f_oneway(get_best_evlauation_scores(schaffer_results['sch_ei_8_do']), get_best_evlauation_scores(schaffer_results['sch_ei_12_do']), get_best_evlauation_scores(schaffer_results['sch_ei_14_do']))"
   ]
  },
  {
   "cell_type": "code",
   "execution_count": 172,
   "metadata": {},
   "outputs": [
    {
     "data": {
      "text/plain": [
       "F_onewayResult(statistic=0.035855902491002505, pvalue=0.9647877409087106)"
      ]
     },
     "execution_count": 172,
     "metadata": {},
     "output_type": "execute_result"
    }
   ],
   "source": [
    "f_oneway(get_best_evlauation_scores(ackley_results['ack_pi_8_do']), get_best_evlauation_scores(ackley_results['ack_pi_12_do']), get_best_evlauation_scores(ackley_results['ack_pi_14_do']))"
   ]
  },
  {
   "cell_type": "code",
   "execution_count": 173,
   "metadata": {},
   "outputs": [
    {
     "data": {
      "text/plain": [
       "F_onewayResult(statistic=3.4494918962283925, pvalue=0.03435550370068891)"
      ]
     },
     "execution_count": 173,
     "metadata": {},
     "output_type": "execute_result"
    }
   ],
   "source": [
    "f_oneway(get_best_evlauation_scores(schaffer_results['sch_pi_8_do']), get_best_evlauation_scores(schaffer_results['sch_pi_12_do']), get_best_evlauation_scores(schaffer_results['sch_pi_14_do']))"
   ]
  },
  {
   "cell_type": "code",
   "execution_count": 174,
   "metadata": {},
   "outputs": [
    {
     "data": {
      "text/plain": [
       "F_onewayResult(statistic=0.7370889430611944, pvalue=0.48026485353061865)"
      ]
     },
     "execution_count": 174,
     "metadata": {},
     "output_type": "execute_result"
    }
   ],
   "source": [
    "f_oneway(get_best_evlauation_scores(ackley_results['ack_ucb_8_do']), get_best_evlauation_scores(ackley_results['ack_ucb_12_do']), get_best_evlauation_scores(ackley_results['ack_ucb_14_do']))"
   ]
  },
  {
   "cell_type": "code",
   "execution_count": 175,
   "metadata": {},
   "outputs": [
    {
     "data": {
      "text/plain": [
       "F_onewayResult(statistic=4.56451132744183, pvalue=0.011933737572784197)"
      ]
     },
     "execution_count": 175,
     "metadata": {},
     "output_type": "execute_result"
    }
   ],
   "source": [
    "f_oneway(get_best_evlauation_scores(schaffer_results['sch_ucb_8_do']), get_best_evlauation_scores(schaffer_results['sch_ucb_12_do']), get_best_evlauation_scores(schaffer_results['sch_ucb_14_do']))"
   ]
  },
  {
   "cell_type": "markdown",
   "metadata": {},
   "source": [
    "# The p-value of ANOVA test of influence of the initial sample size of I-Optimal initialisation on the optimal outputs"
   ]
  },
  {
   "cell_type": "code",
   "execution_count": 176,
   "metadata": {},
   "outputs": [
    {
     "data": {
      "text/plain": [
       "F_onewayResult(statistic=1.996660854786693, pvalue=0.13945377219732424)"
      ]
     },
     "execution_count": 176,
     "metadata": {},
     "output_type": "execute_result"
    }
   ],
   "source": [
    "f_oneway(get_best_evlauation_scores(ackley_results['ack_ei_8_io']), get_best_evlauation_scores(ackley_results['ack_ei_12_io']), get_best_evlauation_scores(ackley_results['ack_ei_14_io']))"
   ]
  },
  {
   "cell_type": "code",
   "execution_count": 177,
   "metadata": {},
   "outputs": [
    {
     "data": {
      "text/plain": [
       "F_onewayResult(statistic=0.8943418677337032, pvalue=0.41108944171720707)"
      ]
     },
     "execution_count": 177,
     "metadata": {},
     "output_type": "execute_result"
    }
   ],
   "source": [
    "f_oneway(get_best_evlauation_scores(schaffer_results['sch_ei_8_io']), get_best_evlauation_scores(schaffer_results['sch_ei_12_io']), get_best_evlauation_scores(schaffer_results['sch_ei_14_io']))"
   ]
  },
  {
   "cell_type": "code",
   "execution_count": 178,
   "metadata": {},
   "outputs": [
    {
     "data": {
      "text/plain": [
       "F_onewayResult(statistic=0.5616256688592565, pvalue=0.5714999976491937)"
      ]
     },
     "execution_count": 178,
     "metadata": {},
     "output_type": "execute_result"
    }
   ],
   "source": [
    "f_oneway(get_best_evlauation_scores(ackley_results['ack_pi_8_io']), get_best_evlauation_scores(ackley_results['ack_pi_12_io']), get_best_evlauation_scores(ackley_results['ack_pi_14_io']))"
   ]
  },
  {
   "cell_type": "code",
   "execution_count": 179,
   "metadata": {},
   "outputs": [
    {
     "data": {
      "text/plain": [
       "F_onewayResult(statistic=0.42121603740202457, pvalue=0.6570378379944692)"
      ]
     },
     "execution_count": 179,
     "metadata": {},
     "output_type": "execute_result"
    }
   ],
   "source": [
    "f_oneway(get_best_evlauation_scores(schaffer_results['sch_pi_8_io']), get_best_evlauation_scores(schaffer_results['sch_pi_12_io']), get_best_evlauation_scores(schaffer_results['sch_pi_14_io']))"
   ]
  },
  {
   "cell_type": "code",
   "execution_count": 180,
   "metadata": {},
   "outputs": [
    {
     "data": {
      "text/plain": [
       "F_onewayResult(statistic=0.6438242799533752, pvalue=0.5267544147051144)"
      ]
     },
     "execution_count": 180,
     "metadata": {},
     "output_type": "execute_result"
    }
   ],
   "source": [
    "f_oneway(get_best_evlauation_scores(ackley_results['ack_ucb_8_io']), get_best_evlauation_scores(ackley_results['ack_ucb_12_io']), get_best_evlauation_scores(ackley_results['ack_ucb_14_io']))"
   ]
  },
  {
   "cell_type": "code",
   "execution_count": 181,
   "metadata": {},
   "outputs": [
    {
     "data": {
      "text/plain": [
       "F_onewayResult(statistic=2.501112678623987, pvalue=0.08547774550247747)"
      ]
     },
     "execution_count": 181,
     "metadata": {},
     "output_type": "execute_result"
    }
   ],
   "source": [
    "f_oneway(get_best_evlauation_scores(schaffer_results['sch_ucb_8_io']), get_best_evlauation_scores(schaffer_results['sch_ucb_12_io']), get_best_evlauation_scores(schaffer_results['sch_ucb_14_io']))"
   ]
  },
  {
   "cell_type": "markdown",
   "metadata": {},
   "source": [
    "# The p-value of ANOVA test of influence of the initial sample size of full-factorial initialisation on the iteration number of optimal outputs"
   ]
  },
  {
   "cell_type": "code",
   "execution_count": 182,
   "metadata": {},
   "outputs": [
    {
     "data": {
      "text/plain": [
       "F_onewayResult(statistic=9.695341905600216, pvalue=0.00011087716736296214)"
      ]
     },
     "execution_count": 182,
     "metadata": {},
     "output_type": "execute_result"
    }
   ],
   "source": [
    "f_oneway(get_best_iter(ackley_results['ack_ei_8_ff']), get_best_iter(ackley_results['ack_ei_12_ff']), get_best_iter(ackley_results['ack_ei_14_ff']))"
   ]
  },
  {
   "cell_type": "code",
   "execution_count": 183,
   "metadata": {},
   "outputs": [
    {
     "data": {
      "text/plain": [
       "F_onewayResult(statistic=7.450590510799168, pvalue=0.0008278427849215426)"
      ]
     },
     "execution_count": 183,
     "metadata": {},
     "output_type": "execute_result"
    }
   ],
   "source": [
    "f_oneway(get_best_iter(schaffer_results['sch_ei_8_ff']), get_best_iter(schaffer_results['sch_ei_12_ff']), get_best_iter(schaffer_results['sch_ei_14_ff']))"
   ]
  },
  {
   "cell_type": "code",
   "execution_count": 184,
   "metadata": {},
   "outputs": [
    {
     "data": {
      "text/plain": [
       "F_onewayResult(statistic=7.859968773873586, pvalue=0.0005713833620941154)"
      ]
     },
     "execution_count": 184,
     "metadata": {},
     "output_type": "execute_result"
    }
   ],
   "source": [
    "f_oneway(get_best_iter(ackley_results['ack_pi_8_ff']), get_best_iter(ackley_results['ack_pi_12_ff']), get_best_iter(ackley_results['ack_pi_14_ff']))"
   ]
  },
  {
   "cell_type": "code",
   "execution_count": 185,
   "metadata": {},
   "outputs": [
    {
     "data": {
      "text/plain": [
       "F_onewayResult(statistic=7.511320500876166, pvalue=0.0007834470342386292)"
      ]
     },
     "execution_count": 185,
     "metadata": {},
     "output_type": "execute_result"
    }
   ],
   "source": [
    "f_oneway(get_best_iter(schaffer_results['sch_pi_8_ff']), get_best_iter(schaffer_results['sch_pi_12_ff']), get_best_iter(schaffer_results['sch_pi_14_ff']))"
   ]
  },
  {
   "cell_type": "code",
   "execution_count": 186,
   "metadata": {},
   "outputs": [
    {
     "data": {
      "text/plain": [
       "F_onewayResult(statistic=21.275114495764722, pvalue=7.675153452913159e-09)"
      ]
     },
     "execution_count": 186,
     "metadata": {},
     "output_type": "execute_result"
    }
   ],
   "source": [
    "f_oneway(get_best_iter(ackley_results['ack_ucb_8_ff']), get_best_iter(ackley_results['ack_ucb_12_ff']), get_best_iter(ackley_results['ack_ucb_14_ff']))"
   ]
  },
  {
   "cell_type": "code",
   "execution_count": 187,
   "metadata": {},
   "outputs": [
    {
     "data": {
      "text/plain": [
       "F_onewayResult(statistic=16.635906982691306, pvalue=3.069931517201805e-07)"
      ]
     },
     "execution_count": 187,
     "metadata": {},
     "output_type": "execute_result"
    }
   ],
   "source": [
    "f_oneway(get_best_iter(schaffer_results['sch_ucb_8_ff']), get_best_iter(schaffer_results['sch_ucb_12_ff']), get_best_iter(schaffer_results['sch_ucb_14_ff']))"
   ]
  },
  {
   "cell_type": "markdown",
   "metadata": {},
   "source": [
    "# The p-value of ANOVA test of influence of the initial sample size of D-Optimal initialisation on the iteration number of optimal outputs"
   ]
  },
  {
   "cell_type": "code",
   "execution_count": 188,
   "metadata": {},
   "outputs": [
    {
     "data": {
      "text/plain": [
       "F_onewayResult(statistic=0.5806599155700033, pvalue=0.5608071023399412)"
      ]
     },
     "execution_count": 188,
     "metadata": {},
     "output_type": "execute_result"
    }
   ],
   "source": [
    "f_oneway(get_best_iter_with_start_idx(ackley_results['ack_ei_8_do'], 8), get_best_iter_with_start_idx(ackley_results['ack_ei_12_do'], 12), get_best_iter_with_start_idx(ackley_results['ack_ei_14_do'], 14))"
   ]
  },
  {
   "cell_type": "code",
   "execution_count": 189,
   "metadata": {},
   "outputs": [
    {
     "data": {
      "text/plain": [
       "F_onewayResult(statistic=0.1145592822513692, pvalue=0.8918386065256292)"
      ]
     },
     "execution_count": 189,
     "metadata": {},
     "output_type": "execute_result"
    }
   ],
   "source": [
    "f_oneway(get_best_iter(schaffer_results['sch_ei_8_do']), get_best_iter(schaffer_results['sch_ei_12_do']), get_best_iter(schaffer_results['sch_ei_14_do']))"
   ]
  },
  {
   "cell_type": "code",
   "execution_count": 190,
   "metadata": {},
   "outputs": [
    {
     "data": {
      "text/plain": [
       "F_onewayResult(statistic=0.9014059082124578, pvalue=0.40823052322745057)"
      ]
     },
     "execution_count": 190,
     "metadata": {},
     "output_type": "execute_result"
    }
   ],
   "source": [
    "f_oneway(get_best_iter(ackley_results['ack_pi_8_do']), get_best_iter(ackley_results['ack_pi_12_do']), get_best_iter(ackley_results['ack_pi_14_do']))"
   ]
  },
  {
   "cell_type": "code",
   "execution_count": 191,
   "metadata": {},
   "outputs": [
    {
     "data": {
      "text/plain": [
       "F_onewayResult(statistic=1.0839008825779486, pvalue=0.34096123787272736)"
      ]
     },
     "execution_count": 191,
     "metadata": {},
     "output_type": "execute_result"
    }
   ],
   "source": [
    "f_oneway(get_best_iter(schaffer_results['sch_pi_8_do']), get_best_iter(schaffer_results['sch_pi_12_do']), get_best_iter(schaffer_results['sch_pi_14_do']))"
   ]
  },
  {
   "cell_type": "code",
   "execution_count": 192,
   "metadata": {},
   "outputs": [
    {
     "data": {
      "text/plain": [
       "F_onewayResult(statistic=2.6256531125309643, pvalue=0.07578593218139226)"
      ]
     },
     "execution_count": 192,
     "metadata": {},
     "output_type": "execute_result"
    }
   ],
   "source": [
    "f_oneway(get_best_iter(ackley_results['ack_ucb_8_do']), get_best_iter(ackley_results['ack_ucb_12_do']), get_best_iter(ackley_results['ack_ucb_14_do']))"
   ]
  },
  {
   "cell_type": "code",
   "execution_count": 193,
   "metadata": {},
   "outputs": [
    {
     "data": {
      "text/plain": [
       "F_onewayResult(statistic=2.1780132434110855, pvalue=0.11690816590622793)"
      ]
     },
     "execution_count": 193,
     "metadata": {},
     "output_type": "execute_result"
    }
   ],
   "source": [
    "f_oneway(get_best_iter(schaffer_results['sch_ucb_8_do']), get_best_iter(schaffer_results['sch_ucb_12_do']), get_best_iter(schaffer_results['sch_ucb_14_do']))"
   ]
  },
  {
   "cell_type": "markdown",
   "metadata": {},
   "source": [
    "# The p-value of ANOVA test of influence of the initial sample size of I-Optimal initialisation on the iteration number of optimal outputs"
   ]
  },
  {
   "cell_type": "code",
   "execution_count": 194,
   "metadata": {},
   "outputs": [
    {
     "data": {
      "text/plain": [
       "F_onewayResult(statistic=0.8735594949656604, pvalue=0.4196186042627674)"
      ]
     },
     "execution_count": 194,
     "metadata": {},
     "output_type": "execute_result"
    }
   ],
   "source": [
    "f_oneway(get_best_iter_with_start_idx(ackley_results['ack_ei_8_io'], 8), get_best_iter_with_start_idx(ackley_results['ack_ei_12_io'], 12), get_best_iter_with_start_idx(ackley_results['ack_ei_14_io'], 14))"
   ]
  },
  {
   "cell_type": "code",
   "execution_count": 195,
   "metadata": {},
   "outputs": [
    {
     "data": {
      "text/plain": [
       "F_onewayResult(statistic=5.199634510454295, pvalue=0.006578469066093069)"
      ]
     },
     "execution_count": 195,
     "metadata": {},
     "output_type": "execute_result"
    }
   ],
   "source": [
    "f_oneway(get_best_iter_with_start_idx(schaffer_results['sch_ei_8_io'], 8), get_best_iter_with_start_idx(schaffer_results['sch_ei_12_io'], 12), get_best_iter_with_start_idx(schaffer_results['sch_ei_14_io'], 14))"
   ]
  },
  {
   "cell_type": "code",
   "execution_count": 196,
   "metadata": {},
   "outputs": [
    {
     "data": {
      "text/plain": [
       "F_onewayResult(statistic=2.05351222922979, pvalue=0.13194777066139152)"
      ]
     },
     "execution_count": 196,
     "metadata": {},
     "output_type": "execute_result"
    }
   ],
   "source": [
    "f_oneway(get_best_iter_with_start_idx(ackley_results['ack_pi_8_io'], 8), get_best_iter_with_start_idx(ackley_results['ack_pi_12_io'], 12), get_best_iter_with_start_idx(ackley_results['ack_pi_14_io'], 14))"
   ]
  },
  {
   "cell_type": "code",
   "execution_count": 197,
   "metadata": {},
   "outputs": [
    {
     "data": {
      "text/plain": [
       "F_onewayResult(statistic=0.7929118642286251, pvalue=0.4544508811634016)"
      ]
     },
     "execution_count": 197,
     "metadata": {},
     "output_type": "execute_result"
    }
   ],
   "source": [
    "f_oneway(get_best_iter_with_start_idx(schaffer_results['sch_pi_8_io'], 8), get_best_iter_with_start_idx(schaffer_results['sch_pi_12_io'], 12), get_best_iter_with_start_idx(schaffer_results['sch_pi_14_io'], 14))"
   ]
  },
  {
   "cell_type": "code",
   "execution_count": 198,
   "metadata": {},
   "outputs": [
    {
     "data": {
      "text/plain": [
       "F_onewayResult(statistic=0.898784238648147, pvalue=0.40928919125401075)"
      ]
     },
     "execution_count": 198,
     "metadata": {},
     "output_type": "execute_result"
    }
   ],
   "source": [
    "f_oneway(get_best_iter_with_start_idx(ackley_results['ack_ucb_8_io'], 8), get_best_iter_with_start_idx(ackley_results['ack_ucb_12_io'], 12), get_best_iter_with_start_idx(ackley_results['ack_ucb_14_io'], 14))"
   ]
  },
  {
   "cell_type": "code",
   "execution_count": 199,
   "metadata": {},
   "outputs": [
    {
     "data": {
      "text/plain": [
       "F_onewayResult(statistic=2.3673105643104475, pvalue=0.09729707519465342)"
      ]
     },
     "execution_count": 199,
     "metadata": {},
     "output_type": "execute_result"
    }
   ],
   "source": [
    "f_oneway(get_best_iter_with_start_idx(schaffer_results['sch_ucb_8_io'], 8), get_best_iter_with_start_idx(schaffer_results['sch_ucb_12_io'], 12), get_best_iter_with_start_idx(schaffer_results['sch_ucb_14_io'], 14))"
   ]
  },
  {
   "cell_type": "markdown",
   "metadata": {},
   "source": [
    "# Box Plots for Full Factorial initialisation"
   ]
  },
  {
   "cell_type": "code",
   "execution_count": 200,
   "metadata": {},
   "outputs": [
    {
     "data": {
      "image/png": "[encoded data removed]",
      "text/plain": [
       "<Figure size 432x288 with 1 Axes>"
      ]
     },
     "metadata": {
      "needs_background": "light"
     },
     "output_type": "display_data"
    }
   ],
   "source": [
    "import matplotlib.pyplot as plt\n",
    "fig, ax = plt.subplots(1, 1)\n",
    "ax.boxplot([get_best_evlauation_scores(ackley_results['ack_ei_8_ff']), get_best_evlauation_scores(ackley_results['ack_ei_12_ff']), get_best_evlauation_scores(ackley_results['ack_ei_14_ff'])])\n",
    "ax.set_xticklabels([\"ack_ei_8_ff\", \"ack_ei_12_ff\", \"ack_ei_14_ff\"]) \n",
    "ax.set_ylabel(\"mean\") \n",
    "ax.set_title(\"influence of the initial sample size of full-factorial initialisation on the optimal outputs\")\n",
    "plt.show()"
   ]
  },
  {
   "cell_type": "code",
   "execution_count": 201,
   "metadata": {},
   "outputs": [
    {
     "data": {
      "image/png": "[encoded data removed]",
      "text/plain": [
       "<Figure size 432x288 with 1 Axes>"
      ]
     },
     "metadata": {
      "needs_background": "light"
     },
     "output_type": "display_data"
    }
   ],
   "source": [
    "import matplotlib.pyplot as plt\n",
    "fig, ax = plt.subplots(1, 1)\n",
    "ax.boxplot([get_best_iter_with_start_idx(ackley_results['ack_ei_8_ff'], 8), get_best_iter_with_start_idx(ackley_results['ack_ei_12_ff'], 12), get_best_iter_with_start_idx(ackley_results['ack_ei_14_ff'], 14)])\n",
    "ax.set_xticklabels([\"ack_ei_8_ff\", \"ack_ei_12_ff\", \"ack_ei_14_ff\"]) \n",
    "ax.set_ylabel(\"mean\") \n",
    "ax.set_title(\"The effect of full-factorial sample size on iterations to achieve optimal outputs\")\n",
    "plt.show()"
   ]
  },
  {
   "cell_type": "code",
   "execution_count": 202,
   "metadata": {},
   "outputs": [
    {
     "data": {
      "image/png": "[encoded data removed]",
      "text/plain": [
       "<Figure size 432x288 with 1 Axes>"
      ]
     },
     "metadata": {
      "needs_background": "light"
     },
     "output_type": "display_data"
    }
   ],
   "source": [
    "import matplotlib.pyplot as plt\n",
    "fig, ax = plt.subplots(1, 1)\n",
    "ax.boxplot([get_best_evlauation_scores(schaffer_results['sch_ei_8_ff']), get_best_evlauation_scores(schaffer_results['sch_ei_12_ff']), get_best_evlauation_scores(schaffer_results['sch_ei_14_ff'])])\n",
    "ax.set_xticklabels([\"sch_ei_8_ff\", \"sch_ei_12_ff\", \"sch_ei_14_ff\"]) \n",
    "ax.set_ylabel(\"mean\") \n",
    "ax.set_title(\"influence of the initial sample size of full-factorial initialisation on the optimal outputs\")\n",
    "plt.show()"
   ]
  },
  {
   "cell_type": "code",
   "execution_count": 203,
   "metadata": {},
   "outputs": [
    {
     "data": {
      "image/png": "[encoded data removed]",
      "text/plain": [
       "<Figure size 432x288 with 1 Axes>"
      ]
     },
     "metadata": {
      "needs_background": "light"
     },
     "output_type": "display_data"
    }
   ],
   "source": [
    "import matplotlib.pyplot as plt\n",
    "fig, ax = plt.subplots(1, 1)\n",
    "ax.boxplot([get_best_iter_with_start_idx(schaffer_results['sch_ei_8_ff'], 8), get_best_iter_with_start_idx(schaffer_results['sch_ei_12_ff'], 12), get_best_iter_with_start_idx(schaffer_results['sch_ei_14_ff'], 14)])\n",
    "ax.set_xticklabels([\"sch_ei_8_ff\", \"sch_ei_12_ff\", \"sch_ei_14_ff\"]) \n",
    "ax.set_ylabel(\"mean\") \n",
    "ax.set_title(\"The effect of full-factorial sample size on iterations to achieve optimal outputs\")\n",
    "plt.show()"
   ]
  },
  {
   "cell_type": "code",
   "execution_count": 204,
   "metadata": {},
   "outputs": [
    {
     "data": {
      "text/plain": [
       "{'ack_ei_8_ff': 43.4307205676641,\n",
       " 'ack_ei_12_ff': 43.39486548927565,\n",
       " 'ack_ei_14_ff': 42.03190296645938,\n",
       " 'ack_pi_8_ff': 43.3372929507339,\n",
       " 'ack_pi_12_ff': 42.94122549895994,\n",
       " 'ack_pi_14_ff': 42.172121130267875,\n",
       " 'ack_ei_8_rd': 43.43119019984672,\n",
       " 'ack_ei_12_rd': 43.57646165170003,\n",
       " 'ack_ei_14_rd': 43.78941691502186,\n",
       " 'ack_pi_8_rd': 43.569691367581854,\n",
       " 'ack_pi_12_rd': 43.72894597874801,\n",
       " 'ack_pi_14_rd': 43.72659999856877,\n",
       " 'ack_ucb_8_ff': 43.845277002081055,\n",
       " 'ack_ucb_12_ff': 43.41160799231021,\n",
       " 'ack_ucb_14_ff': 42.096971452518716,\n",
       " 'ack_ucb_8_rd': 44.065969999898556,\n",
       " 'ack_ucb_12_rd': 43.76860532322339,\n",
       " 'ack_ucb_14_rd': 43.803447743262495,\n",
       " 'ack_ei_8_do': 43.89478393616845,\n",
       " 'ack_ei_12_do': 43.79306475092456,\n",
       " 'ack_ei_14_do': 43.65545594453597,\n",
       " 'ack_pi_8_do': 43.86645174207707,\n",
       " 'ack_pi_12_do': 43.93280001558219,\n",
       " 'ack_pi_14_do': 43.90613091131107,\n",
       " 'ack_ucb_8_do': 43.452958914907285,\n",
       " 'ack_ucb_12_do': 43.795439776869124,\n",
       " 'ack_ucb_14_do': 43.69774374294514,\n",
       " 'ack_ei_8_io': 43.50113346991104,\n",
       " 'ack_ei_12_io': 43.97366024798697,\n",
       " 'ack_ei_14_io': 43.52575272920731,\n",
       " 'ack_pi_8_io': 43.68937814497198,\n",
       " 'ack_pi_12_io': 43.96046632679099,\n",
       " 'ack_pi_14_io': 43.740800003061565,\n",
       " 'ack_ucb_8_io': 43.823893421505424,\n",
       " 'ack_ucb_12_io': 44.07476773353271,\n",
       " 'ack_ucb_14_io': 44.033862440710664}"
      ]
     },
     "execution_count": 204,
     "metadata": {},
     "output_type": "execute_result"
    }
   ],
   "source": [
    "best_value_mean(ackley_results)\n"
   ]
  },
  {
   "cell_type": "code",
   "execution_count": 205,
   "metadata": {},
   "outputs": [
    {
     "data": {
      "text/plain": [
       "{'ack_ei_8_ff': (37.4, 17.953272682160208),\n",
       " 'ack_ei_12_ff': (31.38, 15.074335806263571),\n",
       " 'ack_ei_14_ff': (23.04, 15.455691508308519),\n",
       " 'ack_pi_8_ff': (36.32, 17.5036453346153),\n",
       " 'ack_pi_12_ff': (35.4, 16.706884808365682),\n",
       " 'ack_pi_14_ff': (24.8, 13.455110553243331),\n",
       " 'ack_ei_8_rd': (48.58, 15.552607498422892),\n",
       " 'ack_ei_12_rd': (51.46, 11.660548872158635),\n",
       " 'ack_ei_14_rd': (53.02, 17.029961832018298),\n",
       " 'ack_pi_8_rd': (46.96, 17.321616552735488),\n",
       " 'ack_pi_12_rd': (47.5, 19.530744993471192),\n",
       " 'ack_pi_14_rd': (52.48, 17.356543434681917),\n",
       " 'ack_ucb_8_ff': (40.94, 20.078256896453933),\n",
       " 'ack_ucb_12_ff': (39.82, 16.81391090734098),\n",
       " 'ack_ucb_14_ff': (20.36, 15.473538703218471),\n",
       " 'ack_ucb_8_rd': (47.4, 19.31010098368209),\n",
       " 'ack_ucb_12_rd': (47.0, 17.003529045465825),\n",
       " 'ack_ucb_14_rd': (54.04, 15.746694891309732),\n",
       " 'ack_ei_8_do': (52.18, 18.673714145825407),\n",
       " 'ack_ei_12_do': (55.0, 16.870091878825082),\n",
       " 'ack_ei_14_do': (51.38, 15.73517079665804),\n",
       " 'ack_pi_8_do': (55.96, 17.1906486206891),\n",
       " 'ack_pi_12_do': (57.98, 13.949179187321382),\n",
       " 'ack_pi_14_do': (53.58, 17.348302510620456),\n",
       " 'ack_ucb_8_do': (60.72, 18.66337590040987),\n",
       " 'ack_ucb_12_do': (56.62, 16.823661908157806),\n",
       " 'ack_ucb_14_do': (52.46, 17.989118933399713),\n",
       " 'ack_ei_8_io': (46.38, 19.393700007992287),\n",
       " 'ack_ei_12_io': (49.46, 16.41244649648553),\n",
       " 'ack_ei_14_io': (51.0, 18.785100478836945),\n",
       " 'ack_pi_8_io': (44.84, 20.08717003462658),\n",
       " 'ack_pi_12_io': (49.68, 15.672191933485246),\n",
       " 'ack_pi_14_io': (51.5, 12.99576854210631),\n",
       " 'ack_ucb_8_io': (49.02, 14.789847869400145),\n",
       " 'ack_ucb_12_io': (53.0, 15.894653189044421),\n",
       " 'ack_ucb_14_io': (52.14, 16.20371562327604)}"
      ]
     },
     "execution_count": 205,
     "metadata": {},
     "output_type": "execute_result"
    }
   ],
   "source": [
    "best_iter_mean(ackley_results)"
   ]
  },
  {
   "cell_type": "code",
   "execution_count": 206,
   "metadata": {},
   "outputs": [
    {
     "data": {
      "text/plain": [
       "{'sch_ei_8_ff': 28.936597456778845,\n",
       " 'sch_ei_12_ff': 27.41386581793992,\n",
       " 'sch_ei_14_ff': 27.171067532026182,\n",
       " 'sch_pi_8_ff': 29.099780278721834,\n",
       " 'sch_pi_12_ff': 26.84816580010093,\n",
       " 'sch_pi_14_ff': 27.703826962470085,\n",
       " 'sch_ei_8_rd': 27.949298521715942,\n",
       " 'sch_ei_12_rd': 28.114919306055686,\n",
       " 'sch_ei_14_rd': 28.418898536639727,\n",
       " 'sch_pi_8_rd': 28.118104665569852,\n",
       " 'sch_pi_12_rd': 27.438239691014175,\n",
       " 'sch_pi_14_rd': 28.547807574903505,\n",
       " 'sch_ucb_8_ff': 28.581846295998254,\n",
       " 'sch_ucb_12_ff': 27.37324728809239,\n",
       " 'sch_ucb_14_ff': 27.577820804016156,\n",
       " 'sch_ucb_8_rd': 28.01305421106039,\n",
       " 'sch_ucb_12_rd': 27.955309114441228,\n",
       " 'sch_ucb_14_rd': 28.29295443069942,\n",
       " 'sch_ei_8_do': 29.4701174959829,\n",
       " 'sch_ei_12_do': 29.41452834946106,\n",
       " 'sch_ei_14_do': 29.40676546452521,\n",
       " 'sch_pi_8_do': 29.366225631511725,\n",
       " 'sch_pi_12_do': 28.93464736642989,\n",
       " 'sch_pi_14_do': 29.549685364602446,\n",
       " 'sch_ucb_8_do': 28.40828410610699,\n",
       " 'sch_ucb_12_do': 29.235447874765967,\n",
       " 'sch_ucb_14_do': 29.220182967231718,\n",
       " 'sch_ei_8_io': 27.01443112135745,\n",
       " 'sch_ei_12_io': 27.592212522145797,\n",
       " 'sch_ei_14_io': 27.601250302291287,\n",
       " 'sch_pi_8_io': 27.785037543069926,\n",
       " 'sch_pi_12_io': 27.385455238586506,\n",
       " 'sch_pi_14_io': 27.385956220281333,\n",
       " 'sch_ucb_8_io': 27.027838475150606,\n",
       " 'sch_ucb_12_io': 27.823251715472463,\n",
       " 'sch_ucb_14_io': 27.989917866106076}"
      ]
     },
     "execution_count": 206,
     "metadata": {},
     "output_type": "execute_result"
    }
   ],
   "source": [
    "best_value_mean(schaffer_results)"
   ]
  },
  {
   "cell_type": "code",
   "execution_count": 207,
   "metadata": {},
   "outputs": [
    {
     "data": {
      "text/plain": [
       "{'sch_ei_8_ff': (37.88, 19.602693692449517),\n",
       " 'sch_ei_12_ff': (24.38, 14.123583114776505),\n",
       " 'sch_ei_14_ff': (27.02, 20.647023998629926),\n",
       " 'sch_pi_8_ff': (38.9, 23.068810112357333),\n",
       " 'sch_pi_12_ff': (25.08, 19.00088418995285),\n",
       " 'sch_pi_14_ff': (25.74, 17.20675448770046),\n",
       " 'sch_ei_8_rd': (28.5, 17.765415840897166),\n",
       " 'sch_ei_12_rd': (36.26, 21.03027341714796),\n",
       " 'sch_ei_14_rd': (28.2, 17.847128620593285),\n",
       " 'sch_pi_8_rd': (29.46, 19.326882831951977),\n",
       " 'sch_pi_12_rd': (34.78, 19.736554917208828),\n",
       " 'sch_pi_14_rd': (29.04, 19.7250703420799),\n",
       " 'sch_ucb_8_ff': (41.48, 22.815994389901135),\n",
       " 'sch_ucb_12_ff': (24.52, 17.387627785296072),\n",
       " 'sch_ucb_14_ff': (21.12, 15.107137386017246),\n",
       " 'sch_ucb_8_rd': (26.84, 14.68381421838345),\n",
       " 'sch_ucb_12_rd': (27.24, 17.518630083428327),\n",
       " 'sch_ucb_14_rd': (28.3, 17.10701610451104),\n",
       " 'sch_ei_8_do': (40.22, 19.84367909436151),\n",
       " 'sch_ei_12_do': (38.5, 19.753733824267247),\n",
       " 'sch_ei_14_do': (38.64, 19.66698756800339),\n",
       " 'sch_pi_8_do': (41.72, 19.810138818292014),\n",
       " 'sch_pi_12_do': (39.28, 18.75424218676937),\n",
       " 'sch_pi_14_do': (45.2, 21.361647876509902),\n",
       " 'sch_ucb_8_do': (40.58, 21.6111915451231),\n",
       " 'sch_ucb_12_do': (43.28, 20.618477150362004),\n",
       " 'sch_ucb_14_do': (34.88, 18.682226847996468),\n",
       " 'sch_ei_8_io': (24.98, 16.576477309730194),\n",
       " 'sch_ei_12_io': (27.86, 20.159374990311576),\n",
       " 'sch_ei_14_io': (32.06, 23.185693864967682),\n",
       " 'sch_pi_8_io': (28.82, 19.278682527600274),\n",
       " 'sch_pi_12_io': (27.94, 19.42720772524966),\n",
       " 'sch_pi_14_io': (26.78, 20.607076454460977),\n",
       " 'sch_ucb_8_io': (23.3, 18.001388835309346),\n",
       " 'sch_ucb_12_io': (32.8, 19.580602646496864),\n",
       " 'sch_ucb_14_io': (28.42, 23.1327387051339)}"
      ]
     },
     "execution_count": 207,
     "metadata": {},
     "output_type": "execute_result"
    }
   ],
   "source": [
    "best_iter_mean(schaffer_results)"
   ]
  }
 ],
 "metadata": {
  "kernelspec": {
   "display_name": "KURF",
   "language": "python",
   "name": "python3"
  },
  "language_info": {
   "codemirror_mode": {
    "name": "ipython",
    "version": 3
   },
   "file_extension": ".py",
   "mimetype": "text/x-python",
   "name": "python",
   "nbconvert_exporter": "python",
   "pygments_lexer": "ipython3",
   "version": "3.11.5"
  },
  "orig_nbformat": 4
 },
 "nbformat": 4,
 "nbformat_minor": 2
}
